{
  "nbformat": 4,
  "nbformat_minor": 0,
  "metadata": {
    "colab": {
      "provenance": [],
      "include_colab_link": true
    },
    "kernelspec": {
      "name": "python3",
      "display_name": "Python 3"
    },
    "language_info": {
      "name": "python"
    }
  },
  "cells": [
    {
      "cell_type": "markdown",
      "metadata": {
        "id": "view-in-github",
        "colab_type": "text"
      },
      "source": [
        "<a href=\"https://colab.research.google.com/github/AnnSenina/databases_stat_2023/blob/main/notebooks/%D0%91%D0%BE%D1%82%D1%8B_%D0%BF%D1%80%D0%BE%D1%84%D0%BB%D0%B0%D0%B3%D0%B5%D1%80%D1%8C.ipynb\" target=\"_parent\"><img src=\"https://colab.research.google.com/assets/colab-badge.svg\" alt=\"Open In Colab\"/></a>"
      ]
    },
    {
      "cell_type": "markdown",
      "source": [
        "# Чат-боты\n",
        "\n",
        "Для настроения, сначала смотрим [ролик](https://www.youtube.com/watch?v=M1sQmZrDBz4) (Из сериала \"Детство Шелдона\", один из первых чат-ботов Eliza)\n",
        "\n",
        "А вот [забавная имитация](https://web.njit.edu/~ronkowit/eliza.html) Элизы"
      ],
      "metadata": {
        "id": "DFb4Bi3cMZcG"
      }
    },
    {
      "cell_type": "markdown",
      "source": [
        "## Установим библиотеки\n",
        "\n",
        "Просто запустите команды ниже"
      ],
      "metadata": {
        "id": "uTNXlsUjSWXG"
      }
    },
    {
      "cell_type": "code",
      "source": [
        "pip install pytelegrambotapi"
      ],
      "metadata": {
        "id": "oLDarhv4zTC9"
      },
      "execution_count": null,
      "outputs": []
    },
    {
      "cell_type": "code",
      "source": [
        "import telebot\n",
        "from telebot import types"
      ],
      "metadata": {
        "id": "lu0qni_aL-Gz"
      },
      "execution_count": null,
      "outputs": []
    },
    {
      "cell_type": "markdown",
      "source": [
        "Создайте бота в телеграме с помощью @BotFather https://t.me/BotFather\n",
        "\n",
        "Получите у него токен"
      ],
      "metadata": {
        "id": "0K7FQ2jJSkPt"
      }
    },
    {
      "cell_type": "code",
      "source": [
        "#@title Вставьте токен бота сюда и нажмите слева запуск\n",
        "your_bot = \"\" #@param {type:\"string\"}\n",
        "print('Ваш бот запущен, проверьте в tg')"
      ],
      "metadata": {
        "id": "kxBnmAe4lB8B",
        "cellView": "form"
      },
      "execution_count": null,
      "outputs": []
    },
    {
      "cell_type": "code",
      "source": [
        "bot = telebot.TeleBot(your_bot)"
      ],
      "metadata": {
        "id": "Mw9mlWGMSjXn"
      },
      "execution_count": null,
      "outputs": []
    },
    {
      "cell_type": "code",
      "source": [
        "@bot.message_handler(commands=[\"start\"])\n",
        "def start(message, res=False):\n",
        "  bot.send_message(message.chat.id, 'Добрый день! Это пробный бот занятия. Давайте посмотрим, как это работает :)')"
      ],
      "metadata": {
        "id": "dTmJ0cR9VGV-"
      },
      "execution_count": null,
      "outputs": []
    },
    {
      "cell_type": "code",
      "source": [
        "# Запускаем бота\n",
        "bot.polling(none_stop=True, interval=0)"
      ],
      "metadata": {
        "id": "oksejD3Jo1I_"
      },
      "execution_count": null,
      "outputs": []
    },
    {
      "cell_type": "markdown",
      "source": [
        "## Что умеет бот?"
      ],
      "metadata": {
        "id": "gVq5Pq3qS4A6"
      }
    },
    {
      "cell_type": "markdown",
      "source": [
        "Например, пусть бот кратко рассказывает о сегодняшней встрече"
      ],
      "metadata": {
        "id": "0-sLEkBnS7FL"
      }
    },
    {
      "cell_type": "code",
      "source": [
        "text1 = 'Продумайте сценарий бота: лучше нарисуйте схему его работы - это поможет' \n",
        "text2 = 'Если требуется реализовать что-то более сложное: скорее зовите преподавателя, подумаем вместе'\n",
        "text3 = 'Бот должен уметь общаться с пользователем: всегда думайте о пользователе'\n",
        "text4 = 'В любой исторической теме можно найти интересный сюжет!'\n",
        "text5 = 'После завершения пары проведем мини-презентацию работ: потестируем ваших ботов!'\n",
        "text6 = '(∩｀-´)⊃━☆ﾟ.*･｡ﾟ'\n",
        "text7 = 'Я не понимаю тебя, напиши слово: Помощь'"
      ],
      "metadata": {
        "id": "AA7iE2CBS3xS"
      },
      "execution_count": null,
      "outputs": []
    },
    {
      "cell_type": "code",
      "source": [
        "# Обновите доступ через токен\n",
        "bot = telebot.TeleBot(your_bot)"
      ],
      "metadata": {
        "id": "47CB6lO50lKQ"
      },
      "execution_count": null,
      "outputs": []
    },
    {
      "cell_type": "code",
      "source": [
        "@bot.message_handler(commands=[\"start\"])\n",
        "def start(message, res=False):\n",
        "  bot.send_message(message.chat.id, 'Добрый день! Это пробный бот занятия. Давайте посмотрим, как это работает :) \\nНапиши: Помощь')\n",
        "\n",
        "@bot.message_handler(content_types=[\"text\"])\n",
        "def handle_text(message):\n",
        "  if message.text.strip() == 'Помощь':\n",
        "    bot.send_message(message.chat.id, text1)\n",
        "    bot.send_message(message.chat.id, text2)\n",
        "    bot.send_message(message.chat.id, text3)\n",
        "    bot.send_message(message.chat.id, text4)\n",
        "    bot.send_message(message.chat.id, text5)\n",
        "    bot.send_message(message.chat.id, text6)\n",
        "  else:\n",
        "    bot.send_message(message.chat.id, text7)"
      ],
      "metadata": {
        "id": "1FiFaPynU87i"
      },
      "execution_count": null,
      "outputs": []
    },
    {
      "cell_type": "code",
      "source": [
        "# Запускаем бота\n",
        "bot.polling(none_stop=True, interval=0)"
      ],
      "metadata": {
        "id": "jJwNhUrkycze"
      },
      "execution_count": null,
      "outputs": []
    },
    {
      "cell_type": "markdown",
      "source": [
        "## Импровизируем!"
      ],
      "metadata": {
        "id": "ENDc2nCHymeG"
      }
    },
    {
      "cell_type": "code",
      "source": [
        "# Для примера я использую картинку, ее можно скачать здесь: https://github.com/AnnSenina/Other/blob/main/when-should-i-start-to-worry-south-park.gif\n",
        "# Добавьте ее в среду слева\n",
        "# А можно добавить лого бота, обратившись к @BotFather\n",
        "# Мое лого такое: https://github.com/AnnSenina/Other/blob/main/Python%20for%20the%20Humanities%20Data%20and%20Stories%20(2).jpg"
      ],
      "metadata": {
        "id": "V7mQny2Z0_5w"
      },
      "execution_count": null,
      "outputs": []
    },
    {
      "cell_type": "code",
      "source": [
        "# Обновите доступ через токен\n",
        "bot = telebot.TeleBot(your_bot)\n",
        "\n",
        "@bot.message_handler(commands=[\"start\"])\n",
        "def start(message):\n",
        "  markup=types.ReplyKeyboardMarkup(resize_keyboard=True)\n",
        "  item1=types.KeyboardButton(\"Помощь\")\n",
        "  item2=types.KeyboardButton(\"Когда нужно начинать переживать?\")\n",
        "  markup.row(item1)\n",
        "  markup.row(item2)\n",
        "  bot.send_message(message.chat.id, 'Добрый день! Это пробный бот занятия. Давайте посмотрим, как это работает :)', reply_markup=markup)\n",
        "\n",
        "@bot.message_handler(content_types=[\"text\"])\n",
        "def handle_text(message):\n",
        "  if message.text.strip() == 'Помощь':\n",
        "    bot.send_message(message.chat.id, 'Напечатай это')\n",
        "    bot.send_message(message.chat.id, text2)\n",
        "    bot.send_message(message.chat.id, text3)\n",
        "    bot.send_message(message.chat.id, text4)\n",
        "    bot.send_message(message.chat.id, text5)\n",
        "    bot.send_message(message.chat.id, text6)\n",
        "  elif message.text.strip() == 'Когда нужно начинать переживать?':\n",
        "    img = open('when-should-i-start-to-worry-south-park.gif', 'rb')\n",
        "    bot.send_animation(message.chat.id, img)\n",
        "    answer = 'Не нужно переживать! Вот статистика сдачи Python историками 1 курса в прошлом году: \\nhttps://datastudio.google.com/reporting/62fc58aa-6cb0-4bb3-986b-5c6bd4bcf006 \\nМы тоже справимся'\n",
        "    bot.send_message(message.chat.id, answer)\n",
        "  elif message.text.strip() == 'Тестик':\n",
        "    answer = 'Мой любимый тестик по истории тут: https://arzamas.academy/materials/835\\nОн очень вдохновляет! 😏'\n",
        "    bot.send_message(message.chat.id, answer)\n",
        "  elif message.text.strip() == 'Боты':\n",
        "    answer = 'Вот так выглядит python-реализация нашего бота: \\nhttps://bit.ly/botHSE'\n",
        "    bot.send_message(message.chat.id, answer)\n",
        "  elif message.text.strip() == 'Игры':\n",
        "    answer1 = 'Общие идеи по созданию своей игры - в тетрадке: \\nhttps://colab.research.google.com/drive/1bIfMrzV4-3yJO9MDLQu4jDIFIWH278ZE?usp=sharing\\nНо сегодня мы занимаемся ботами ^^.'\n",
        "    answer2 = 'Вот здесь я рассказываю об играх, которые программируют историки в Вышке: https://perm.hse.ru/news/695281687.html'\n",
        "    answer3 = 'А вот ссылка на файлы: https://bit.ly/gamesHSE \\nВы можете попробовать запустить игры дома, но для этого нужно сначала скачать и установить на компьютер RenPy: https://www.renpy.org/'\n",
        "    answer4 = 'Чтобы игра запустилась, скачайте, распакуйте папку с игрой, затем в RenPy зайдите в настройки и укажите путь до папки с игрой на вашем компьютере'\n",
        "    answer5 = 'А если не запустилось, но очень хочется, напишите мне в телеграм: @avsenina'\n",
        "    bot.send_message(message.chat.id, answer1)\n",
        "    bot.send_message(message.chat.id, answer2)\n",
        "    bot.send_message(message.chat.id, answer3)\n",
        "    bot.send_message(message.chat.id, answer4)\n",
        "    bot.send_message(message.chat.id, answer5)\n",
        "  else:\n",
        "    bot.send_message(message.chat.id, \"Бот не знает, что нужно ответить\")\n",
        "\n",
        "# Запускаем бота\n",
        "bot.polling(none_stop=True, interval=0)"
      ],
      "metadata": {
        "id": "8tJhh-mectV9"
      },
      "execution_count": null,
      "outputs": []
    },
    {
      "cell_type": "code",
      "source": [
        "# давайте добавим новый бот, попроще, но собирающий информацию о пользователе\n",
        "with open('users.csv', 'w', encoding='utf-8') as f:\n",
        "    print(*['id', 'first_name', 'last_name', 'nickname', 'message'], sep='\\t', file=f)"
      ],
      "metadata": {
        "id": "VU2oGQsB2yrG"
      },
      "execution_count": null,
      "outputs": []
    },
    {
      "cell_type": "code",
      "source": [
        "# Обновите доступ через токен\n",
        "bot = telebot.TeleBot(your_bot)\n",
        "\n",
        "@bot.message_handler(commands=[\"start\"])\n",
        "def start(message):\n",
        "  bot.send_message(message.chat.id, 'Добрый день! Этот бот будет учиться собирать информацию о пользователе')\n",
        "  bot.send_message(message.chat.id, 'Хотите ли вы присоединиться к нашей команде?')\n",
        "  \n",
        "@bot.message_handler(content_types=[\"text\"])\n",
        "def handle_text(message):  \n",
        "  user = message.chat.id, message.from_user.first_name, message.from_user.last_name, message.from_user.username, message.text\n",
        "  with open('users.csv', 'a', encoding='utf-8') as f:\n",
        "    print(*user, sep='\\t', file=f)\n",
        "\n",
        "# Запускаем бота\n",
        "bot.polling(none_stop=True, interval=0)"
      ],
      "metadata": {
        "id": "aT5YiadlyFAS"
      },
      "execution_count": null,
      "outputs": []
    },
    {
      "cell_type": "code",
      "source": [
        "import pandas as pd\n",
        "df_user = pd.read_csv('users.csv', sep='\\t')\n",
        "df_user"
      ],
      "metadata": {
        "id": "9iaROngG5EnJ",
        "colab": {
          "base_uri": "https://localhost:8080/",
          "height": 394
        },
        "outputId": "280a55de-29f5-4de2-ac4f-13f89e9c2168"
      },
      "execution_count": null,
      "outputs": [
        {
          "output_type": "execute_result",
          "data": {
            "text/plain": [
              "           id first_name   last_name          nickname              message\n",
              "0   952101366      Maria  Kusnetsova      koshki_litke          Все молчишь\n",
              "1   674649097       Анна      Сенина          avsenina      Новое сообщение\n",
              "2   952101366      Maria  Kusnetsova      koshki_litke                   :)\n",
              "3   674649097       Анна      Сенина          avsenina                  Да!\n",
              "4   952101366      Maria  Kusnetsova      koshki_litke                Бооот\n",
              "5   292119549    Евгений    Сафронов       ev_safronov                    😍\n",
              "6   674649097       Анна      Сенина          avsenina        Возможно.....\n",
              "7   153048671       Анна        None  AnyaAnechkaAnyta               ❤️❤️❤️\n",
              "8   952101366      Maria  Kusnetsova      koshki_litke  Хочу присоединиться\n",
              "9   153048671       Анна        None  AnyaAnechkaAnyta         Добрый вечер\n",
              "10  952101366      Maria  Kusnetsova      koshki_litke                   Эх"
            ],
            "text/html": [
              "\n",
              "  <div id=\"df-827a7964-6dbf-4e71-9ae1-a5e7df791768\">\n",
              "    <div class=\"colab-df-container\">\n",
              "      <div>\n",
              "<style scoped>\n",
              "    .dataframe tbody tr th:only-of-type {\n",
              "        vertical-align: middle;\n",
              "    }\n",
              "\n",
              "    .dataframe tbody tr th {\n",
              "        vertical-align: top;\n",
              "    }\n",
              "\n",
              "    .dataframe thead th {\n",
              "        text-align: right;\n",
              "    }\n",
              "</style>\n",
              "<table border=\"1\" class=\"dataframe\">\n",
              "  <thead>\n",
              "    <tr style=\"text-align: right;\">\n",
              "      <th></th>\n",
              "      <th>id</th>\n",
              "      <th>first_name</th>\n",
              "      <th>last_name</th>\n",
              "      <th>nickname</th>\n",
              "      <th>message</th>\n",
              "    </tr>\n",
              "  </thead>\n",
              "  <tbody>\n",
              "    <tr>\n",
              "      <th>0</th>\n",
              "      <td>952101366</td>\n",
              "      <td>Maria</td>\n",
              "      <td>Kusnetsova</td>\n",
              "      <td>koshki_litke</td>\n",
              "      <td>Все молчишь</td>\n",
              "    </tr>\n",
              "    <tr>\n",
              "      <th>1</th>\n",
              "      <td>674649097</td>\n",
              "      <td>Анна</td>\n",
              "      <td>Сенина</td>\n",
              "      <td>avsenina</td>\n",
              "      <td>Новое сообщение</td>\n",
              "    </tr>\n",
              "    <tr>\n",
              "      <th>2</th>\n",
              "      <td>952101366</td>\n",
              "      <td>Maria</td>\n",
              "      <td>Kusnetsova</td>\n",
              "      <td>koshki_litke</td>\n",
              "      <td>:)</td>\n",
              "    </tr>\n",
              "    <tr>\n",
              "      <th>3</th>\n",
              "      <td>674649097</td>\n",
              "      <td>Анна</td>\n",
              "      <td>Сенина</td>\n",
              "      <td>avsenina</td>\n",
              "      <td>Да!</td>\n",
              "    </tr>\n",
              "    <tr>\n",
              "      <th>4</th>\n",
              "      <td>952101366</td>\n",
              "      <td>Maria</td>\n",
              "      <td>Kusnetsova</td>\n",
              "      <td>koshki_litke</td>\n",
              "      <td>Бооот</td>\n",
              "    </tr>\n",
              "    <tr>\n",
              "      <th>5</th>\n",
              "      <td>292119549</td>\n",
              "      <td>Евгений</td>\n",
              "      <td>Сафронов</td>\n",
              "      <td>ev_safronov</td>\n",
              "      <td>😍</td>\n",
              "    </tr>\n",
              "    <tr>\n",
              "      <th>6</th>\n",
              "      <td>674649097</td>\n",
              "      <td>Анна</td>\n",
              "      <td>Сенина</td>\n",
              "      <td>avsenina</td>\n",
              "      <td>Возможно.....</td>\n",
              "    </tr>\n",
              "    <tr>\n",
              "      <th>7</th>\n",
              "      <td>153048671</td>\n",
              "      <td>Анна</td>\n",
              "      <td>None</td>\n",
              "      <td>AnyaAnechkaAnyta</td>\n",
              "      <td>❤️❤️❤️</td>\n",
              "    </tr>\n",
              "    <tr>\n",
              "      <th>8</th>\n",
              "      <td>952101366</td>\n",
              "      <td>Maria</td>\n",
              "      <td>Kusnetsova</td>\n",
              "      <td>koshki_litke</td>\n",
              "      <td>Хочу присоединиться</td>\n",
              "    </tr>\n",
              "    <tr>\n",
              "      <th>9</th>\n",
              "      <td>153048671</td>\n",
              "      <td>Анна</td>\n",
              "      <td>None</td>\n",
              "      <td>AnyaAnechkaAnyta</td>\n",
              "      <td>Добрый вечер</td>\n",
              "    </tr>\n",
              "    <tr>\n",
              "      <th>10</th>\n",
              "      <td>952101366</td>\n",
              "      <td>Maria</td>\n",
              "      <td>Kusnetsova</td>\n",
              "      <td>koshki_litke</td>\n",
              "      <td>Эх</td>\n",
              "    </tr>\n",
              "  </tbody>\n",
              "</table>\n",
              "</div>\n",
              "      <button class=\"colab-df-convert\" onclick=\"convertToInteractive('df-827a7964-6dbf-4e71-9ae1-a5e7df791768')\"\n",
              "              title=\"Convert this dataframe to an interactive table.\"\n",
              "              style=\"display:none;\">\n",
              "        \n",
              "  <svg xmlns=\"http://www.w3.org/2000/svg\" height=\"24px\"viewBox=\"0 0 24 24\"\n",
              "       width=\"24px\">\n",
              "    <path d=\"M0 0h24v24H0V0z\" fill=\"none\"/>\n",
              "    <path d=\"M18.56 5.44l.94 2.06.94-2.06 2.06-.94-2.06-.94-.94-2.06-.94 2.06-2.06.94zm-11 1L8.5 8.5l.94-2.06 2.06-.94-2.06-.94L8.5 2.5l-.94 2.06-2.06.94zm10 10l.94 2.06.94-2.06 2.06-.94-2.06-.94-.94-2.06-.94 2.06-2.06.94z\"/><path d=\"M17.41 7.96l-1.37-1.37c-.4-.4-.92-.59-1.43-.59-.52 0-1.04.2-1.43.59L10.3 9.45l-7.72 7.72c-.78.78-.78 2.05 0 2.83L4 21.41c.39.39.9.59 1.41.59.51 0 1.02-.2 1.41-.59l7.78-7.78 2.81-2.81c.8-.78.8-2.07 0-2.86zM5.41 20L4 18.59l7.72-7.72 1.47 1.35L5.41 20z\"/>\n",
              "  </svg>\n",
              "      </button>\n",
              "      \n",
              "  <style>\n",
              "    .colab-df-container {\n",
              "      display:flex;\n",
              "      flex-wrap:wrap;\n",
              "      gap: 12px;\n",
              "    }\n",
              "\n",
              "    .colab-df-convert {\n",
              "      background-color: #E8F0FE;\n",
              "      border: none;\n",
              "      border-radius: 50%;\n",
              "      cursor: pointer;\n",
              "      display: none;\n",
              "      fill: #1967D2;\n",
              "      height: 32px;\n",
              "      padding: 0 0 0 0;\n",
              "      width: 32px;\n",
              "    }\n",
              "\n",
              "    .colab-df-convert:hover {\n",
              "      background-color: #E2EBFA;\n",
              "      box-shadow: 0px 1px 2px rgba(60, 64, 67, 0.3), 0px 1px 3px 1px rgba(60, 64, 67, 0.15);\n",
              "      fill: #174EA6;\n",
              "    }\n",
              "\n",
              "    [theme=dark] .colab-df-convert {\n",
              "      background-color: #3B4455;\n",
              "      fill: #D2E3FC;\n",
              "    }\n",
              "\n",
              "    [theme=dark] .colab-df-convert:hover {\n",
              "      background-color: #434B5C;\n",
              "      box-shadow: 0px 1px 3px 1px rgba(0, 0, 0, 0.15);\n",
              "      filter: drop-shadow(0px 1px 2px rgba(0, 0, 0, 0.3));\n",
              "      fill: #FFFFFF;\n",
              "    }\n",
              "  </style>\n",
              "\n",
              "      <script>\n",
              "        const buttonEl =\n",
              "          document.querySelector('#df-827a7964-6dbf-4e71-9ae1-a5e7df791768 button.colab-df-convert');\n",
              "        buttonEl.style.display =\n",
              "          google.colab.kernel.accessAllowed ? 'block' : 'none';\n",
              "\n",
              "        async function convertToInteractive(key) {\n",
              "          const element = document.querySelector('#df-827a7964-6dbf-4e71-9ae1-a5e7df791768');\n",
              "          const dataTable =\n",
              "            await google.colab.kernel.invokeFunction('convertToInteractive',\n",
              "                                                     [key], {});\n",
              "          if (!dataTable) return;\n",
              "\n",
              "          const docLinkHtml = 'Like what you see? Visit the ' +\n",
              "            '<a target=\"_blank\" href=https://colab.research.google.com/notebooks/data_table.ipynb>data table notebook</a>'\n",
              "            + ' to learn more about interactive tables.';\n",
              "          element.innerHTML = '';\n",
              "          dataTable['output_type'] = 'display_data';\n",
              "          await google.colab.output.renderOutput(dataTable, element);\n",
              "          const docLink = document.createElement('div');\n",
              "          docLink.innerHTML = docLinkHtml;\n",
              "          element.appendChild(docLink);\n",
              "        }\n",
              "      </script>\n",
              "    </div>\n",
              "  </div>\n",
              "  "
            ]
          },
          "metadata": {},
          "execution_count": 13
        }
      ]
    },
    {
      "cell_type": "markdown",
      "source": [
        "Документация [здесь](https://pytba.readthedocs.io/ru/latest/sync_version/index.html)"
      ],
      "metadata": {
        "id": "oWenYluM1Cfe"
      }
    }
  ]
}