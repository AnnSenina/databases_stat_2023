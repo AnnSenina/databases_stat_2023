{
  "nbformat": 4,
  "nbformat_minor": 0,
  "metadata": {
    "colab": {
      "provenance": [],
      "include_colab_link": true
    },
    "kernelspec": {
      "name": "python3",
      "display_name": "Python 3"
    },
    "language_info": {
      "name": "python"
    }
  },
  "cells": [
    {
      "cell_type": "markdown",
      "metadata": {
        "id": "view-in-github",
        "colab_type": "text"
      },
      "source": [
        "<a href=\"https://colab.research.google.com/github/AnnSenina/databases_stat_2023/blob/main/notebooks/XML_%D0%B8_Python.ipynb\" target=\"_parent\"><img src=\"https://colab.research.google.com/assets/colab-badge.svg\" alt=\"Open In Colab\"/></a>"
      ]
    },
    {
      "cell_type": "markdown",
      "source": [
        "# 1. XML и Beautiful Soup"
      ],
      "metadata": {
        "id": "azN2sP6o8ld-"
      }
    },
    {
      "cell_type": "code",
      "source": [
        "import requests\n",
        "from bs4 import BeautifulSoup\n",
        "import pandas as pd"
      ],
      "metadata": {
        "id": "xaSMYNId8zG6"
      },
      "execution_count": 2,
      "outputs": []
    },
    {
      "cell_type": "markdown",
      "metadata": {
        "id": "316fYmLoy8Ko"
      },
      "source": [
        "## BeautifulSoup - парсер прежде всего html\n",
        "\n",
        "Но и с xml умеет работать - причем будет работать даже лучше, есои явно указать, что у нас xml"
      ]
    },
    {
      "cell_type": "code",
      "source": [
        "markup = '''\n",
        "<html>\n",
        "    <head>\n",
        "        <title>Устав ООН</title>\n",
        "    </head>\n",
        "    <body>\n",
        "        <h1>Преамбула</h1>\n",
        "        <p>Мы, народы объединенных наций, преисполненные решимости <b>избавить грядущие поколения \n",
        "        от бедствий войны</b>, дважды в нашей жизни принесшей человечеству невыразимое горе, \n",
        "        и  вновь утвердить веру в основные права человека, в достоинство и ценность человеческой личности, \n",
        "        в равноправие мужчин и женщин и в <b>равенство прав больших и малых наций</b>, \n",
        "        и  создать условия, при которых могут соблюдаться справедливость и уважение к обязательствам, \n",
        "        вытекающим из договоров и других источников международного права, и  \n",
        "        содействовать социальному прогрессу и улучшению условий жизни при большей свободе</p>\n",
        "    </body>\n",
        "</html>\n",
        "'''\n",
        "soup = BeautifulSoup(markup, 'xml')\n",
        "print(soup.prettify())"
      ],
      "metadata": {
        "id": "LRuXSylZ97FL"
      },
      "execution_count": null,
      "outputs": []
    },
    {
      "cell_type": "code",
      "metadata": {
        "id": "f-gspsDFB3dR"
      },
      "source": [
        "soup.title"
      ],
      "execution_count": null,
      "outputs": []
    },
    {
      "cell_type": "code",
      "metadata": {
        "id": "N61YaIrfB8E1"
      },
      "source": [
        "soup.title.text"
      ],
      "execution_count": null,
      "outputs": []
    },
    {
      "cell_type": "code",
      "metadata": {
        "id": "_E74xVZKCAdy"
      },
      "source": [
        "soup.p.text"
      ],
      "execution_count": null,
      "outputs": []
    },
    {
      "cell_type": "markdown",
      "metadata": {
        "id": "c4IdDjHTDVmj"
      },
      "source": [
        "### ⛳ 💻 Пример в коде\n",
        "парсим XML"
      ]
    },
    {
      "cell_type": "markdown",
      "metadata": {
        "id": "OEKw4-L6Q7Bn"
      },
      "source": [
        "Вот здесь лежит TEI/XML с пьесой \"Смерть Иоанна Грозного\": https://dracor.org/api/corpora/rus/play/tolstoy-smert-ioanna-groznogo/tei\n"
      ]
    },
    {
      "cell_type": "code",
      "metadata": {
        "id": "_NPMKS0JfIEJ"
      },
      "source": [
        "grozniy_xml_as_text = requests.get('https://dracor.org/api/corpora/rus/play/tolstoy-smert-ioanna-groznogo/tei').text"
      ],
      "execution_count": 13,
      "outputs": []
    },
    {
      "cell_type": "code",
      "metadata": {
        "id": "v00Te0f2sUpA"
      },
      "source": [
        "soup = BeautifulSoup(grozniy_xml_as_text, 'xml')"
      ],
      "execution_count": 14,
      "outputs": []
    },
    {
      "cell_type": "code",
      "source": [
        "soup"
      ],
      "metadata": {
        "id": "NQDPDuHn0qRv"
      },
      "execution_count": null,
      "outputs": []
    },
    {
      "cell_type": "code",
      "source": [
        "soup.title.text"
      ],
      "metadata": {
        "id": "XH-6P1LuAjV1"
      },
      "execution_count": null,
      "outputs": []
    },
    {
      "cell_type": "code",
      "source": [
        "soup.author"
      ],
      "metadata": {
        "id": "WU2bc-r8AuGn"
      },
      "execution_count": null,
      "outputs": []
    },
    {
      "cell_type": "markdown",
      "source": [
        "Давайте вытащим из этого xml все элементы `<sp>` (реплика персонажа), внутри которых есть `<stage>` (авторская ремарка) с текстом содержащим слово уход, уходить, уходят и т.п. Сделаем датафрейм такого вида: \n",
        "\n",
        "<img src=\"https://github.com/Python-4-Digital-Humanities/data_for_classes/raw/main/xml/task_version1.png\">"
      ],
      "metadata": {
        "id": "9x0bJN949VfQ"
      }
    },
    {
      "cell_type": "code",
      "source": [
        "all_data = []\n",
        "\n",
        "for stage in soup.find_all('stage'):\n",
        "    parent = stage.parent\n",
        "    if parent.name == 'sp' and 'уход' in stage.text:\n",
        "        who_speaks = parent['who']\n",
        "        stage_text = stage.text\n",
        "        entire_text = parent.text \n",
        "        all_data.append({'кто говорит': who_speaks, 'авторская ремарка': stage_text, 'полный текст реплики': entire_text})\n",
        "\n",
        "pd.DataFrame(all_data)"
      ],
      "metadata": {
        "id": "M1OVuMFe7IDa"
      },
      "execution_count": null,
      "outputs": []
    },
    {
      "cell_type": "markdown",
      "source": [
        "# 2. Язык XML, язык запросов `xPath` и библиотека `lxml`"
      ],
      "metadata": {
        "id": "zC3NROU58poi"
      }
    },
    {
      "cell_type": "markdown",
      "metadata": {
        "id": "hD7mzaG-iOwR"
      },
      "source": [
        "XML — это древесная структура с четкой иерархической вложенностью элементов. Теги вложены в другие теги примерно как папки на компьютере:\n",
        "\n",
        "<img src=\"http://docs.vizrt.com/graphic-hub-guide/2.3/graphics/tree.png\">\n",
        "\n",
        "Так почему бы нам не использовать тот же подход, что при писании путей? \n",
        "\n",
        "Ведь на компьютере мы можем выражать пути вот так: \n",
        "\n",
        "<img src=\"data:image/png;base64,iVBORw0KGgoAAAANSUhEUgAAAUsAAACYCAMAAABatDuZAAACc1BMVEX/////wACS0FAAIGDjbAoAsPAAAAD/wgD6+vq1tbXnbgpPT0/d4uR6SS3pbQAAHGEsMUUAEFyAgIGW1VIAZbyGfm+GxUGnoqrWnQA9aADCxs2kQACpqal4eHj09PTX19deXl4AYLqenp6Ih4Y6aIDIyMixtb3d2t+hmZMArO7lqQBcc0YAZ70Abb8AAFYXFxcAWH3A0umDfHhkmSdKTFg5gcYJccDw8PDo7vfh6fRglc671+03gMZvo9WeveCDqtdCQkLIXwkAVrdGi8vF3vCiweIwMDBtbW0Aen2OQwb/zABnrk5qnNF8qNc1NTUjIyMAd4kAnOB3OQaQVgoAeaW6SgWoTwfUZQrrvgDhmAC9dgCNhAB7XwC/oACeZwDQrQBPZCiHuTg1WS1tSmUAAEqcyMmFozC1yuYAUbZ+jJdnc30AlbkAXHsAo/cAh+cAtO0AQ0EAlcsAgb4Akp4AgXcAW18AXaIAVGgAotUAi9wAqf4ALE4AcJ5YMhoAkrEAcq0AQYsAFzYArsIAiq4ASYAAanddIQRTMQbbVgduQwgAp80ARG9XMQfAZgqBNwWyYgolFAJJFgMyJgaTNQRwIwMnAAF+QwdnAABXUQCoiADYigCZnABtUACEcACheACbiQA5OwDEswBZZwCAVACraADPeAB9gwD/rQC7jABTQgBzYgBOUwCyqgDgiACIbwAKPABhbCRgiz16iithpEoxaTRJUB07WiodMhlJfD1ZYoU1OGRik7QACWw8IFhuwVJHM1q239qsjJZUBXFRTYUUOIuRfJhhiKoxAEqszMDCoI2Of6NlNFWZo8iQZW5MDEhPjUVXjQz1x5nbAAAUc0lEQVR4nO2djV8TV7rHQ8RMAlxyY7JAEQMDN9ZyE5DavA15ISQBCUGUFAgoEFBhu9bSulvb3tvdultXixf0tt31Vutr0YLU5fIilGrL1ru6vX1b7p90n+dMEhIIyQQSiDC/j07OnDnnzJnvPOd5npmACgS8ePHixYsXL168ePHixYsXr5SU2Ong2LLSqYxz7Mo+cbzTERg4zydlJA5cpbhaY+DWpaHawqmdwe32l+x0BbehjY7gbTJU68JvgJUxCsSOEMBuN8cJC+K996uSRUtX2yvZcgPdx62TgbZzMjMjTftLlbSZ29CakNtkpivDjpnghjirNYunpmlOLB1uBa02c8W+ajEKBcPodOxtc6jtHLvZFUYuzYwKtb+kNNHcFrnFvWh3lQp32DGtokJgdFsXK2gFJ0A6k9utUbtjN1yTLGqTAx2TfwnodCwictns2jcYWAZK/6dYIIb5WxT+KxIblP7DSn8fPAwb0hxZitmOAZsXC/w1hpCTiEOH8o+HNRqdIfQ0yFIQqMA+hOWijxL7Rw3OxV+qhFZWtW4NnLhIow6sqIYGOK2VdmLZYocPsd0MYMwmkxYgKK3wiU2tdiMD+I0aLbmCPq3JBIvXwcBhHMBudthNBoHTbjLZLchSY7Sb7GhpDprBDg57X6VWyxiMdq0dxjXY7eR80KIShgLTMWPZaNaSXmb/DYBBtW4xYemwo33BCbRWlqUD50lkt8LctJXiBnJMwJgNZpiV/6BTbUouSqMisFYNdDXM3aEhi9xKw1yUNOBqoBv6rLDjpq19dhroMBoTXQ3WYdcQQAp7n4URC2itBfwutFPrdPQvDcZfMharTuFAlmq7SU08nI4EtgraVM2o1VqdXaumlX6Hin7RodD2WcALo09Uamm7VQNnq9SwN0BNm81qB2EJAwAYhbqBAZsFlgadOuBUaZNCa1LrtDpGjfdAozOZGLWCNRajVu1MLstKhSngcBgSErUaZGvFFSzG+GJnnXsFRg6xSYMs2WXXR2KJk2ZnilVgqjB/cjPIMrcAW1jjfWDgtEMQsPkKtQZ8nk5tRZ+LsAMsA0OZgJeT2DDOhHU6jMKJzoZlqTDB2sc7aRQjS/divKRxVJMG7i25AJ3GjeYIkzboqmlFklGGsmTlROMKYWmlTU4jukdzRV8fhg/G7xQMJsxXHGpNAwkVBkefRYcs1WzkMFZUmMEi2NjjJiyNaoz9iALooo0ypEGApdE/FLI0KwJ8LEjYoPWHmADLgIcR0Bq3uiE4eeI9GzD2OzGI4sKA2wb3Xmw1u3U6jonEagWXEh6PjXgbQ1gKGnS0rhIdt9aktZv8JoJi1Hi9lSa1GjySxQTridgl8RlKsw7aq8NZCnTIuUKhi8ySDAWej7AMJqMOjBjAkkW3yNKfb9Aaq2YxB43EEu45ex8qdQqOCd9qRauXJN0MXjdhqWRzSIMF8FoUgWZBlpU0yTHEgKDCoDYZwQIIS8TmpCFQ4KINY0lsbCnLoL+EWocJLpe1y8CCFNvVxmh2qTAwimCOFNEuA6wNJgW354tVy6rQOMUCh9kocJv9frABl7RdaWBwTaKVmarBX2rJfEJYGnDF42FIdoidVGqCLC3oGhuWrHFcbstYGvCCnRoIH8RPA23WX2qVAgc5EXE6DC7kSkeov4SDTjb2aNDFN2DUX8pSYzcI3FAyQEs4iaZy2eUnVhDoFApaZ2DjOCDC+2jQqBU0ZB2QheisdqTrpnVuRmFGuw2YDCaMluoGt9qkFOs0ZrMGWappNrxDNx0YDGt2fpYk9lfQyFKrRpZop2aFWqFhMPbgULAeMY6L7TgpYvdGjQnTC9yvIMdIHO+DWdPgTvC5xwL5hrgap0Wegkgea8F7r4OUQ6EGx2LQ0NBfnWR/Cap0M4wF5mD2P2O58b46oE5gsYqxwDgxvXZCwQoG4GQCjyWYMBqsDNNgwHzQbjY0gAU1sA/IlYzdYmT64HkcI4OFYZ2yE+4K+9hidSux2oGJK+M2GqFEhsIw5zaiY4EJsGuTOB2jmWEq2WPsAA43g89HZjOMY4bhySnIHplgBeMk/tlCWsG6Yxhzsq1SkLWsBh6clXos6GM884lNYFykpVjP4Ux6SCZ1Gn+ZQ3ulvxGbWaxGxF+GzyCZ0ouWXxZtekWEn5nFMTpDwlgowvmpRBwetXE4hn1XoRSpYrcvqGEv3SDau8qXEho6jKX4QMHqxuEq0XLDNDpKGvFzx64YfcUOg4pQz+LAUlxVgFkoi6VREntmxUX+QtGvYjeOKMYelu/pRRzOuhaJCiNUllSRbVHs7sWEpTLCHVkqZXnIldSUxB66NnArCxrjf4scSSoOs1yTRJHsvqgWtxIO1lZbxI4Syx2g7YbctV2ZHGYWGFMfcY7xq6o2IcOsrMxIFlJFJq+MaLNhUtawxrYr9jQLRCE7qghueon0i2cvbuQSq2JJkmyzFBRHsJAsf2ioiuUwg/PjsHyqQm+avjGmqZXUBIvKxsy1w5RwWDtrVKGoWMJKKcjyl2prxP5jJZJQYZ0qtKIgOL+i8rCWSFYZVlNUHoZDEjwtkWrZ0MWhoV6ZKdolWVHBhvqV2xRUJR8lGiar8tqs8gP+cmB2qsxQiTLFghJRVUhNVXB+yh2hLWsAhL6xPLSqaInhFoSNI4IVUCsKO1t4zFUVZa6kRlE5ma+yRFRetWKrHcle4ERiVoWi2gP+onjpMVZZjcWFIklY1fJhWJWUCzIz9Su0jNC+UKQqEBWuNPTy9qFS6kvQ5vRVNRL9io0SkwlwVo1oR4wWBSIu8RelbCyJHbhCtavoQKyzR5EE1kHRgUQEqASpNmYqmyXinJ3sEsWXFEpE8bFferqarDX1T7QKYs5GnBk7lfFLIuKQjYcOLVqTWelFopg5x3qKQ/61SxSrRUD6eMNmeVF87ZdoF5cn/PUThxxxB2eW4niffWvW9lBSzHlm6yJV7KeL4ppYLQISx2snmWtbo5LUYimO7byV3H1avJFgre8WUynycFMhxynr4367pU8pf7cequUYUVRxLzkJx8x182gXV5bl8Y4sKYq3R0pJtaMkupZ3SUmWhUl+Xc5Fe17YHlV7l3dJSZYFKeAeNgtLSdWquyZMm4WlKkHfB61Fm4VlYQrk6YssT7y69xB89B88+Qyy1EtEkg3P1BdZ7n+t//WTJ94/9cYbh/rfuPDuqWeKpUS0tvd1CVEoy+2/1v3mdP+bJ05fOPvmyf3vPEssBUWiZH9ZG1ssy4OwvAnL/e/0v/lvew+eev3Vt54tloUp8L4txC41b79+8jfIcv+/H3rz5AvP1BoXCEpSKY6//fK7h7afONT//gtvn9re//K7LzxbLFNAmyUnSgWlKkv9b/9pnRTfd1LRlKoss3Zmr5NejHeWK2qR5e/YXJ3VexvPMiN9XZQUlvtfu3AGgL6z/Xd7D73/+1MbHMeXsoxGNiPkYNx3IDksTx985w9n+v/4/pn+tw6dTSG7zEC1REHZXDcUaNY6lBHssxxtJNAJZ0lydd0f3/m1ZvvBt3TbD55KEEslJwUzw8gszzXVtdjOp7N0cEv+ZLAlqPvgXvMAFG2DTZfqbAOkKqMZdrDUlO1vSprXBUvJtsvXLpy9cPbtV0+cvbD30H+8kACWohV/4CxMiz8oF5nlYHZ2i20w/WIT2FzrxSZPel3TkO1iU0uTJ6MOiKV/MLjzEiCzXc7OrrN50psutwJLT3b2x60tdf95Gfs1NzVdam6qS/dk4M7lJltGklm+faj/je0nXoZ8/eWT/SdOrZ2lspCbSoLfikdm+WFTy8WhwZ2e9POwhs9nD9pamz3NA+kfZQ82D2QPtmZ88OFAektGhu23TUODtssXh5qHMzKazzfZsH4wG/s1e1oHPr6UjZv0gZ0eNOPkskx4TsRVBSuz/KCphdjlxaGBnQN1HmA5kH2ueeCip9mTPpDd1Hy+ri49+093Pz4HCxrtElj+6XId7IBdZmT/+RKyHKhrQZbZHw8Ay6Hspp13bFuSJQnRYI4Xh87bBlqGABiw3HmZsEQLHWy5BOt5oO7cZfzIgJrh5oEWG+ycbxm6aGuynbuE/XZ6WgdtO4ElNPV8vFVZolrxT2tGq60VdzKg3NrK1qSTugybLb11sZ2NtIMt24D0wz42dhC2WVJYFvxLdL20vMt6s1yW0YTE4Ywl+8G9pW0iNk0wy1Voo1gmR1uD5fpoK7D8r53rpA38bkOcVVsS6xeh41NEluKs9dIG/raA/oBIVJR8lltDBaIEf021hVkKGosSO95mZanPj61fvcKhkV9cvv/frCx3j+YlVL/gcM5Ny7KUSqjiZrnyLzPGpSQi4ixgmZZAxctSlCitw+82x9RyllTINho1KtgkpG2cLBOmRD9OrEqLLANwSAVVSoUSWk6WSsvzUv4+IbeDZ0kojHQeIXQ+ccHWNdx1hXWAyKvtZtAfEiPEQvsVKF49cp2iRq65eJaoRZZ3P03zXqGueq+N36SuXh/u6mi7cWXkyE2qdLij5VYHNXydunrjRgc16gWGw9dLB8e8VNuYq9Tb7m2/TfEsBQGWaGil5w67rrnudJ133Rn9jLqWd7j9MDXsvdsx7M1rO0x5vG2HPffTxkrHwDaHvX/59E4XRQ3dhn6j3pHPeJYowpK6eqSDolx3Px8DlmOuq3c+dw0Dy9tpA+NH8o64XFcPpw27Rq53drnudMJyHzniGjmMLO9+CixdFDXAs0Qt2uXV0Tsdw6MDXR92XCv9JO9e3uft96nOK3nw90rbmLf95o2bnbeptltd4DI7r3R2IMuR4Y4bXihAS55lqL9My8ujSvNK4W8XVdpRmlZaCqEoD1bwaBeV503L68DYPjJGkabQhMSrUSywtTzL8JyIWozdJN3xl9MCIZy6epgKNF3sk0bl8SwFXJ97KGpZYUm2ybNcYpfLHoEC6x8WeFrY4UVLXNKDZ4kUSq9hMA+ub5KPe9l1PgK5JNUeepi65ooIk2dJKLQddp1P6xz3tt24iSl6+/gYycepziNdmKunfeEqhXpX+3hH25EO17Xx65Fg8iyJsbUdTvui1HW3g03R73tut9/HvKf9U+oe5Opp1KUvvKUuj9dz35WXds113uu5HQEmz5Lk6m33xr1/GRvoaL+fdnl8vKsTePqfbYYJS9fI4I2xe97O22meI7fwCYlnuUShdumihm56gCXVfjPPBbb5aTs85LSNjV4HltTI+Oi4p2MQWI5cG73lusezXKaQXB1fs+VBCo4pep4X6iFBB3sszcND7CcchlYko6ciJlM8SxYDG7ODKXogSWLT8bRgfA8e5uP4Em3sdxQJU6qwTKRcW5ml6heJFZdr2qwsN0I8y8SJZ5k48SwTJ55l4sSzTJx4lokTzzJh0hfXJvbn3wVblqW4SLS2f1Y9krYoS4EqCT/ht1VZCqoS8r8chUq8ZVmqchM8oL6qvDGxvzaz4Xr+v59LqL7kfOYSUbL/t7311vP75AnVv3I+s15Us7nMElkKE6g4WApKNplZRmApD9lGxRabZfGOaCraFfVwHNq18f8UJCqEpZyU5JNk2zsfyioCN/lEfUyWL5XJokga7WBcOpbk/zKWoxZZdvt89XIAOivE7cT8JMIlf+TdD8gHisUKhalpuVDIVgvZvxFYSreti8pSjuUDudwnnJqfmZsVTvlm5ud6Zxe6Z+eEvbOTE19O5wDpKd/knHwCm8766m/1zAu7F+S+Xt+cfMq3IP9oLicaSykpyshWKovFuEwW7OKX7Nlh2Z0Di3Y2h7AUTk0+ALuc7V2Qz8xPLczIu7sB4Xz37FS93JczC62hag52hFAPrYTdPTkzOV9Gt8uvHkJZ9ugobKWnn559GDwifbiczdeWxzJ/l0DN8W+i8E8plt2T9egjH/jkU/M+eS+aH7Ccls9MT3fPwBqfk88Ihb6peWKB4SzBbrt7pqflPZH8ZeD6Zc7c3G2EJRjltvcev/tXPPIQ7PNhmeWoVPpQSoyQ/ftQdjq3DLsgUCmLG1huWxlmSrFEx9c7O1M/NfvR/EeTPcIZ30fzPcCyt2dyfuqBr3umvrfnuemJeXnOn+cReg8sePCXOTO+nn2Ts/KJuckoLGWybV9/e/TYoxfPSMyq/MdaVd/j4//zreRv+bv3PMnPf+qQfHN8t+TMt48tRzXfy7Y9Od5XYH3+qQy7nN5d+KO18Onfd6u+Pr678JtnhOUK4VoeWiIGPCuPHNYjx3HC8u+5UumZPgmwzH10VJZ7/Lv3gOX/HjOpfsj/6XFZmfVHxffH3D9IjtkfO3+USu2Pj/30FdgldpG+0vfzo6NlZ195Xnb8O/PPKxpmKrKMre6F6M0jsfzqK1zKjp/ALh/9/CT3+D/syPK705KHD5k9X//V+iP9/THrD5KyJ/mIULunzPlVrmzbmYdlWT89tQLLJ/l/y5cd/8dmYSlfTEJjNIzAElyh1JL/+En+7txHu/NfPF24+ymwlEqd+XueVBT+yKjKLPl7zhTIypzoIJ/05b94FlhiFyY/H1jKLPkq2fFv3M8SS/mKoORTMcwxKkviM8tk0jLI3MvYz7JtZUAAMp+yMinuQC2UrRjl/TvkU4aHpVDC9lESqZRj2d04+UC4mHhjEo6xOpCrCwOpOvnsrpfLI+FdS64ufWXl6BJdqceyRz7TPTkz3zsDKbpvfuLBLMnHhT7fAuTqcvmMb3Zidn5ivndhYq6+d7oX0vjEsoyejz8zLLv3dcu7e3ofCLunFiBF/6J+agGhgV3Ke/HZZg7M0Sf8bL53mrCsl/dO+zi823hJJl0XpRjLemC5Twj4FiCt/GR6X06AJeSRE/tYlhN+lsKpaW4si/55ffT71Hh7F8zVcY1jvo52Cbk4Wcy9X85DPv7cHHm3QVgu9PbcWpiE1H16qif2Gt9iCovjwsC7oGCQEQqFgZdDwbgTFM8yXBv4Xn3TiWeZOD3/fzkJ1VZmqc9NrFIjovLixYsXL168ePHixYsXL168ePHiFar/B44ru6BJyPvNAAAAAElFTkSuQmCC\">\n",
        "\n",
        "Тогда первоначальный запрос в предыдущем задание можно было бы описать очень компактно и без всяких циклов:"
      ]
    },
    {
      "cell_type": "code",
      "metadata": {
        "id": "JS1Cae9liR80"
      },
      "source": [
        "soup.find_all('//sp/stage')"
      ],
      "execution_count": null,
      "outputs": []
    },
    {
      "cell_type": "markdown",
      "metadata": {
        "id": "xHG5yR2AmhX_"
      },
      "source": [
        "Не работает. Но на самом деле именно такого вида навигация по XML/HTML существует — и называется она **xPath**. Просто поддержки xPath [нет](https://stackoverflow.com/questions/11465555/can-we-use-xpath-with-beautifulsoup) в bs4, но он доступен в python благодаря второй библиотеке — lxml. \n"
      ]
    },
    {
      "cell_type": "markdown",
      "metadata": {
        "id": "j_DCOku7nPK5"
      },
      "source": [
        "### Импортируем etree из библиотеки lxml"
      ]
    },
    {
      "cell_type": "code",
      "metadata": {
        "id": "SXPOsA3ORDCB"
      },
      "source": [
        "from lxml import etree"
      ],
      "execution_count": 21,
      "outputs": []
    },
    {
      "cell_type": "markdown",
      "source": [
        "Подтянем сначала небольшой образец:"
      ],
      "metadata": {
        "id": "NJmlgsEeDopZ"
      }
    },
    {
      "cell_type": "code",
      "source": [
        "teachers_xml = requests.get('https://raw.githubusercontent.com/dhhse/dh2020/master/xml/dhhse.xml')"
      ],
      "metadata": {
        "id": "hTl2pREiDq8k"
      },
      "execution_count": 22,
      "outputs": []
    },
    {
      "cell_type": "code",
      "source": [
        "print(teachers_xml.text)"
      ],
      "metadata": {
        "id": "NEnT0ysGDsMz"
      },
      "execution_count": null,
      "outputs": []
    },
    {
      "cell_type": "code",
      "source": [
        "soup = BeautifulSoup(teachers_xml.text)\n",
        "soup.find_all('person')"
      ],
      "metadata": {
        "id": "ksjnQTby27k8"
      },
      "execution_count": null,
      "outputs": []
    },
    {
      "cell_type": "markdown",
      "source": [
        "Воспользуемся методом `etree.fromstring()` -- это похоже на  конструкцию `BeautifulSoup()`, только строку придется перевести в байткод с помощью метода `encode()`:"
      ],
      "metadata": {
        "id": "Bb7PaVyvDXDV"
      }
    },
    {
      "cell_type": "code",
      "source": [
        "xml_to_parse = teachers_xml.text.encode('utf-8')\n",
        "xml_to_parse"
      ],
      "metadata": {
        "id": "9CeQcXmiFpLO"
      },
      "execution_count": null,
      "outputs": []
    },
    {
      "cell_type": "code",
      "metadata": {
        "id": "XeXabZkZRDCI"
      },
      "source": [
        "parsed_XML = etree.fromstring(xml_to_parse)"
      ],
      "execution_count": 27,
      "outputs": []
    },
    {
      "cell_type": "code",
      "metadata": {
        "id": "iiz5lzZE994J"
      },
      "source": [
        "for person in parsed_XML.findall('.//person'):\n",
        "    print(person.tag)\n",
        "    print(person.attrib['age'])"
      ],
      "execution_count": null,
      "outputs": []
    },
    {
      "cell_type": "code",
      "source": [
        "len(parsed_XML.findall('.//person'))"
      ],
      "metadata": {
        "id": "KtaB7mhQGqus"
      },
      "execution_count": null,
      "outputs": []
    },
    {
      "cell_type": "code",
      "metadata": {
        "id": "mrxdm7CNRDCJ"
      },
      "source": [
        "for element in parsed_XML.findall('.//teachers//surname'):\n",
        "    print (element.text)"
      ],
      "execution_count": null,
      "outputs": []
    },
    {
      "cell_type": "markdown",
      "metadata": {
        "id": "WUhqSoPnhGZo"
      },
      "source": [
        "При помощи xPath мы можем описать произвольный кусочек пути  в нашем дереве — это довольно гибкий инструмент. Например, все  теги, которые находятся где-то под person:"
      ]
    },
    {
      "cell_type": "code",
      "metadata": {
        "id": "qIrVaakkquqb"
      },
      "source": [
        "for element in parsed_XML.findall('.//person//*'):\n",
        "    print (element.tag, element.text)"
      ],
      "execution_count": null,
      "outputs": []
    }
  ]
}