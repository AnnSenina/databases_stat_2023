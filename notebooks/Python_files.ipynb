{
  "cells": [
    {
      "cell_type": "markdown",
      "metadata": {
        "id": "mBdS-5uveiwO"
      },
      "source": [
        "## Подключить папки со своего Google Диск"
      ]
    },
    {
      "cell_type": "code",
      "execution_count": null,
      "metadata": {
        "id": "qELh_h4mYlwO"
      },
      "outputs": [],
      "source": [
        "from google.colab import drive\n",
        "drive.mount('/content/drive')"
      ]
    },
    {
      "cell_type": "code",
      "source": [
        "# альтернативный вариант\n",
        "# менять название папки можно\n",
        "FOLDER = \"Ваша папка\" # Соединить Python и конретную папку на вашем диске\n",
        "PATH = \"drive/MyDrive/\" + FOLDER  + \"/\"\n",
        "from google.colab import drive\n",
        "drive.mount('/content/drive')\n",
        "import sys\n",
        "sys.path.append(PATH)\n",
        "\n",
        "# в коде вызов любого файла выглядел бы так: PATH + 'название_файла.txt'"
      ],
      "metadata": {
        "id": "KdNaHwTJUKgF"
      },
      "execution_count": null,
      "outputs": []
    },
    {
      "cell_type": "code",
      "source": [
        "# бонус для колаба - загрузка в директорию\n",
        "from google.colab import files #строка импорта\n",
        "files.upload() # откроется окно загрузки"
      ],
      "metadata": {
        "id": "p8MIZzwlQYi7"
      },
      "execution_count": null,
      "outputs": []
    },
    {
      "cell_type": "markdown",
      "source": [
        "# Работа с файлами"
      ],
      "metadata": {
        "id": "Ll3kY-ylXyik"
      }
    },
    {
      "cell_type": "code",
      "source": [
        "with open(\"city_smells.txt\", \"r\", encoding='utf-8') as f: # воспользуемся встроенной функцией open()\n",
        "    pass\n",
        "\n",
        "# my_file = open(\"city_smells.txt\", \"r\") # файл открыт постоянно\n",
        "# my_file.close()"
      ],
      "metadata": {
        "id": "VvCaJDZcX1f4"
      },
      "execution_count": null,
      "outputs": []
    },
    {
      "cell_type": "markdown",
      "source": [
        "давайте посмотрим на аргументы функции: \n",
        "* первый = путь к файлу, который хотим открыть.\n",
        "\n",
        "* второй аргумент - необязательный, это режим открытия файла: для чтения, записи, дозаписи, все вместе и тд. (по умолчанию - чтение, 'r')\n",
        "\n",
        "\n",
        "<div class=\"table-wrapper\"><table border=\"1\" class=\"docutils\"><tbody valign=\"top\"><tr><td>Режим</td><td>Обозначение</td></tr><tr><td>'r'</td><td>открытие на чтение (является значением по умолчанию).</td></tr><tr><td>'w'</td><td>открытие на запись, содержимое файла удаляется, если файла не существует, создается новый.</td></tr><tr><td>'x'</td><td>открытие на запись, если файла не существует, иначе исключение.</td></tr><tr><td>'a'</td><td>открытие на дозапись, информация добавляется в конец файла.</td></tr><tr><td>'b'</td><td>открытие в двоичном режиме.</td></tr><tr><td>'t'</td><td>открытие в текстовом режиме (является значением по умолчанию).</td></tr><tr><td>'+'</td><td>открытие на чтение и запись</td></tr></tbody></table></div>\n",
        "\n",
        "\n",
        "Режимы могут быть объединены: например,'ra' - открытие для чтения и  дозаписи.\n",
        "\n",
        "Последний аргумент (опциональный, его можно не указывать), encoding, нужен только в текстовом режиме чтения файла. Этот аргумент задает кодировку. Чтобы стандантные .txt-файлы читались без проблем, ставим ```encoding = utf-8```\n",
        "\n",
        "\n",
        "Мы открыли файл с режимом для чтения (пока еще не читали его), сохранили в переменную значение. Давайте прочтем содержимое. Читать тоже можно несколькими методами: \n",
        "* .read()\n",
        "* .readline()\n",
        "* .readlines()\n",
        "\n",
        "\n"
      ],
      "metadata": {
        "id": "5tIAfpQ8Xxve"
      }
    },
    {
      "cell_type": "code",
      "source": [
        "with open(\"city_smells.txt\", \"r\", encoding='utf-8') as file:\n",
        "    file.read()\n",
        "    # file.readline()\n",
        "    # file.readlines()\n",
        "print(file) # мы создали текстовое представление файла, но вывести его на экран нужно другим способом через read"
      ],
      "metadata": {
        "id": "Jq7a4_aiY5hN"
      },
      "execution_count": null,
      "outputs": []
    },
    {
      "cell_type": "code",
      "source": [
        "with open(\"city_smells.txt\", \"r\", encoding='utf-8') as file:\n",
        "    # print(file.read())\n",
        "    # print(file.readline())\n",
        "    text_list = print(file.readlines())\n",
        "text_list"
      ],
      "metadata": {
        "id": "U9sq8eKCZ2-n"
      },
      "execution_count": null,
      "outputs": []
    },
    {
      "cell_type": "code",
      "source": [
        "# 2 вариант:\n",
        "with open(\"city_smells.txt\", \"r\", encoding='utf-8') as file:\n",
        "    for i in file:\n",
        "      print(i.strip())\n",
        "      # print(i.strip().split())"
      ],
      "metadata": {
        "id": "FVXg_BJ9cWRs"
      },
      "execution_count": null,
      "outputs": []
    },
    {
      "cell_type": "code",
      "source": [
        "with open('city_smells.txt', 'r') as f:\n",
        "  text = f.read()\n",
        "print(text)"
      ],
      "metadata": {
        "id": "PFwqqQlAdW7z"
      },
      "execution_count": null,
      "outputs": []
    },
    {
      "cell_type": "markdown",
      "source": [
        "Теперь попробуем создать файл и записать в него что-то:"
      ],
      "metadata": {
        "id": "UyXh6-mtZS8R"
      }
    },
    {
      "cell_type": "code",
      "source": [
        "with open('new_text.txt', 'w') as file: \n",
        "    file.write(\"hi this is a test\\n\")\n",
        "    \n",
        "# если такого файла не существовало, но создастся автоматически"
      ],
      "metadata": {
        "id": "QSnd0tBkY3cc"
      },
      "execution_count": null,
      "outputs": []
    },
    {
      "cell_type": "markdown",
      "source": [
        "Чтобы предыдущая информация не стиралась из файла при записи, откроем с режимом \"а\" \n"
      ],
      "metadata": {
        "id": "kAhWHolAZQNM"
      }
    },
    {
      "cell_type": "code",
      "source": [
        "with open(\"new_text.txt\",'a') as file:\n",
        "    file.write(\"new line\\n\")"
      ],
      "metadata": {
        "id": "YK1B9S_pZNO4"
      },
      "execution_count": null,
      "outputs": []
    },
    {
      "cell_type": "code",
      "source": [
        "help(print)"
      ],
      "metadata": {
        "id": "5-hFtZj_el70"
      },
      "execution_count": null,
      "outputs": []
    },
    {
      "cell_type": "code",
      "source": [
        "l = ['первая строка', 'вторая строка', 'третья строка']\n",
        "with open('text.txt', 'w', encoding='utf-8') as f:\n",
        "  for i in l:\n",
        "    print(i, file=f)"
      ],
      "metadata": {
        "id": "OurYsvrpeWGp"
      },
      "execution_count": null,
      "outputs": []
    },
    {
      "cell_type": "code",
      "source": [
        "with open(\"new_text.txt\",'r') as file: # читаем\n",
        "    print(file.read())"
      ],
      "metadata": {
        "id": "E4zxXYc8c5er"
      },
      "execution_count": null,
      "outputs": []
    },
    {
      "cell_type": "markdown",
      "source": [
        "# Примеры"
      ],
      "metadata": {
        "id": "S2kPte4SVb2q"
      }
    },
    {
      "cell_type": "markdown",
      "source": [
        "В файле result.txt - список участников олимпиады\n"
      ],
      "metadata": {
        "id": "vIkqNo8BYEeK"
      }
    },
    {
      "cell_type": "code",
      "source": [
        "my_list = []\n",
        "with open('result.txt', 'r', encoding='utf-8') as f: \n",
        "  for line in f:\n",
        "    my_list.append(line.strip().split())"
      ],
      "metadata": {
        "id": "ae14ZYnhVe2D"
      },
      "execution_count": null,
      "outputs": []
    },
    {
      "cell_type": "code",
      "source": [
        "print(my_list)"
      ],
      "metadata": {
        "id": "TUqDa-TKLv8N"
      },
      "execution_count": null,
      "outputs": []
    },
    {
      "cell_type": "code",
      "source": [
        "new_list = sorted(my_list, key=lambda i: int(i[3]), reverse=True)\n",
        "print(new_list)"
      ],
      "metadata": {
        "id": "GoV-Sd6_M6-Q"
      },
      "execution_count": null,
      "outputs": []
    },
    {
      "cell_type": "code",
      "source": [
        "new_list = sorted(my_list) # сортируем строки в списке по алфавиту, сохраняем отсортированный список в новую переменную\n",
        "with open('result_2.txt', 'w', encoding='utf-8') as f2:\n",
        "  for i in new_list:\n",
        "    print(*i, file=f2)"
      ],
      "metadata": {
        "id": "6btoZ8AvWlSM"
      },
      "execution_count": null,
      "outputs": []
    },
    {
      "cell_type": "code",
      "source": [
        "# проверим, что в новом файле все есть:\n",
        "with open('result_2.txt', 'r', encoding='utf-8') as f:\n",
        "  for line in f:\n",
        "    print(line.strip())"
      ],
      "metadata": {
        "id": "i7MVU0ZDYHSF"
      },
      "execution_count": null,
      "outputs": []
    },
    {
      "cell_type": "markdown",
      "source": [
        "Задача про анкету"
      ],
      "metadata": {
        "id": "aC7Y5RTmYL3B"
      }
    },
    {
      "cell_type": "code",
      "source": [
        "name = input('Введите ваше имя: ').strip()\n",
        "age = int(input('Введите ваш возраст: ').strip())\n",
        "gender = input('Введите ваш гендер: ').strip()\n",
        "city = input('Введите ваш город: ').strip()\n",
        "work = input('Введите ваше место работы: ').strip()\n",
        "position = input('Введите вашу должность: ').strip()"
      ],
      "metadata": {
        "id": "x3wfWwulYOc9"
      },
      "execution_count": null,
      "outputs": []
    },
    {
      "cell_type": "code",
      "source": [
        "with open('survey.csv', 'w', encoding='utf-8') as f2:\n",
        "  print(*['Имя', 'Возраст', 'Гендер', 'Город', 'Место работы', 'Должность'], sep=',', file=f2)"
      ],
      "metadata": {
        "id": "kGPGnBFNhhwP"
      },
      "execution_count": null,
      "outputs": []
    },
    {
      "cell_type": "code",
      "source": [
        "def survey():\n",
        "  name = input('Введите ваше имя: ').strip()\n",
        "  age = input('Введите ваш возраст: ').strip()\n",
        "  gender = input('Введите ваш гендер: ').strip()\n",
        "  city = input('Введите ваш город: ').strip()\n",
        "  work = input('Введите ваше место работы: ').strip()\n",
        "  position = input('Введите вашу должность: ').strip()\n",
        "  return name, age, gender, city, work, position\n",
        "\n",
        "n = int(input('Сколько людей будет заполнять анкету? '))\n",
        "with open('survey.csv', 'a', encoding='utf-8') as f2:\n",
        "  for i in range(n): # сколько раз сработает цикл\n",
        "    print(*survey(), sep=',', file=f2)"
      ],
      "metadata": {
        "id": "hxUc-M58aABa"
      },
      "execution_count": null,
      "outputs": []
    },
    {
      "cell_type": "markdown",
      "source": [
        "Забегая вперед, быстрый способ:"
      ],
      "metadata": {
        "id": "JLp18S9haNJt"
      }
    },
    {
      "cell_type": "code",
      "source": [
        "import pandas as pd # pandas позволяет работать с таблицами (датафреймами)"
      ],
      "metadata": {
        "id": "9Rrrdi8VaMuW"
      },
      "execution_count": null,
      "outputs": []
    },
    {
      "cell_type": "code",
      "source": [
        "num = [[1, 2], [3, 4]]"
      ],
      "metadata": {
        "id": "51v1_Aiqan6K"
      },
      "execution_count": null,
      "outputs": []
    },
    {
      "cell_type": "code",
      "source": [
        "df = pd.DataFrame(num)"
      ],
      "metadata": {
        "id": "ZvP6pQqsaT4t"
      },
      "execution_count": null,
      "outputs": []
    },
    {
      "cell_type": "code",
      "source": [
        "df"
      ],
      "metadata": {
        "id": "VPb0A5HtkcMp"
      },
      "execution_count": null,
      "outputs": []
    },
    {
      "cell_type": "code",
      "source": [
        "df.to_excel('new_list.xlsx')"
      ],
      "metadata": {
        "id": "POu08aAZaUkM"
      },
      "execution_count": null,
      "outputs": []
    },
    {
      "cell_type": "code",
      "source": [
        "df.to_csv('new_list.csv')"
      ],
      "metadata": {
        "id": "7uBi_u6Xki2P"
      },
      "execution_count": null,
      "outputs": []
    }
  ],
  "metadata": {
    "colab": {
      "provenance": []
    },
    "kernelspec": {
      "display_name": "Python 3",
      "name": "python3"
    },
    "language_info": {
      "name": "python"
    }
  },
  "nbformat": 4,
  "nbformat_minor": 0
}