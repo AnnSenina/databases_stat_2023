{
  "cells": [
    {
      "cell_type": "markdown",
      "metadata": {
        "id": "view-in-github",
        "colab_type": "text"
      },
      "source": [
        "<a href=\"https://colab.research.google.com/github/AnnSenina/Python_DH_2023/blob/main/notebooks/Python_pandas.ipynb\" target=\"_parent\"><img src=\"https://colab.research.google.com/assets/colab-badge.svg\" alt=\"Open In Colab\"/></a>"
      ]
    },
    {
      "cell_type": "markdown",
      "metadata": {
        "id": "LchzhkUv1OnX"
      },
      "source": [
        "#pandas\n",
        "pandas - библиотека, которая позволяет работать с табличными данными\n",
        "\n",
        "[[1, 2], [3, 4]]"
      ]
    },
    {
      "cell_type": "code",
      "execution_count": null,
      "metadata": {
        "id": "dy_UDg8kL5Vc"
      },
      "outputs": [],
      "source": [
        "!pip install pandas # если pandas не установлен, следует запустить эту ячейку"
      ]
    },
    {
      "cell_type": "code",
      "execution_count": null,
      "metadata": {
        "id": "mu_R9WN2MFeQ"
      },
      "outputs": [],
      "source": [
        "import pandas as pd # теперь импортируем pandas в тетрадку / .py файл с кодом"
      ]
    },
    {
      "cell_type": "markdown",
      "metadata": {
        "id": "dDSmXeLaTh4U"
      },
      "source": [
        "документация для pandas [лежит здесь](https://pandas.pydata.org/pandas-docs/stable/getting_started/tutorials.html)\n",
        "\n",
        "Основные элементы \"табличек в pandas\" - это Series и Dataframe\n",
        "\n",
        "Series - это объект, похожий на одномерный массив (как обычный список в питоне) с элементами и  индексами вдоль каждого элемента из списка. \n",
        "\n",
        "DataFrame \"собирается\" из таких Series"
      ]
    },
    {
      "cell_type": "markdown",
      "metadata": {
        "id": "YwQGRoCkO4y1"
      },
      "source": [
        "<img alt=\"Series vs DataFrame\" height=\"300\" width=\"700\" src=\"https://storage.googleapis.com/lds-media/images/series-and-dataframe.width-1200.png\" >"
      ]
    },
    {
      "cell_type": "markdown",
      "metadata": {
        "tags": [],
        "id": "LpTdm4gfELXK"
      },
      "source": [
        "# Создание датафрейма"
      ]
    },
    {
      "cell_type": "markdown",
      "metadata": {
        "id": "-58DzZXTELXL"
      },
      "source": [
        "Создать датафрейм можно двумя способами:\n",
        "- из словаря методом pd.DataFrame.from_dict()\n",
        "- прочитав .csv файл\n",
        "\n",
        "попробуем оба способа\n",
        "\n",
        "### Первый способ"
      ]
    },
    {
      "cell_type": "code",
      "source": [
        "b = [[1, 2.1], [3, 4.444]]\n",
        "b_df = pd.DataFrame(b) # краткий способ\n",
        "b_df"
      ],
      "metadata": {
        "id": "995oUceid5eq"
      },
      "execution_count": null,
      "outputs": []
    },
    {
      "cell_type": "code",
      "source": [
        "b_df.info()"
      ],
      "metadata": {
        "id": "DF8RdILZjkxI"
      },
      "execution_count": null,
      "outputs": []
    },
    {
      "cell_type": "code",
      "source": [
        "b_df"
      ],
      "metadata": {
        "id": "7Mjtb-d9nQk-"
      },
      "execution_count": null,
      "outputs": []
    },
    {
      "cell_type": "code",
      "execution_count": null,
      "metadata": {
        "id": "6Vy_M6tPMQCE"
      },
      "outputs": [],
      "source": [
        "# напрямую из словаря\n",
        "\n",
        "data = {\n",
        "    \"Maria\":[\"London\",37], \n",
        "    \"Lorenzo\":[\"Milan\",28],\n",
        "    \"Oleg\":[\"Canberra\",31],\n",
        "    \"Hans\":[\"Calgary\",80],\n",
        "    \"Mark\":[\"Milan\",55],\n",
        "    \"Alex\":[\"Krakow\",35],\n",
        "    \"Julia\":[\"Murmansk\",43]  \n",
        "}\n",
        "\n",
        "# шаг 2 используем метод pd.DataFrame.from_dict()\n",
        "# аргументом подадим созданный словарь\n",
        "# Но! тип данных нужно будет исправить\n",
        "\n",
        "postcards = pd.DataFrame.from_dict(data, orient=\"columns\").T.rename(columns={0:\"city\", 1:\"age\"})"
      ]
    },
    {
      "cell_type": "code",
      "source": [
        "names = list(data.keys()) # индекс таблицы\n",
        "v = list(data.values()) # столбцы таблицы\n",
        "\n",
        "postcards = pd.DataFrame(v, index=names, columns=['city', 'age'])\n",
        "# postcards = pd.DataFrame(v) - основа таблицы\n",
        "# аргумент index - задает индекс датафрейма (имя строки) \n",
        "# аргумент columns - задает названия столбцов\n",
        "postcards"
      ],
      "metadata": {
        "id": "I3QsKTaEWEo0"
      },
      "execution_count": null,
      "outputs": []
    },
    {
      "cell_type": "code",
      "source": [
        "postcards"
      ],
      "metadata": {
        "id": "L6ZKfy5pE2Gt"
      },
      "execution_count": null,
      "outputs": []
    },
    {
      "cell_type": "markdown",
      "metadata": {
        "id": "fTRO_rdtELXN"
      },
      "source": [
        "### Второй способ"
      ]
    },
    {
      "cell_type": "code",
      "execution_count": null,
      "metadata": {
        "tags": [],
        "id": "uvwnZBw2ELXO"
      },
      "outputs": [],
      "source": [
        "# прочитаем .csv файл методом pd.read_csv()\n",
        "\n",
        "recipes = pd.read_csv(\"christmas_recipes.csv\", encoding=\"utf-8\", sep=\",\") # есть другие аргументы: sep, decimal и др."
      ]
    },
    {
      "cell_type": "markdown",
      "metadata": {
        "id": "7kh4dxn5ELXO"
      },
      "source": [
        "### Как посмотреть на часть датафрейма\n",
        "\n",
        "понадобятся методы ```.head()```, ```.tail()``` или индексация"
      ]
    },
    {
      "cell_type": "code",
      "source": [
        "recipes.head(2) # по умолчанию показывает первые 5 строк"
      ],
      "metadata": {
        "id": "4TSZ4B2XHahR"
      },
      "execution_count": null,
      "outputs": []
    },
    {
      "cell_type": "code",
      "execution_count": null,
      "metadata": {
        "tags": [],
        "id": "zxFC4nNwELXP"
      },
      "outputs": [],
      "source": [
        "recipes.tail(3) # последние строки (по умолчанию их тоже 5)"
      ]
    },
    {
      "cell_type": "code",
      "execution_count": null,
      "metadata": {
        "tags": [],
        "id": "zLqLEkEtELXQ"
      },
      "outputs": [],
      "source": [
        "recipes[15:18] # часть датафрейма по  индексам строчек"
      ]
    },
    {
      "cell_type": "markdown",
      "metadata": {
        "tags": [],
        "id": "TEXAEugSELXQ"
      },
      "source": [
        "# Характеристики датафрейма"
      ]
    },
    {
      "cell_type": "code",
      "execution_count": null,
      "metadata": {
        "id": "JdqZWwligQB8"
      },
      "outputs": [],
      "source": [
        "#размеры датафрейма\n",
        "\n",
        "print(postcards.shape)\n",
        "print(recipes.shape)"
      ]
    },
    {
      "cell_type": "code",
      "execution_count": null,
      "metadata": {
        "id": "4JCmo6dkELXR"
      },
      "outputs": [],
      "source": [
        "# описание датафрейма\n",
        "\n",
        "print(postcards.info())\n",
        "print(recipes.info())"
      ]
    },
    {
      "cell_type": "code",
      "source": [
        "# object - текст (аналог в Python str)\n",
        "# int64 - число (аналог в Python int)"
      ],
      "metadata": {
        "id": "_rtf0Z9pjMZW"
      },
      "execution_count": null,
      "outputs": []
    },
    {
      "cell_type": "code",
      "execution_count": null,
      "metadata": {
        "id": "HowifKqZELXR"
      },
      "outputs": [],
      "source": [
        "# изменим тип колонки age на числовой методом .astype()\n",
        "\n",
        "postcards[\"age\"] = postcards[\"age\"].astype(\"int64\")\n",
        "print(postcards.info())"
      ]
    },
    {
      "cell_type": "markdown",
      "metadata": {
        "id": "e0hLMEflELXS"
      },
      "source": [
        "### Как посмотреть, где живет конкретный человек?\n",
        "\n",
        "Чтобы найти нужную строку, нам нужны индексы. \n",
        "Посмотрим на примере датасета с людьми и городами. У нашего датафрейма есть две оси: по строкам(нулевая, она же  index) и столбцам(первая, она же columns)\n"
      ]
    },
    {
      "cell_type": "code",
      "execution_count": null,
      "metadata": {
        "tags": [],
        "colab": {
          "base_uri": "https://localhost:8080/"
        },
        "id": "8phBy7ExELXS",
        "outputId": "72cd03b5-8866-415b-e705-9a9dd873a841"
      },
      "outputs": [
        {
          "output_type": "stream",
          "name": "stdout",
          "text": [
            "Index(['Maria', 'Lorenzo', 'Oleg', 'Hans', 'Mark', 'Alex', 'Julia'], dtype='object')\n"
          ]
        }
      ],
      "source": [
        "print(postcards.index) # смотрим на индексы = имена строк (если они есть)"
      ]
    },
    {
      "cell_type": "code",
      "source": [
        "print(recipes.index)"
      ],
      "metadata": {
        "id": "ckBZTJIukLN-"
      },
      "execution_count": null,
      "outputs": []
    },
    {
      "cell_type": "code",
      "execution_count": null,
      "metadata": {
        "id": "brXnQmZ9q4Bo"
      },
      "outputs": [],
      "source": [
        "print(postcards.columns) # смотрим на столбцы"
      ]
    },
    {
      "cell_type": "code",
      "execution_count": null,
      "metadata": {
        "id": "eIGCunCwro1O"
      },
      "outputs": [],
      "source": [
        "# пересечение индексов выдаст конкретную ячейку: ищем где живет Мария\n",
        "\n",
        "postcards.loc['Maria'][\"city\"]"
      ]
    },
    {
      "cell_type": "markdown",
      "metadata": {
        "id": "ccIqghWAELXU"
      },
      "source": [
        "**Получить строку по индексу** можно двумя способами:\n",
        "\n",
        "- именной индекс, по \"названию\" строки в колонке \"Index\", (первая колонка датафрейма, у нас это имена людей)\n",
        "- порядковый индекс, по номеру строки в датафрейме (нумерация с 0)\n",
        "\n",
        "Для именного поиска понадобится метод ```.loc[]```, для порядкового -- ```.iloc[]```"
      ]
    },
    {
      "cell_type": "code",
      "execution_count": null,
      "metadata": {
        "id": "EOs3jobBELXU"
      },
      "outputs": [],
      "source": [
        "print(postcards.iloc[3], \"\\n\")\n",
        "\n",
        "print(postcards.loc[\"Hans\"]) # только если индексы в датасете есть!"
      ]
    },
    {
      "cell_type": "markdown",
      "metadata": {
        "id": "QbKG3Ka5ELXV"
      },
      "source": [
        "**Указав название колонки**,  можно аналогично посмотреть все значения в ней"
      ]
    },
    {
      "cell_type": "code",
      "execution_count": null,
      "metadata": {
        "id": "r8uPANSTELXV"
      },
      "outputs": [],
      "source": [
        "postcards[\"age\"] # аналог получения значения по ключу словаря"
      ]
    },
    {
      "cell_type": "code",
      "source": [
        "# посмотрите на все города\n",
        "\n"
      ],
      "metadata": {
        "id": "rhXfxoOSJDDK"
      },
      "execution_count": null,
      "outputs": []
    },
    {
      "cell_type": "markdown",
      "metadata": {
        "tags": [],
        "id": "y-gg8AMjELXV"
      },
      "source": [
        "# Операции с датафреймами"
      ]
    },
    {
      "cell_type": "markdown",
      "metadata": {
        "tags": [],
        "id": "QpdAt5-hELXV"
      },
      "source": [
        "### Добавление колонок и строк в датафрейм"
      ]
    },
    {
      "cell_type": "markdown",
      "metadata": {
        "id": "6xG3z4Vov0Lq"
      },
      "source": [
        "В датафрейм можно добавить новые колонки: понадобится метод ```.assign()```"
      ]
    },
    {
      "cell_type": "code",
      "execution_count": null,
      "metadata": {
        "id": "q68INlyOv3wA"
      },
      "outputs": [],
      "source": [
        "postcards = postcards.assign(job=['Artist',\"Teacher\",\"Chef\",\"Artist\",\"Manager\",\"Chef\",\"Engineer\"])\n",
        "postcards"
      ]
    },
    {
      "cell_type": "code",
      "source": [
        "# 2 способ - похож на добавление ключей в словарь\n",
        "degrees = ['BA', 'MA', 'MA', 'PhD', 'Postdoc', 'BA', 'PhD']\n",
        "postcards[\"degree\"] = degrees\n",
        "\n",
        "postcards"
      ],
      "metadata": {
        "id": "cWSJ-WVnJNtj"
      },
      "execution_count": null,
      "outputs": []
    },
    {
      "cell_type": "markdown",
      "metadata": {
        "id": "8wI7nnyOx8kt"
      },
      "source": [
        "Добавить строки тоже можно: методом ```.append()```"
      ]
    },
    {
      "cell_type": "code",
      "execution_count": null,
      "metadata": {
        "id": "nWBEDV_X0rVB"
      },
      "outputs": [],
      "source": [
        "df = pd.DataFrame.from_dict({\"Alice\":[\"NY\", 36, \"Engineer\", \"MA\"]},\n",
        "                           orient=\"index\",\n",
        "                           columns=postcards.columns)\n",
        "df"
      ]
    },
    {
      "cell_type": "code",
      "execution_count": null,
      "metadata": {
        "tags": [],
        "id": "QecwxyvRELXX"
      },
      "outputs": [],
      "source": [
        "# шаг2 добавим новый df к старому\n",
        "postcards = postcards.append(df)\n",
        "postcards\n",
        "\n",
        "# что будет, если запустить .append() несколько раз?"
      ]
    },
    {
      "cell_type": "markdown",
      "metadata": {
        "id": "ZESKs95y71Wy"
      },
      "source": [
        "### что делать, если добавились ненужные строки? "
      ]
    },
    {
      "cell_type": "markdown",
      "metadata": {
        "id": "EAH5dF12ELXX"
      },
      "source": [
        "Если есть дубликаты уже существующих строк, понадобится метод ```.drop_duplicates()```"
      ]
    },
    {
      "cell_type": "code",
      "execution_count": null,
      "metadata": {
        "id": "WB8VMk5P6Kmy",
        "tags": []
      },
      "outputs": [],
      "source": [
        "postcards.drop_duplicates(inplace=True)\n",
        "postcards"
      ]
    },
    {
      "cell_type": "markdown",
      "metadata": {
        "id": "HINGxpZCELXY"
      },
      "source": [
        "Если удалить нужно любую строку или столбец, понадобится метод ```.drop()``` \n",
        "- axis=0 если нужно удалить строку\n",
        "- axis=1 если нужно удалить колонку"
      ]
    },
    {
      "cell_type": "code",
      "execution_count": null,
      "metadata": {
        "tags": [],
        "id": "w7hXOdTIELXY"
      },
      "outputs": [],
      "source": [
        "postcards.drop(\"Mark\",axis=0)"
      ]
    },
    {
      "cell_type": "code",
      "execution_count": null,
      "metadata": {
        "id": "KCEHqP3SELXY"
      },
      "outputs": [],
      "source": [
        "postcards.drop(\"city\", axis=1)"
      ]
    },
    {
      "cell_type": "code",
      "source": [
        "postcards # не удалилось?"
      ],
      "metadata": {
        "id": "1WcNi-T5LDFv"
      },
      "execution_count": null,
      "outputs": []
    },
    {
      "cell_type": "markdown",
      "metadata": {
        "id": "d_6VoflXELXZ"
      },
      "source": [
        "Чтобы изменения вошли в силу, реультат выражения нужно сохранить в переменную, либо добавить аргумент inplace=True "
      ]
    },
    {
      "cell_type": "code",
      "execution_count": null,
      "metadata": {
        "id": "zXrYYFBwELXZ"
      },
      "outputs": [],
      "source": [
        "postcards = postcards.drop(\"city\", axis=1, inplace=True)\n",
        "# в этой ячейке можете попробовать"
      ]
    },
    {
      "cell_type": "markdown",
      "metadata": {
        "id": "ZDTCdrD6uhXl"
      },
      "source": [
        "### Сохранение датафрейма в файл "
      ]
    },
    {
      "cell_type": "code",
      "execution_count": null,
      "metadata": {
        "id": "u-tvDza7T8ad"
      },
      "outputs": [],
      "source": [
        "# сохраним в .csv файл\n",
        "\n",
        "postcards.to_csv('postcards.csv', encoding='utf-8') \n",
        "\n",
        "# postcards.to_excel('postcards.xlsx')"
      ]
    },
    {
      "cell_type": "markdown",
      "metadata": {
        "id": "IgtDJfqPKYiu"
      },
      "source": [
        "### Фильтры и прочие манипуляции"
      ]
    },
    {
      "cell_type": "code",
      "execution_count": null,
      "metadata": {
        "id": "9dQc2idIELXa"
      },
      "outputs": [],
      "source": [
        "# посмотрим, кто работает шеф-поваром\n",
        "# квадратные скобки создают подвыборку из датасета, удовлетворяющую условиям\n",
        "\n",
        "postcards[  postcards[\"job\"] == \"Chef\"  ]"
      ]
    },
    {
      "cell_type": "code",
      "execution_count": null,
      "metadata": {
        "id": "IZas6n3v3KOH",
        "tags": []
      },
      "outputs": [],
      "source": [
        "# поищем всех людей старше 40\n",
        "\n",
        "postcards[ postcards[\"age\"] > 40 ]"
      ]
    },
    {
      "cell_type": "code",
      "execution_count": null,
      "metadata": {
        "id": "hGKBGJL13r_K",
        "colab": {
          "base_uri": "https://localhost:8080/",
          "height": 175
        },
        "outputId": "d37770d4-1cc4-4886-d6d2-70fd185aac18"
      },
      "outputs": [
        {
          "output_type": "execute_result",
          "data": {
            "text/plain": [
              "           city  age       job\n",
              "Maria    London   37    Artist\n",
              "Hans    Calgary   80    Artist\n",
              "Mark      Milan   55   Manager\n",
              "Julia  Murmansk   43  Engineer"
            ],
            "text/html": [
              "\n",
              "  <div id=\"df-b2997acd-3f70-4632-8c29-a8017c8b99ee\">\n",
              "    <div class=\"colab-df-container\">\n",
              "      <div>\n",
              "<style scoped>\n",
              "    .dataframe tbody tr th:only-of-type {\n",
              "        vertical-align: middle;\n",
              "    }\n",
              "\n",
              "    .dataframe tbody tr th {\n",
              "        vertical-align: top;\n",
              "    }\n",
              "\n",
              "    .dataframe thead th {\n",
              "        text-align: right;\n",
              "    }\n",
              "</style>\n",
              "<table border=\"1\" class=\"dataframe\">\n",
              "  <thead>\n",
              "    <tr style=\"text-align: right;\">\n",
              "      <th></th>\n",
              "      <th>city</th>\n",
              "      <th>age</th>\n",
              "      <th>job</th>\n",
              "    </tr>\n",
              "  </thead>\n",
              "  <tbody>\n",
              "    <tr>\n",
              "      <th>Maria</th>\n",
              "      <td>London</td>\n",
              "      <td>37</td>\n",
              "      <td>Artist</td>\n",
              "    </tr>\n",
              "    <tr>\n",
              "      <th>Hans</th>\n",
              "      <td>Calgary</td>\n",
              "      <td>80</td>\n",
              "      <td>Artist</td>\n",
              "    </tr>\n",
              "    <tr>\n",
              "      <th>Mark</th>\n",
              "      <td>Milan</td>\n",
              "      <td>55</td>\n",
              "      <td>Manager</td>\n",
              "    </tr>\n",
              "    <tr>\n",
              "      <th>Julia</th>\n",
              "      <td>Murmansk</td>\n",
              "      <td>43</td>\n",
              "      <td>Engineer</td>\n",
              "    </tr>\n",
              "  </tbody>\n",
              "</table>\n",
              "</div>\n",
              "      <button class=\"colab-df-convert\" onclick=\"convertToInteractive('df-b2997acd-3f70-4632-8c29-a8017c8b99ee')\"\n",
              "              title=\"Convert this dataframe to an interactive table.\"\n",
              "              style=\"display:none;\">\n",
              "        \n",
              "  <svg xmlns=\"http://www.w3.org/2000/svg\" height=\"24px\"viewBox=\"0 0 24 24\"\n",
              "       width=\"24px\">\n",
              "    <path d=\"M0 0h24v24H0V0z\" fill=\"none\"/>\n",
              "    <path d=\"M18.56 5.44l.94 2.06.94-2.06 2.06-.94-2.06-.94-.94-2.06-.94 2.06-2.06.94zm-11 1L8.5 8.5l.94-2.06 2.06-.94-2.06-.94L8.5 2.5l-.94 2.06-2.06.94zm10 10l.94 2.06.94-2.06 2.06-.94-2.06-.94-.94-2.06-.94 2.06-2.06.94z\"/><path d=\"M17.41 7.96l-1.37-1.37c-.4-.4-.92-.59-1.43-.59-.52 0-1.04.2-1.43.59L10.3 9.45l-7.72 7.72c-.78.78-.78 2.05 0 2.83L4 21.41c.39.39.9.59 1.41.59.51 0 1.02-.2 1.41-.59l7.78-7.78 2.81-2.81c.8-.78.8-2.07 0-2.86zM5.41 20L4 18.59l7.72-7.72 1.47 1.35L5.41 20z\"/>\n",
              "  </svg>\n",
              "      </button>\n",
              "      \n",
              "  <style>\n",
              "    .colab-df-container {\n",
              "      display:flex;\n",
              "      flex-wrap:wrap;\n",
              "      gap: 12px;\n",
              "    }\n",
              "\n",
              "    .colab-df-convert {\n",
              "      background-color: #E8F0FE;\n",
              "      border: none;\n",
              "      border-radius: 50%;\n",
              "      cursor: pointer;\n",
              "      display: none;\n",
              "      fill: #1967D2;\n",
              "      height: 32px;\n",
              "      padding: 0 0 0 0;\n",
              "      width: 32px;\n",
              "    }\n",
              "\n",
              "    .colab-df-convert:hover {\n",
              "      background-color: #E2EBFA;\n",
              "      box-shadow: 0px 1px 2px rgba(60, 64, 67, 0.3), 0px 1px 3px 1px rgba(60, 64, 67, 0.15);\n",
              "      fill: #174EA6;\n",
              "    }\n",
              "\n",
              "    [theme=dark] .colab-df-convert {\n",
              "      background-color: #3B4455;\n",
              "      fill: #D2E3FC;\n",
              "    }\n",
              "\n",
              "    [theme=dark] .colab-df-convert:hover {\n",
              "      background-color: #434B5C;\n",
              "      box-shadow: 0px 1px 3px 1px rgba(0, 0, 0, 0.15);\n",
              "      filter: drop-shadow(0px 1px 2px rgba(0, 0, 0, 0.3));\n",
              "      fill: #FFFFFF;\n",
              "    }\n",
              "  </style>\n",
              "\n",
              "      <script>\n",
              "        const buttonEl =\n",
              "          document.querySelector('#df-b2997acd-3f70-4632-8c29-a8017c8b99ee button.colab-df-convert');\n",
              "        buttonEl.style.display =\n",
              "          google.colab.kernel.accessAllowed ? 'block' : 'none';\n",
              "\n",
              "        async function convertToInteractive(key) {\n",
              "          const element = document.querySelector('#df-b2997acd-3f70-4632-8c29-a8017c8b99ee');\n",
              "          const dataTable =\n",
              "            await google.colab.kernel.invokeFunction('convertToInteractive',\n",
              "                                                     [key], {});\n",
              "          if (!dataTable) return;\n",
              "\n",
              "          const docLinkHtml = 'Like what you see? Visit the ' +\n",
              "            '<a target=\"_blank\" href=https://colab.research.google.com/notebooks/data_table.ipynb>data table notebook</a>'\n",
              "            + ' to learn more about interactive tables.';\n",
              "          element.innerHTML = '';\n",
              "          dataTable['output_type'] = 'display_data';\n",
              "          await google.colab.output.renderOutput(dataTable, element);\n",
              "          const docLink = document.createElement('div');\n",
              "          docLink.innerHTML = docLinkHtml;\n",
              "          element.appendChild(docLink);\n",
              "        }\n",
              "      </script>\n",
              "    </div>\n",
              "  </div>\n",
              "  "
            ]
          },
          "metadata": {},
          "execution_count": 44
        }
      ],
      "source": [
        "# условия можно компоновать логическими операторами\n",
        "# синтаксис: df[(условие1) оператор (условие2)]\n",
        "\n",
        "#ищем, кто старше 30 и не работает шеф-поваром\n",
        "\n",
        "postcards[ (postcards[\"age\"] > 30) & (postcards[\"job\"] != \"Chef\")  ]\n",
        "\n",
        "# & | из темы множества"
      ]
    },
    {
      "cell_type": "markdown",
      "metadata": {
        "id": "3oz0IY2oELXa"
      },
      "source": [
        "Над значениями в колонках можно производить различные операции:\n",
        "* например, арифметические (если данные количественные):"
      ]
    },
    {
      "cell_type": "code",
      "source": [
        "print(postcards[\"age\"].sum()) # работает всегда\n",
        "print(postcards.age.sum()) # краткая запись, работает с простыми названиями из 1 слова без пробелов"
      ],
      "metadata": {
        "id": "xkQ_qCTfbU_q"
      },
      "execution_count": null,
      "outputs": []
    },
    {
      "cell_type": "code",
      "execution_count": null,
      "metadata": {
        "id": "pqvjgc9-4c5G"
      },
      "outputs": [],
      "source": [
        "print(postcards.age.sum())\n",
        "print(postcards.age.mean())\n",
        "print(postcards.age.min())\n",
        "print(postcards.age.max())"
      ]
    },
    {
      "cell_type": "markdown",
      "metadata": {
        "id": "589isE_EELXb"
      },
      "source": [
        "Если данные категориальные, можно искать уникальные значения, упорядочивать по алфавиту и тд"
      ]
    },
    {
      "cell_type": "code",
      "execution_count": null,
      "metadata": {
        "id": "EtS4vzvcELXb"
      },
      "outputs": [],
      "source": [
        "print(postcards.job.values) # все значения \n",
        "print(postcards.job.value_counts()) # число повторов\n",
        "print(postcards.job.sort_values()) # сортировка\n",
        "\n",
        "print(postcards.job.unique()) # все уникальные в колонке\n",
        "print(postcards.job.nunique()) # сколько уникальных в колонке"
      ]
    },
    {
      "cell_type": "markdown",
      "source": [
        "### Дополнительное задание 1: колонии\n",
        "\n",
        "Вы работаете с датасетом от Гарвардского университета, в котором хранится информация о государствах - бывших колониях. Посчитайте:\n",
        "* количество этих государств (Country Name)\n",
        "* среднюю продолжительность колониального периода (COLYEARS)\n",
        "* максимальную продолжительность зависимости (COLYEARS)\n",
        "\n",
        "Скачать данные можно здесь: https://raw.githubusercontent.com/AnnSenina/Python_for_CL/main/data/Colonial.csv"
      ],
      "metadata": {
        "id": "EAMUkgzxOW7V"
      }
    },
    {
      "cell_type": "code",
      "source": [
        "# ваш код здесь\n"
      ],
      "metadata": {
        "id": "dPEtW7NRQV-E"
      },
      "execution_count": null,
      "outputs": []
    },
    {
      "cell_type": "markdown",
      "source": [
        "### Дополнительное задание 2: тревожность и телевидение\n",
        "\n",
        "Вы изучаете взаимосвязь тревожности и просмотра телевиденья. Вам необходимо расчитать следующие характеристики:\n",
        "\n",
        "* Сколько человек приняло участие в исследовании?\n",
        "* Каков минимальный и максимальный возраст участников?\n",
        "* Сколько в выборке женщин?\n",
        "* Какое среднее значение тревожности наблюдается в данных?\n",
        "\n",
        "Скачать данные можно здесь: https://raw.githubusercontent.com/AnnSenina/Python_for_CL/main/data/socio.csv"
      ],
      "metadata": {
        "id": "9bUqPFz9QXYz"
      }
    },
    {
      "cell_type": "code",
      "source": [
        "# ваш код здесь\n"
      ],
      "metadata": {
        "id": "z7mbp3iFVwTK"
      },
      "execution_count": null,
      "outputs": []
    },
    {
      "cell_type": "markdown",
      "source": [
        "###Бонус! raw-файлы в GitHub"
      ],
      "metadata": {
        "id": "1ZhBMwMs2hQe"
      }
    },
    {
      "cell_type": "code",
      "source": [
        "# по raw-ссылке с GitHub csv-файлы тоже можно открывать\n",
        "\n",
        "import pandas as pd\n",
        "data = pd.read_csv('https://raw.githubusercontent.com/AnnSenina/AnnSenina/main/2022.csv', decimal=',') # попробуйте без аргумента decimal, что не так?\n",
        "data.head()"
      ],
      "metadata": {
        "id": "95-dp6gI2gzV"
      },
      "execution_count": null,
      "outputs": []
    }
  ],
  "metadata": {
    "colab": {
      "provenance": [],
      "include_colab_link": true
    },
    "kernelspec": {
      "display_name": "Python 3 (ipykernel)",
      "language": "python",
      "name": "python3"
    },
    "language_info": {
      "codemirror_mode": {
        "name": "ipython",
        "version": 3
      },
      "file_extension": ".py",
      "mimetype": "text/x-python",
      "name": "python",
      "nbconvert_exporter": "python",
      "pygments_lexer": "ipython3",
      "version": "3.10.0"
    }
  },
  "nbformat": 4,
  "nbformat_minor": 0
}