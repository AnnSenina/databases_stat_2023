{
  "nbformat": 4,
  "nbformat_minor": 0,
  "metadata": {
    "colab": {
      "provenance": [],
      "include_colab_link": true
    },
    "kernelspec": {
      "name": "python3",
      "display_name": "Python 3"
    },
    "language_info": {
      "name": "python"
    }
  },
  "cells": [
    {
      "cell_type": "markdown",
      "metadata": {
        "id": "view-in-github",
        "colab_type": "text"
      },
      "source": [
        "<a href=\"https://colab.research.google.com/github/AnnSenina/databases_stat_2023/blob/main/notebooks/%D0%9A%D0%BE%D1%80%D1%80%D0%B5%D0%BB%D1%8F%D1%86%D0%B8%D0%B8.ipynb\" target=\"_parent\"><img src=\"https://colab.research.google.com/assets/colab-badge.svg\" alt=\"Open In Colab\"/></a>"
      ]
    },
    {
      "cell_type": "markdown",
      "source": [
        "# Откройте данные"
      ],
      "metadata": {
        "id": "IRBZuD09FVPJ"
      }
    },
    {
      "cell_type": "code",
      "execution_count": null,
      "metadata": {
        "id": "W9bM1Y8YE0Cl"
      },
      "outputs": [],
      "source": [
        "import pandas as pd\n",
        "df = pd.read_csv('https://raw.githubusercontent.com/AnnSenina/databases_stat_2023/main/BikeDataVar.csv')\n",
        "df.head()"
      ]
    },
    {
      "cell_type": "code",
      "source": [
        "df.info()"
      ],
      "metadata": {
        "id": "2x3mOZ_mqO52"
      },
      "execution_count": null,
      "outputs": []
    },
    {
      "cell_type": "markdown",
      "source": [
        "### Пропуски\n",
        "\n",
        "Для некоторых видов анализа пропуски будут мешать\n"
      ],
      "metadata": {
        "id": "sMrljCRM6_GI"
      }
    },
    {
      "cell_type": "code",
      "source": [
        "df = df.dropna() # удалить пропуски\n",
        "# df = df.fillna(0) # заполнить пропуски нулями\n",
        "# df = df.fillna(df.mean()) # заполнить средними\n",
        "# df = df.fillna(df.meadian()) # заполнить медианой"
      ],
      "metadata": {
        "id": "v2RXNiwp7FkH"
      },
      "execution_count": 11,
      "outputs": []
    },
    {
      "cell_type": "markdown",
      "source": [
        "Посчитаем все корреляции разом"
      ],
      "metadata": {
        "id": "-CVh2maKFYy9"
      }
    },
    {
      "cell_type": "code",
      "source": [
        "df.corr()"
      ],
      "metadata": {
        "id": "IuVaMJRG63TA"
      },
      "execution_count": null,
      "outputs": []
    },
    {
      "cell_type": "code",
      "source": [
        "df.columns"
      ],
      "metadata": {
        "id": "99ZrBodyrGJf"
      },
      "execution_count": null,
      "outputs": []
    },
    {
      "cell_type": "code",
      "source": [
        "df[['Temperature', 'Humidity', 'Wind speed', 'Rainfall', 'Snowfall']].corr() \n",
        "# df[  [столбец1, столбец2]  ] - выбор нескольких столбцов"
      ],
      "metadata": {
        "id": "HqMnYUYXFe3v"
      },
      "execution_count": null,
      "outputs": []
    },
    {
      "cell_type": "code",
      "source": [
        "# Из документации: Method of correlation:\n",
        "#pearson : standard correlation coefficient\n",
        "#kendall : Kendall Tau correlation coefficient\n",
        "#spearman : Spearman rank correlation\n",
        "\n",
        "# рассчитайте все 3 коэффициента, найдем различия\n",
        "df2 = df[['Temperature', 'Humidity', 'Wind speed', 'Rainfall', 'Snowfall']]\n",
        "df2.corr('pearson')"
      ],
      "metadata": {
        "id": "HcVPxYsYFu_e"
      },
      "execution_count": null,
      "outputs": []
    },
    {
      "cell_type": "code",
      "source": [
        "# рассчитаем p-value\n",
        "# документация https://docs.scipy.org/doc/scipy/reference/generated/scipy.stats.pearsonr.html\n",
        "import numpy as np\n",
        "from scipy import stats\n",
        "\n",
        "res = stats.pearsonr(df.Temperature, df.Humidity) \n",
        "res"
      ],
      "metadata": {
        "id": "aSY3t5tNHXIW"
      },
      "execution_count": null,
      "outputs": []
    },
    {
      "cell_type": "markdown",
      "source": [
        "Дальше будем добавлять визуализацию"
      ],
      "metadata": {
        "id": "uMpoWNuALUoX"
      }
    },
    {
      "cell_type": "code",
      "source": [
        "# scatterplot\n",
        "import matplotlib.pyplot as plt\n",
        "import seaborn as sns\n",
        "\n",
        "plt.scatter(x = df['Temperature'], y = df['Humidity']);"
      ],
      "metadata": {
        "id": "t_LtnFtuLUC5"
      },
      "execution_count": null,
      "outputs": []
    },
    {
      "cell_type": "code",
      "source": [
        "# correlogram, или тепловая карта\n",
        "plt.figure(figsize=(12,10), dpi= 80)\n",
        "sns.heatmap(df2.corr(), cmap='RdYlGn', center=0, annot=True)\n",
        "plt.title('Correlogram', fontsize=22);"
      ],
      "metadata": {
        "id": "U8JKV7xFLZlO"
      },
      "execution_count": null,
      "outputs": []
    },
    {
      "cell_type": "code",
      "source": [
        "# seaborn pairplot\n",
        "sns.pairplot(df2);"
      ],
      "metadata": {
        "id": "2-k9V-faLcnV"
      },
      "execution_count": null,
      "outputs": []
    },
    {
      "cell_type": "markdown",
      "source": [
        "### Иногда нашим данным может помочь преобразование"
      ],
      "metadata": {
        "id": "k44CNNnW8lUN"
      }
    },
    {
      "cell_type": "code",
      "source": [
        "df['Date'] = pd.to_datetime(df['Date'])\n",
        "df['Date'].info()"
      ],
      "metadata": {
        "id": "kOIaq2gF8pNA"
      },
      "execution_count": null,
      "outputs": []
    },
    {
      "cell_type": "code",
      "source": [
        "# пандас умеет работать с датами, документация https://www.geeksforgeeks.org/python-pandas-series-dt-week/\n",
        "bikes_sum = df.groupby(df['Date'].dt.week)['Rental Count'].sum() \n",
        "temp_mean = df.groupby(df['Date'].dt.week)['Temperature'].mean()\n",
        "humidity_mean = df.groupby(df['Date'].dt.week)['Humidity'].mean()\n",
        "wind_mean = df.groupby(df['Date'].dt.week)['Wind speed'].mean()\n",
        "\n",
        "df_weeks = pd.concat([bikes_sum, temp_mean, humidity_mean, wind_mean], axis=1)\n",
        "df_weeks"
      ],
      "metadata": {
        "id": "KXcA08wK86Y1"
      },
      "execution_count": null,
      "outputs": []
    },
    {
      "cell_type": "code",
      "source": [
        "# просто для сравнения: а вот так выглядела бы группировка по дням:\n",
        "bikes_sum = df.groupby(df['Date'])['Rental Count'].sum() # по дням\n",
        "temp_mean = df.groupby(df['Date'])['Temperature'].mean()\n",
        "humidity_mean = df.groupby(df['Date'])['Humidity'].mean()\n",
        "wind_mean = df.groupby(df['Date'])['Wind speed'].mean()\n",
        "\n",
        "df_days = pd.concat([bikes_sum, temp_mean, humidity_mean, wind_mean], axis=1)\n",
        "df_days"
      ],
      "metadata": {
        "id": "KmWCl12o89tb"
      },
      "execution_count": null,
      "outputs": []
    },
    {
      "cell_type": "code",
      "source": [
        "sns.heatmap(df_weeks.corr(), annot=True, cmap='RdYlGn')\n",
        "plt.title('Weeks', fontsize=22);"
      ],
      "metadata": {
        "id": "L4OBf0Po9Riw"
      },
      "execution_count": null,
      "outputs": []
    },
    {
      "cell_type": "code",
      "source": [
        "sns.pairplot(df_weeks);"
      ],
      "metadata": {
        "id": "D8QzzPO99Stp"
      },
      "execution_count": null,
      "outputs": []
    },
    {
      "cell_type": "code",
      "source": [
        "sns.heatmap(df_days.corr(), annot=True, cmap='RdYlGn')\n",
        "plt.title('Days', fontsize=22);"
      ],
      "metadata": {
        "id": "Ugy6tmdm9UlF"
      },
      "execution_count": null,
      "outputs": []
    },
    {
      "cell_type": "code",
      "source": [
        "sns.pairplot(df_days);"
      ],
      "metadata": {
        "id": "8eu7aCA89csv"
      },
      "execution_count": null,
      "outputs": []
    }
  ]
}