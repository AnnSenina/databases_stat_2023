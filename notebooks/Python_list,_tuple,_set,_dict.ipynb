{
  "nbformat": 4,
  "nbformat_minor": 0,
  "metadata": {
    "colab": {
      "provenance": [],
      "include_colab_link": true
    },
    "kernelspec": {
      "name": "python3",
      "display_name": "Python 3"
    },
    "language_info": {
      "name": "python"
    }
  },
  "cells": [
    {
      "cell_type": "markdown",
      "metadata": {
        "id": "view-in-github",
        "colab_type": "text"
      },
      "source": [
        "<a href=\"https://colab.research.google.com/github/AnnSenina/Python_DH_2023/blob/main/notebooks/Python_3_list%2C_tuple%2C_set%2C_dict.ipynb\" target=\"_parent\"><img src=\"https://colab.research.google.com/assets/colab-badge.svg\" alt=\"Open In Colab\"/></a>"
      ]
    },
    {
      "cell_type": "markdown",
      "source": [
        "### Маленький долг с прошлой пары..."
      ],
      "metadata": {
        "id": "yvI7kCZeoxBB"
      }
    },
    {
      "cell_type": "code",
      "source": [
        "# строку можно разбить на список:\n",
        "s = 'good evening'\n",
        "l = s.split()\n",
        "print(l)"
      ],
      "metadata": {
        "id": "_V3g2EoTo0sS"
      },
      "execution_count": null,
      "outputs": []
    },
    {
      "cell_type": "markdown",
      "source": [
        "### А если вам нужно разбить на список из чисел?"
      ],
      "metadata": {
        "id": "Eeh9M8AypEfW"
      }
    },
    {
      "cell_type": "code",
      "source": [
        "n = '100, 1000, 10000'\n",
        "num = n.split(', ') # разбивается на строки\n",
        "print(num)"
      ],
      "metadata": {
        "id": "NOabFXSrphO8"
      },
      "execution_count": null,
      "outputs": []
    },
    {
      "cell_type": "code",
      "source": [
        "# функция map применяет действие к каждому объекту\n",
        "print(map(int, num))\n",
        "# фукнцияя сработала, но появился особый объект, который надо снова превратить в список\n",
        "print(list(map(int, num)))"
      ],
      "metadata": {
        "id": "HgzTcWk7qH3_"
      },
      "execution_count": null,
      "outputs": []
    },
    {
      "cell_type": "code",
      "source": [
        "# соберем в 1 действие\n",
        "n = '100, 1000, 10000'\n",
        "num = list(map(int, n.split(', '))) \n",
        "print(num)"
      ],
      "metadata": {
        "id": "gUzO5SmcpZ0k"
      },
      "execution_count": null,
      "outputs": []
    },
    {
      "cell_type": "code",
      "source": [
        "n = '100, 1000, 10000'\n",
        "num = list(map(float, n.split(', ')))\n",
        "print(num)"
      ],
      "metadata": {
        "id": "riv7nIsdp8Ay"
      },
      "execution_count": null,
      "outputs": []
    },
    {
      "cell_type": "code",
      "source": [
        "n = '100.5, 125.0, 160.0, 98.0, 205.0, 130.0, 70.9'\n",
        "num = list(map(float, n.split(', ')))\n",
        "print(num)"
      ],
      "metadata": {
        "id": "MzMdjUeQpIkx"
      },
      "execution_count": null,
      "outputs": []
    },
    {
      "cell_type": "markdown",
      "source": [
        "#Более сложные типы данных: контейнеры"
      ],
      "metadata": {
        "id": "vNCiG3qMdown"
      }
    },
    {
      "cell_type": "markdown",
      "source": [
        "#Списки и кортежи\n",
        "Эти объекты - контейнеры, хранят другие данные"
      ],
      "metadata": {
        "id": "i4yGfh1mMrc5"
      }
    },
    {
      "cell_type": "markdown",
      "source": [
        "##списки\n",
        "изменяемые итерируемые коллекции объектов произвольных типов. Записываются в квадратных скобках []"
      ],
      "metadata": {
        "id": "r2N9tbMJNJEt"
      }
    },
    {
      "cell_type": "code",
      "source": [
        "my_list = [5, 800.6, True, 'hello', [1221, 13654]] # в списке могут быть элементы разных типов\n",
        "print(my_list)\n",
        "print(len(my_list)) # длина списка, количество элементов\n",
        "print(type(my_list))"
      ],
      "metadata": {
        "id": "nW9m3zKKNEnN"
      },
      "execution_count": null,
      "outputs": []
    },
    {
      "cell_type": "code",
      "source": [
        "# как создать список?\n",
        "l = [] # по литералу, специальному символу, обозначающему список\n",
        "print(l)\n",
        "l2 = list()\n",
        "print(l2) # с помощью функции list()"
      ],
      "metadata": {
        "id": "fT9UcrONNjPy"
      },
      "execution_count": null,
      "outputs": []
    },
    {
      "cell_type": "code",
      "source": [
        "# превратить итерируемый объект в список с помощью функции list()\n",
        "s = 'hello'\n",
        "print(list(s))"
      ],
      "metadata": {
        "id": "ZdxR8tBHNq6O"
      },
      "execution_count": null,
      "outputs": []
    },
    {
      "cell_type": "markdown",
      "source": [
        "###Методы списков\n",
        "Напишем программу, которая к списку книг books добавит книгу по вашей\n",
        "теме."
      ],
      "metadata": {
        "id": "t_jwjdNTM9N1"
      }
    },
    {
      "cell_type": "code",
      "execution_count": null,
      "metadata": {
        "id": "k5xXAc45Mi5Q"
      },
      "outputs": [],
      "source": [
        "books = ['Блок М. Короли-чудотворцы', 'Гинзбург К. Сыр и черви']\n",
        "books.append('Земон-Девис Н. Дамы на обочине') #добавить 1 элемент в конец списка\n",
        "print(books)"
      ]
    },
    {
      "cell_type": "code",
      "source": [
        "books.append('Земон-Девис Н. Дамы на обочине') #добавить 1 элемент в конец списка - меняется исходный список!\n",
        "print(books)"
      ],
      "metadata": {
        "id": "c61y4zI_YoQr"
      },
      "execution_count": null,
      "outputs": []
    },
    {
      "cell_type": "code",
      "source": [
        "books = ['Блок М. Короли-чудотворцы', 'Гинзбург К. Сыр и черви']\n",
        "\n",
        "#print(books + 'Земон-Девис Н. Дамы на обочине')\n",
        "new_books = books + ['Земон-Девис Н. \"Дамы на обочине\"'] # сложение списков\n",
        "print(new_books)"
      ],
      "metadata": {
        "id": "ZoomuIt8TjwN"
      },
      "execution_count": 12,
      "outputs": []
    },
    {
      "cell_type": "code",
      "source": [
        "books.extend([\"Веселовский. История земства за 40 лет\", \"Ле Руа Ладюри Э. Монтайю, окситанская деревня\"]) # расширить список, добавив в конец все элементы, написанные в скобках метода extend\n",
        "print(books)\n",
        "# аналогично books + [\"Веселовский. История земства за 40 лет\", \"Ле Руа Ладюри Э. Монтайю, окситанская деревня\"]"
      ],
      "metadata": {
        "id": "CB99f5OuOWEF"
      },
      "execution_count": null,
      "outputs": []
    },
    {
      "cell_type": "code",
      "source": [
        "books.insert(2, 'Арьес Ф. «Человек перед лицом смерти»') # метод, позволяющий добавить объект на конкретное место (индекс)\n",
        "print(books)\n",
        "# списки можно перебирать по индексам\n",
        "print(books[2])"
      ],
      "metadata": {
        "id": "zPH5ipNPPIeQ"
      },
      "execution_count": null,
      "outputs": []
    },
    {
      "cell_type": "code",
      "source": [
        "# красиво напечатаем список\n",
        "print(new_books)\n",
        "print(*new_books) # по умолчанию sep=\" \"\n",
        "print(*new_books, sep=\", \")"
      ],
      "metadata": {
        "id": "QqRO7MVDUaWH"
      },
      "execution_count": null,
      "outputs": []
    },
    {
      "cell_type": "code",
      "source": [
        "# списки - изменяемые объекты\n",
        "books[1] = 'Новая книга'\n",
        "print(books)"
      ],
      "metadata": {
        "id": "82DVukoaWE1j"
      },
      "execution_count": null,
      "outputs": []
    },
    {
      "cell_type": "code",
      "source": [
        "books.remove('Блок М. Короли-чудотворцы') # удаление элемента из списка, если знаем его значение\n",
        "print(books)"
      ],
      "metadata": {
        "id": "NCZkQyAjPmPi"
      },
      "execution_count": null,
      "outputs": []
    },
    {
      "cell_type": "code",
      "source": [
        "del books[2] # удаляем второй (считая с нуля) элемент из списка\n",
        "print(books)"
      ],
      "metadata": {
        "id": "4Gxly7lpP2I5"
      },
      "execution_count": null,
      "outputs": []
    },
    {
      "cell_type": "code",
      "source": [
        "# доступ к индексу элемента по значению\n",
        "\n",
        "print(books)\n",
        "# аналогично методу .find для строк\n",
        "print(books.index('Арьес Ф. «Человек перед лицом смерти»')) # посмотрим, на каком месте (считая от нуля) элемент\n",
        "print(books.count(\"Веселовский. История земства за 40 лет\")) # посмотрим, сколько раз встречается нужный элемент в списке"
      ],
      "metadata": {
        "id": "L6MymXRBP_ud"
      },
      "execution_count": null,
      "outputs": []
    },
    {
      "cell_type": "code",
      "source": [
        "books.clear() # очистим список от всех элементов\n",
        "print(books, \"\\nдлина списка = \", len(books)) # напечатаем список и его длину"
      ],
      "metadata": {
        "id": "T2OOZ9gqRlfN"
      },
      "execution_count": null,
      "outputs": []
    },
    {
      "cell_type": "markdown",
      "source": [
        "Задание 1"
      ],
      "metadata": {
        "id": "FiE7zffsfXv1"
      }
    },
    {
      "cell_type": "code",
      "source": [
        "print(new_books)"
      ],
      "metadata": {
        "id": "HJa2KFcLfakY"
      },
      "execution_count": null,
      "outputs": []
    },
    {
      "cell_type": "code",
      "source": [
        "# напишите программу, котороая извлечет название книги \"Дамы на обочине\" из списка new_books\n"
      ],
      "metadata": {
        "id": "AFfExR-afhHh"
      },
      "execution_count": null,
      "outputs": []
    },
    {
      "cell_type": "markdown",
      "source": [
        "##Кортеж (tuple)\n",
        "это неизменяемый список.\n",
        "\n",
        "Зачем нужны кортежи, если есть списки?\n",
        "\n",
        "1. Защита данных. Кортеж защищен от изменений, как намеренных (что плохо), так и случайных (что хорошо).\n",
        "2. Меньший размер. Вам нужно меньше памяти, чтобы хранить данные"
      ],
      "metadata": {
        "id": "VJvATKG-R9lb"
      }
    },
    {
      "cell_type": "code",
      "source": [
        "# сравним размеры в байтах\n",
        "\n",
        "a = (1, 2, 3, 4, 5, 6) # кортеж\n",
        "b = [1, 2, 3, 4, 5, 6] # лист/список\n",
        "\n",
        "print(\"Size of the tuple: \", a.__sizeof__(), \"\\nsize of the list: \", b.__sizeof__()) "
      ],
      "metadata": {
        "id": "oPaKUTdQSBrs"
      },
      "execution_count": null,
      "outputs": []
    },
    {
      "cell_type": "code",
      "source": [
        "# как создать кортеж\n",
        "a = tuple() \n",
        "\n",
        "print(a, \"\\n\",type(a))"
      ],
      "metadata": {
        "id": "kuxmOUEuSGDT"
      },
      "execution_count": null,
      "outputs": []
    },
    {
      "cell_type": "code",
      "source": [
        "# с помощью литерала кортежа ()\n",
        "b = ()\n",
        "print(b, \"\\n\",type(b))"
      ],
      "metadata": {
        "id": "ts6YO3fJSYuM"
      },
      "execution_count": null,
      "outputs": []
    },
    {
      "cell_type": "code",
      "source": [
        "# Создаем кортеж из одного элемента:\n",
        "a = ('apple', )\n",
        "print(a)\n",
        "b = 'apple', # если опустить скобки, но поставить запятую - получится кортеж\n",
        "print(b)\n",
        "\n",
        "c = ('apple') # строка\n",
        "print(c)"
      ],
      "metadata": {
        "id": "U77LlkToSdMl",
        "colab": {
          "base_uri": "https://localhost:8080/"
        },
        "outputId": "0829c8af-d32f-4afe-8493-e083072883ea"
      },
      "execution_count": null,
      "outputs": [
        {
          "output_type": "stream",
          "name": "stdout",
          "text": [
            "('apple',)\n",
            "('apple',)\n",
            "apple\n"
          ]
        }
      ]
    },
    {
      "cell_type": "markdown",
      "source": [
        "кортежам доступны все операции над списками, не изменяющие список: сложение, умножение на число, методы index() и count(), можно работать с индексами и так далее.\n",
        "\n"
      ],
      "metadata": {
        "id": "nySFCY7vSu4t"
      }
    },
    {
      "cell_type": "code",
      "source": [
        "# проверим, что кортежи не изменяются:\n",
        "b = 'apple', \n",
        "b[0] = 'banana'\n",
        "print(b)\n",
        "# ошибка - кортеж нельзя изменить"
      ],
      "metadata": {
        "id": "TaOAmAIqSweE"
      },
      "execution_count": null,
      "outputs": []
    },
    {
      "cell_type": "code",
      "source": [
        "b = ['apple', 'lemon'] \n",
        "b[0] = 'banana'\n",
        "print(b)"
      ],
      "metadata": {
        "id": "NNJs_10haFU8"
      },
      "execution_count": null,
      "outputs": []
    },
    {
      "cell_type": "markdown",
      "source": [
        "### Бонус! Для списков и кортежей легко считаются маленькие стандартные функции"
      ],
      "metadata": {
        "id": "om-iG6Auq58g"
      }
    },
    {
      "cell_type": "code",
      "source": [
        "n = [1, 66, 131]\n",
        "print(sum(n))\n",
        "print(min(n))\n",
        "print(max(n))\n",
        "print(len(n))"
      ],
      "metadata": {
        "id": "vHIukYJIrAs1"
      },
      "execution_count": null,
      "outputs": []
    },
    {
      "cell_type": "markdown",
      "source": [
        "# Неупорядоченные типы данных"
      ],
      "metadata": {
        "id": "EIXwluxVgM1A"
      }
    },
    {
      "cell_type": "markdown",
      "source": [
        "##Множество (set)\n",
        "это тоже \"контейнер\" для данных, но в отличие от списка, он содержит уникальные, не повторяющиеся элементы."
      ],
      "metadata": {
        "id": "wq7auSEsTC8g"
      }
    },
    {
      "cell_type": "code",
      "source": [
        "# создать множество с помощью функции set()\n",
        "print(set([34,78,\"banana\"])) # они перемешались, индексы не работают \n",
        "\n",
        "print(set(\"hello there\"))\n",
        "\n",
        "tmp = \"hello hello there\"\n",
        "print(set(tmp.split())) # split - из строки делает список\n",
        "print(len(set(tmp.split())))"
      ],
      "metadata": {
        "id": "AzwvrVoISubp"
      },
      "execution_count": null,
      "outputs": []
    },
    {
      "cell_type": "code",
      "source": [
        "# множества удобно использовать для удаления повторяющихся элементов:\n",
        "\n",
        "fruits = [\"apples\", \"peaches\", \"cherries\", \"pears\", \"oranges\", \"persimmons\"]\n",
        "# задали список, сохранили в переменную\n",
        "\n",
        "fruits.append(\"peaches\")# добавим еще больше персиков\n",
        "\n",
        "# давайте изменим тип объекта на set с помощью функции set()\n",
        "fruits = set(fruits) #применили функцию, пересохранили переменную\n",
        "\n",
        "print(fruits)"
      ],
      "metadata": {
        "id": "x6rqNQcwXbuM"
      },
      "execution_count": null,
      "outputs": []
    },
    {
      "cell_type": "code",
      "source": [
        "new_set = {2}  # создали переменную, сложили в нее некоторые объекты\n",
        "# можем складывать в множество объекты разных типов: числовые, строковые, логические\n",
        "\n",
        "# давайте проверим, что new_set действительно множество\n",
        "print(new_set, type(new_set))"
      ],
      "metadata": {
        "id": "I7l0pjzLXi2-"
      },
      "execution_count": null,
      "outputs": []
    },
    {
      "cell_type": "code",
      "source": [
        "# Важно!!!! обратите внимание, что в отличие от списка и кортежа, множество нельзя задать пустым литералом\n",
        "another_set = {} # создали пустое....\n",
        "\n",
        "# ....множество? Давайте проверим тип созданной переменной \n",
        "\n",
        "print(type(another_set)) \n",
        "\n",
        "new_set = set()\n",
        "print(type(new_set))"
      ],
      "metadata": {
        "id": "Z4LjFTi0XnXm"
      },
      "execution_count": null,
      "outputs": []
    },
    {
      "cell_type": "markdown",
      "source": [
        "###Операции со множествами\n"
      ],
      "metadata": {
        "id": "ZtkTEVoWXs68"
      }
    },
    {
      "cell_type": "code",
      "source": [
        "cars = [\"BMW\", \"Toyota\", \"Bentley\", \"Jeep\", \"Jeep\"]\n",
        "\n",
        "cars = set(cars)\n",
        "\n",
        "#число элементов в множестве (размер множества).\n",
        "len(cars)"
      ],
      "metadata": {
        "id": "HaWNVNz5Xuk6"
      },
      "execution_count": null,
      "outputs": []
    },
    {
      "cell_type": "code",
      "source": [
        "# принадлежит ли элемент множеству (со списками, кортежами тоже работает)\n",
        "\n",
        "print(\"BMW\" in cars)\n",
        "print(\"Chevrolet\" in cars)"
      ],
      "metadata": {
        "id": "xYurLCNBXyj8"
      },
      "execution_count": null,
      "outputs": []
    },
    {
      "cell_type": "code",
      "source": [
        "#добавляем элемент в множество\n",
        "\n",
        "cars.add('789') # без порядкового номера, индексы не работают\n",
        "print(cars)\n",
        "# для списков таких методов было много: мы могли добавить в конец, добавить на конкретный индекс - здесь мы добавляем без указания позиции, индексов нет!"
      ],
      "metadata": {
        "id": "Gk6t7MDzYIzX"
      },
      "execution_count": null,
      "outputs": []
    },
    {
      "cell_type": "code",
      "source": [
        "# добавляем множество во множество\n",
        "french_cars = {\"Peugeot\", \"Citroën\", \"Renault\"}\n",
        "cars.update(french_cars) # обновить первое множество, включив все элементы из нового множества (= аналог extend для списков, но без указания позиции, не в конец множества!)\n",
        "print(cars, '\\n', len(cars))"
      ],
      "metadata": {
        "id": "KkQhMuJEYMNS"
      },
      "execution_count": null,
      "outputs": []
    },
    {
      "cell_type": "code",
      "source": [
        "# удаляем элемент из множества. \n",
        "cars.remove(\"Jeep\")\n",
        "print(cars)"
      ],
      "metadata": {
        "id": "--4p9n4rYRuB"
      },
      "execution_count": null,
      "outputs": []
    },
    {
      "cell_type": "code",
      "source": [
        "cars.remove(\"Chevrolet\")\n",
        "print(cars)\n",
        "# KeyError, если такого элемента не существует."
      ],
      "metadata": {
        "id": "XVsi5k9jdF2h"
      },
      "execution_count": null,
      "outputs": []
    },
    {
      "cell_type": "code",
      "source": [
        "# Альтернативный вариант\n",
        "\n",
        "cars.discard(\"Lamborgini\") \n",
        "# удаляет элемент, если он находится в множестве.\n",
        "# Если элемента нет, не возвращает сообщение об ошибке\n",
        "print(cars)"
      ],
      "metadata": {
        "id": "wgNCA6lBYnq1"
      },
      "execution_count": null,
      "outputs": []
    },
    {
      "cell_type": "code",
      "source": [
        "# удаляет первый элемент\n",
        "\n",
        "print(cars.pop())\n",
        "print(cars)\n",
        "# запустите несколько раз, посмотрите на результат"
      ],
      "metadata": {
        "id": "XVhoJSArYr3i"
      },
      "execution_count": null,
      "outputs": []
    },
    {
      "cell_type": "code",
      "source": [
        "# очищаем множество\n",
        "\n",
        "cars.clear()\n",
        "print(len(cars), \"\\n\", cars)"
      ],
      "metadata": {
        "id": "Jkq2K3KuYvFs"
      },
      "execution_count": null,
      "outputs": []
    },
    {
      "cell_type": "markdown",
      "source": [
        "###Свойства множеств (логические операции)"
      ],
      "metadata": {
        "id": "GXp5enmeY9Bd"
      }
    },
    {
      "cell_type": "code",
      "source": [
        "fruits = {'apples', 'cherries', 'oranges', 'peaches', 'pears', 'persimmons'}\n",
        "fruits2 = {'apples', 'cherries', 'oranges', 'peaches', 'pears', 'persimmons', 'apples'}\n",
        "\n",
        "berries = {\"strawberry\", \"red currant\"}\n",
        "\n",
        "# сравнение множеств\n",
        "print(fruits == berries)\n",
        "# True если все элементы одного принадлежат второму\n",
        "print(fruits == fruits2)"
      ],
      "metadata": {
        "id": "xDg6p5dCmXm0"
      },
      "execution_count": null,
      "outputs": []
    },
    {
      "cell_type": "code",
      "source": [
        "# является ли подмножеством\n",
        "\n",
        "berries.issubset(fruits) \n",
        "# print(berries <= fruits) # аналогично методу issubset, но записанно оператором\n",
        "\n",
        "# аналогично, но в обратную сторону\n",
        "fruits.issuperset(berries) \n",
        "# print(berries >= fruits)"
      ],
      "metadata": {
        "id": "0uQkOEdsmuye"
      },
      "execution_count": null,
      "outputs": []
    },
    {
      "cell_type": "markdown",
      "source": [
        "Задание 2"
      ],
      "metadata": {
        "id": "_2dEv7WZiauy"
      }
    },
    {
      "cell_type": "code",
      "source": [
        "fruits3 = {'oranges', 'pears'}\n",
        "# проверьте, равны ли множества fruits и fruits3?\n",
        "# является ли fruits3 подмножеством fruits?\n",
        "# является ли fruits подмножеством fruits3?\n",
        "\n",
        "\n"
      ],
      "metadata": {
        "id": "DXHcwlSgiaAT"
      },
      "execution_count": null,
      "outputs": []
    },
    {
      "cell_type": "code",
      "source": [
        "# объединение нескольких множеств \n",
        "\n",
        "print(fruits.union(berries))\n",
        "print(fruits | berries)"
      ],
      "metadata": {
        "id": "2NaZK0xFmyL-"
      },
      "execution_count": null,
      "outputs": []
    },
    {
      "cell_type": "code",
      "source": [
        "#  пересечение множеств (пустое, если нет общих элементов)\n",
        "\n",
        "print(fruits.intersection(berries))\n",
        "# print(fruits & berries) аналогично intersection, но записано оператором\n",
        "\n",
        "cars = [\"BMW\",\"Toyota\",\"Bentley\",\"Jeep\",\"Jeep\"]\n",
        "cars = set(cars)\n",
        "french_cars = {\"Peugeot\", \"Citroën\", \"Renault\", \"Jeep\"}\n",
        "print(cars.intersection(french_cars))"
      ],
      "metadata": {
        "id": "xMnNzaV6nFlA"
      },
      "execution_count": null,
      "outputs": []
    },
    {
      "cell_type": "code",
      "source": [
        "print(cars & french_cars) # пересечение = общее\n",
        "print(cars | french_cars) # объединение = все значения из обоих множеств\n",
        "print(cars ^ french_cars) # только различное, симметрическая разница\n",
        "print(cars - french_cars) # отличия множеств"
      ],
      "metadata": {
        "id": "PmVqhrYZgPvL"
      },
      "execution_count": null,
      "outputs": []
    },
    {
      "cell_type": "markdown",
      "source": [
        "Задание 3. Заявка на грант"
      ],
      "metadata": {
        "id": "c4mbVYnuj4-f"
      }
    },
    {
      "cell_type": "code",
      "source": [
        "# мы с вами подаем общую заявку на грант\n",
        "# создайте множество, которое будет называться вашим именем и сохраните туда ваши научные интересы (например, 3 слова)\n",
        "# обменяемся ими в чате\n",
        "ann = {'python', 'history', 'digital humanities'}\n",
        "\n",
        "\n",
        "\n",
        "\n",
        "# найдем общее"
      ],
      "metadata": {
        "id": "iq4zrc66j-U6"
      },
      "execution_count": null,
      "outputs": []
    },
    {
      "cell_type": "markdown",
      "source": [
        "###еще один вид множества - frozenset\n",
        "set изменяемый, frozenset - нет"
      ],
      "metadata": {
        "id": "W-U3GXfGnJTw"
      }
    },
    {
      "cell_type": "code",
      "source": [
        "a = set(\"random\") #'r', 'a', 'n'....\n",
        "b = frozenset('random')\n",
        "\n",
        "print(a == b) # давайте сравним множества"
      ],
      "metadata": {
        "id": "coh4_wibnNdI"
      },
      "execution_count": null,
      "outputs": []
    },
    {
      "cell_type": "code",
      "source": [
        "print(a.intersection(b))\n",
        "# print(a & b)"
      ],
      "metadata": {
        "id": "v0sueCdTnVfA"
      },
      "execution_count": null,
      "outputs": []
    },
    {
      "cell_type": "code",
      "source": [
        "a.add(1) # изменим первое множество\n",
        "a.remove(\"m\")\n",
        "print(a)\n",
        "print(a.intersection(b))"
      ],
      "metadata": {
        "id": "F85UiJcBniS8"
      },
      "execution_count": null,
      "outputs": []
    },
    {
      "cell_type": "code",
      "source": [
        "b.add(1)\n",
        "# мы не можем добавлять в frozenset"
      ],
      "metadata": {
        "id": "lUA2kGA9no4D"
      },
      "execution_count": null,
      "outputs": []
    },
    {
      "cell_type": "markdown",
      "source": [
        "#Словарь (dict)\n",
        "коллекции произвольных объектов, записанные в виде пары ключ : значение (ключи уникальные, значения могут повторяться)\n",
        "\n",
        "( словари =ассоциативные массивы = хеш-таблицы)\n",
        "\n",
        "Давайте создадим словарь:"
      ],
      "metadata": {
        "id": "xOC9zbhhntDy"
      }
    },
    {
      "cell_type": "code",
      "source": [
        "#  помощью литерала {}\n",
        "d = {}\n",
        "print(d, type(d))\n",
        "\n",
        "# с помощью функции dict()\n",
        "d2 = dict()\n",
        "print(d2, type(d2))"
      ],
      "metadata": {
        "id": "zevt8I7Onvzp"
      },
      "execution_count": null,
      "outputs": []
    },
    {
      "cell_type": "code",
      "source": [
        "d_names = {\"Jane\": [\"London\", 35], 'Olga': [\"Moscow\", 40], \"Mike\": [\"Spb\", 26]} \n",
        "# Jane, Olga - это ключи, списки - значения\n",
        "print(d_names)"
      ],
      "metadata": {
        "id": "63Cfr2vnn5HU"
      },
      "execution_count": null,
      "outputs": []
    },
    {
      "cell_type": "code",
      "source": [
        "d = dict(A=67, B=903) \n",
        "print(d)"
      ],
      "metadata": {
        "id": "h9RnIMu-oDke"
      },
      "execution_count": null,
      "outputs": []
    },
    {
      "cell_type": "code",
      "source": [
        "a = [\"Jane\", \"Oleg\", \"Mia\"]\n",
        "b = [25, 27, 56] # только пары одного размера\n",
        "\n",
        "res = zip(a, b) # функция, которая создает словарь из двух списков\n",
        "\n",
        "print(res)\n",
        "\n",
        "print(dict(res))"
      ],
      "metadata": {
        "id": "XlJCI8P6oVdG"
      },
      "execution_count": null,
      "outputs": []
    },
    {
      "cell_type": "code",
      "source": [
        "print(res[\"Oleg\"]) # обращаемся по ключу -> получаем значение (аналог индекса, но НЕТ порядкового номера)"
      ],
      "metadata": {
        "id": "sjP43LD1Ssln"
      },
      "execution_count": null,
      "outputs": []
    },
    {
      "cell_type": "code",
      "source": [
        "#с помощью метода .fromkeys() для создания словаря\n",
        "people = dict.fromkeys(['Jane'], [\"LA\", \"Atlanta\"]) # список ключом быть не может, список - изменяемый объект\n",
        "print(people)\n",
        "print(people['Jane'])"
      ],
      "metadata": {
        "id": "Ibfl39tKVQhT"
      },
      "execution_count": null,
      "outputs": []
    },
    {
      "cell_type": "code",
      "source": [
        "d = dict.fromkeys(['a', 'b'], 100) # передали для ключей список: просто получили 2 ключа, список не станет ключом\n",
        "print(d)"
      ],
      "metadata": {
        "id": "XyuT1fVdov2L"
      },
      "execution_count": null,
      "outputs": []
    },
    {
      "cell_type": "code",
      "source": [
        "# получить значение по ключу \n",
        "d = {1: \"A\", 2: \"B\", 3: \"C\"}\n",
        "print(d[2]) # достаем значение по ключу 2 (не индекс! индексов нет)"
      ],
      "metadata": {
        "id": "-KfTQA-Io0CI"
      },
      "execution_count": null,
      "outputs": []
    },
    {
      "cell_type": "code",
      "source": [
        "d = {1: \"A\", 2: \"B\", 3: \"C\"}\n",
        "\n",
        "d[4] = \"D\" # добавляем пару, где ключ = 4, а значение = D\n",
        "print(d) # посмотрим на весь словарь"
      ],
      "metadata": {
        "id": "J-owDxIFo8Ea"
      },
      "execution_count": null,
      "outputs": []
    },
    {
      "cell_type": "code",
      "source": [
        "# аналогично добавим новую пару в словарь с именами\n",
        "d_names = {\"Jane\": [\"London\", 35], 'Olga': [\"Moscow\", 40], \"Mike\": [\"Spb\", 26]} \n",
        "\n",
        "d_names[\"Jack\"] = [\"Toronto\", 35]\n",
        "print(d_names[\"Jack\"])\n",
        "print(d_names)"
      ],
      "metadata": {
        "id": "lIvdktXWpCQP"
      },
      "execution_count": null,
      "outputs": []
    },
    {
      "cell_type": "code",
      "source": [
        "# перезапишем значение по ключу \n",
        "d = {1: \"A\", 2: \"B\", 3: \"C\"}\n",
        "\n",
        "print(d[2])\n",
        "d[2] = \"W\" # если такой ключ уже есть, он перезапишется\n",
        "print(d[2])\n",
        "print(d)\n",
        "\n",
        "# присвоение по новому ключу расширяет словарь;\n",
        "# присвоение по существующему ключу перезаписывает его значение;\n",
        "# попытка извлечения несуществующего ключа порождает исключение (KeyError)."
      ],
      "metadata": {
        "id": "f4Lpupr-pKsc"
      },
      "execution_count": null,
      "outputs": []
    },
    {
      "cell_type": "markdown",
      "source": [
        "###Методы словарей"
      ],
      "metadata": {
        "id": "zbzZCZvcpSk_"
      }
    },
    {
      "cell_type": "code",
      "source": [
        "d = {'Jane': \"London\", 'Olga': \"Moscow\", \"Paul\": \"Paris\", \"Ivan\": \"Minsk\", \"Anne\": \"Copenhagen\"}\n",
        "print(d)"
      ],
      "metadata": {
        "id": "hMkf0eBepSKa"
      },
      "execution_count": null,
      "outputs": []
    },
    {
      "cell_type": "code",
      "source": [
        "# так можно посмотреть все значения всех ключей в словаре\n",
        "print(d.values())\n",
        "\n",
        "# так можно посмотреть все ключи в словаре\n",
        "print(d.keys())       "
      ],
      "metadata": {
        "id": "8fVukL-Mphqt"
      },
      "execution_count": null,
      "outputs": []
    },
    {
      "cell_type": "code",
      "source": [
        "# значения и ключи можно сохранить в отдельный лист\n",
        "d_values = list(d.values()) \n",
        "print(d_values)\n",
        "d_keys = list(d.keys()) \n",
        "print(d_keys)"
      ],
      "metadata": {
        "id": "l5JXAHIIpks-"
      },
      "execution_count": null,
      "outputs": []
    },
    {
      "cell_type": "code",
      "source": [
        "# длина словаря -- это количество ключей = количество пар\n",
        "print(len(d.keys()))"
      ],
      "metadata": {
        "id": "uGm0IAKRprGv"
      },
      "execution_count": null,
      "outputs": []
    },
    {
      "cell_type": "code",
      "source": [
        "# так можно посмотреть пары (ключ, значение) в виде списка кортежей\n",
        "print(list(d.items()))\n",
        "# список кортежей"
      ],
      "metadata": {
        "id": "adBNuhtMptJP"
      },
      "execution_count": null,
      "outputs": []
    },
    {
      "cell_type": "code",
      "source": [
        "# расширение словаря\n",
        "d = {'Jane': \"London\", 'Olga': \"Moscow\", \"Paul\" : \"Paris\", \"Ivan\" : \"Minsk\", \"Anne\" : \"Copenhagen\"}\n",
        "\n",
        "new_dict = {\"Alexander\" : \"Bonn\", \"Julia\" : \"Madrid\"}\n",
        "\n",
        "d.update(new_dict) # обновляет словарь, добавляя пары (ключ, значение), метод называется так же, как и у множества\n",
        "print(d)"
      ],
      "metadata": {
        "id": "WOsE8kljp66f"
      },
      "execution_count": null,
      "outputs": []
    },
    {
      "cell_type": "code",
      "source": [
        "d = {'Jane': \"London\", 'Olga': \"Moscow\", \"Paul\" : \"Paris\", \"Ivan\" : \"Minsk\", \"Anne\" : \"Copenhagen\"}\n",
        "print(d.pop(\"Jane\")) # удаляет ключ и возвращает значение\n",
        "print(d)"
      ],
      "metadata": {
        "id": "gSBvZZOVp8ZO"
      },
      "execution_count": null,
      "outputs": []
    },
    {
      "cell_type": "code",
      "source": [
        "d = {'Jane': \"London\", 'Olga': \"Moscow\", \"Paul\" : \"Paris\", \"Ivan\" : \"Minsk\", \"Anne\" : \"Copenhagen\"}\n",
        "print(d.popitem()) # удаляет и возвращает пару (ключ, значение)"
      ],
      "metadata": {
        "id": "hC3hYxLgp_xG"
      },
      "execution_count": null,
      "outputs": []
    },
    {
      "cell_type": "code",
      "source": [
        "# перезапустите несколько раз\n",
        "print(d.popitem()) # удаляет и возвращает пару (ключ, значение), с конца\n",
        "print(d)"
      ],
      "metadata": {
        "id": "gZpcZIA-cP43"
      },
      "execution_count": null,
      "outputs": []
    },
    {
      "cell_type": "code",
      "source": [
        "# а так очищаем словарь\n",
        "d.clear() \n",
        "print(d)"
      ],
      "metadata": {
        "id": "H1aJU8M5qL8-"
      },
      "execution_count": null,
      "outputs": []
    },
    {
      "cell_type": "markdown",
      "source": [
        "Задание 4:\n",
        "\n",
        "Алиса коллекционирует открытки, которые она получила из разных стран от друзей. Она знает, что Мария прислала ей открытку из Лондона, Лоренцо -- из Милана, Олег - из Канберры, Ханс -- из Кальгари, Марк -- тоже из Милана, Алекс - из Кракова, и совсем недавно пришла открытка от Юлии из Мурманска.\n",
        "\n",
        "Сейчас ее архив выглядит вот так:\n",
        "\n"
      ],
      "metadata": {
        "id": "IjoyXQrEmfS6"
      }
    },
    {
      "cell_type": "code",
      "source": [
        "postcards = {\n",
        "    \"Maria\": \"London\",\n",
        "    \"Lorenzo\": \"Milan\",\n",
        "    \"Oleg\": \"Canberra\",\n",
        "    \"Hans\": \"Calgary\",\n",
        "    \"Mark\": \"Milan\",\n",
        "    \"Alex\": \"Krakow\",\n",
        "    \"Julia\": \"Murmansk\"\n",
        "}\n",
        "# так можно красиво записать длинный словарь (и любой контейнер), чтобы он визуально был читаемым "
      ],
      "metadata": {
        "id": "tDFKB121nM9z"
      },
      "execution_count": null,
      "outputs": []
    },
    {
      "cell_type": "markdown",
      "source": [
        "Однажды Алиса показала Вам свою бумажную коллекцию, и Вы заметили неточности:\n",
        "\n",
        "в архиве не хватает двух открыток: от Петры из Парижа и от Ивана из Москвы. Добавьте их в архив Алисы.\n",
        "\n",
        "открытка, присланная Олегом на самом деле не из Канберры, а из Сиднея. Исправьте город на верный, изменив значение по ключу в словаре.\n",
        "\n",
        "Алиса говорит, что в ее коллекции более 10 уникальных городов. Сколько их на самом деле? Посчитайте длину словаря. Напечатайте названия всех городов.\n",
        "\n"
      ],
      "metadata": {
        "id": "JLy_jWdLngO8"
      }
    },
    {
      "cell_type": "code",
      "source": [],
      "metadata": {
        "id": "eTozhEBfnZz_"
      },
      "execution_count": null,
      "outputs": []
    },
    {
      "cell_type": "code",
      "source": [],
      "metadata": {
        "id": "osuEGVRQnnDx"
      },
      "execution_count": null,
      "outputs": []
    },
    {
      "cell_type": "code",
      "source": [],
      "metadata": {
        "id": "gGK6QJgbnm1T"
      },
      "execution_count": null,
      "outputs": []
    },
    {
      "cell_type": "markdown",
      "source": [
        "# Дополнительные задания для желающих"
      ],
      "metadata": {
        "id": "QbyuZwRxoLzL"
      }
    },
    {
      "cell_type": "markdown",
      "source": [
        "Дополнительные задания есть здесь: [Яндекс Контест](https://contest.yandex.ru/contest/38104/enter/)\n",
        "\n",
        "Требуется яндекс аккаунт\n",
        "\n",
        "Настроена автопроверка"
      ],
      "metadata": {
        "id": "uH7FcXqPoBFS"
      }
    }
  ]
}