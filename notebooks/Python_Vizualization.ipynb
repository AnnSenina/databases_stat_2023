{
  "nbformat": 4,
  "nbformat_minor": 0,
  "metadata": {
    "colab": {
      "provenance": [],
      "include_colab_link": true
    },
    "kernelspec": {
      "name": "python3",
      "display_name": "Python 3"
    },
    "language_info": {
      "name": "python"
    }
  },
  "cells": [
    {
      "cell_type": "markdown",
      "metadata": {
        "id": "view-in-github",
        "colab_type": "text"
      },
      "source": [
        "<a href=\"https://colab.research.google.com/github/AnnSenina/databases_stat_2023/blob/main/notebooks/Python_Vizualization.ipynb\" target=\"_parent\"><img src=\"https://colab.research.google.com/assets/colab-badge.svg\" alt=\"Open In Colab\"/></a>"
      ]
    },
    {
      "cell_type": "markdown",
      "source": [
        "#Matplotlib, seaborn и др."
      ],
      "metadata": {
        "id": "F797-kz5_wPK"
      }
    },
    {
      "cell_type": "code",
      "source": [
        "# все библиотеки и импорты разом:\n",
        "#!pip install matplotlib \n",
        "#!pip install seaborn\n",
        "\n",
        "import pandas as pd\n",
        "import matplotlib.pyplot as plt # традиционное сокращение\n",
        "from matplotlib import cm\n",
        "import seaborn as sns "
      ],
      "metadata": {
        "id": "q9DvGC8H4_Dl"
      },
      "execution_count": 2,
      "outputs": []
    },
    {
      "cell_type": "markdown",
      "source": [
        "## Matplotlib"
      ],
      "metadata": {
        "id": "KwwJQYJed7WL"
      }
    },
    {
      "cell_type": "markdown",
      "source": [
        "Matplotlib -- это одна из классических библиотек для визуализации данных в Python\n"
      ],
      "metadata": {
        "id": "gugGrkKPAOCz"
      }
    },
    {
      "cell_type": "markdown",
      "source": [
        "Визуализации в MatPlotLib обычно делают с помощью `pyplot` \n",
        "— специального объекта, методы которого позволяют создавать и изменять графики. "
      ],
      "metadata": {
        "id": "FYwXg03dAaY-"
      }
    },
    {
      "cell_type": "code",
      "source": [
        "covid = pd.read_csv('https://raw.githubusercontent.com/AnnSenina/databases_stat_2023/main/cases_regions_2022-02-03.csv', sep=';')\n",
        "covid"
      ],
      "metadata": {
        "id": "CTQ-jHuIQSxw"
      },
      "execution_count": null,
      "outputs": []
    },
    {
      "cell_type": "code",
      "source": [
        "covid['Москва'][660:691] #январь"
      ],
      "metadata": {
        "id": "nNHINK3BQthN"
      },
      "execution_count": null,
      "outputs": []
    },
    {
      "cell_type": "code",
      "source": [
        "plt.plot(covid['Москва'][660:691]) #plot - линейный график\n",
        "plt.show()"
      ],
      "metadata": {
        "id": "Chh_lVQaRJQV"
      },
      "execution_count": null,
      "outputs": []
    },
    {
      "cell_type": "code",
      "source": [
        "plt.plot(covid['Москва'][660:691]); # ; заменяет plt.show()"
      ],
      "metadata": {
        "id": "C0iFgpsvJQZQ"
      },
      "execution_count": null,
      "outputs": []
    },
    {
      "cell_type": "code",
      "source": [
        "plt.plot(covid['Москва'][660:691]) #plot - линейный график\n",
        "plt.savefig('my_covid_plot') # создаст png, которую можно скачать"
      ],
      "metadata": {
        "id": "vmyD0vP6Rnol"
      },
      "execution_count": null,
      "outputs": []
    },
    {
      "cell_type": "markdown",
      "source": [
        "Внимание! Вопрос: что на графике обозначают числа 660-690?"
      ],
      "metadata": {
        "id": "xwYdimZgTl9V"
      }
    },
    {
      "cell_type": "code",
      "source": [
        "plt.plot(\n",
        "    [f'{i}' for i in range(1, 32)], # сгенерируем подписи по оси x\n",
        "    covid['Москва'][660:691] # ось Y\n",
        "    )\n",
        "plt.show()"
      ],
      "metadata": {
        "id": "KhIGVpAhTAIo"
      },
      "execution_count": null,
      "outputs": []
    },
    {
      "cell_type": "markdown",
      "source": [
        "Данные расположились по оси y\n",
        "\n",
        "Добавим красивые подписи по оси х: отобразить подписи вертикально внутри .plot нельзя. Для этого есть отдельный метод под названием xticks:"
      ],
      "metadata": {
        "id": "kRStui0XStFN"
      }
    },
    {
      "cell_type": "code",
      "source": [
        "plt.plot(\n",
        "    [f'{i} янв' for i in range(1, 32)], # ось X с подписями\n",
        "    covid['Москва'][660:691] # ось Y\n",
        "    )\n",
        "plt.xticks(rotation=90) # показать подписи вертикально = под углом 90 градусов\n",
        "plt.show()"
      ],
      "metadata": {
        "id": "pyHEosuiR25X"
      },
      "execution_count": null,
      "outputs": []
    },
    {
      "cell_type": "code",
      "source": [
        "plt.plot(\n",
        "    [f'{i} января' for i in range(1, 32)], # ось X\n",
        "    covid['Москва'][660:691] # ось Y\n",
        "    )\n",
        "plt.xticks(rotation=45)\n",
        "plt.show()"
      ],
      "metadata": {
        "id": "NiP4CtHNBqsA"
      },
      "execution_count": null,
      "outputs": []
    },
    {
      "cell_type": "code",
      "source": [
        "plt.plot(\n",
        "    [f'{i} января' for i in range(1, 32)], # ось X\n",
        "    covid['Москва'][660:691], # ось Y\n",
        "    marker='o' # через запятую добавили маркеры - точки\n",
        "    )\n",
        "plt.xticks(rotation=90)\n",
        "plt.show()"
      ],
      "metadata": {
        "id": "YGejdxH6Tg8l"
      },
      "execution_count": null,
      "outputs": []
    },
    {
      "cell_type": "code",
      "source": [
        "# подписи можно сократить и упростить\n",
        "\n",
        "x = [f'{i} янв' for i in range(1, 32)]\n",
        "y = covid['Москва'][660:691]\n",
        "\n",
        "plt.plot(x, y, marker='o') # короткая форма\n",
        "plt.xticks(rotation=90)\n",
        "plt.show()"
      ],
      "metadata": {
        "id": "3MBqbTSxU9Y4"
      },
      "execution_count": null,
      "outputs": []
    },
    {
      "cell_type": "code",
      "source": [
        "# сравним:\n",
        "plt.plot(x, y, 'o') # точки, без линии\n",
        "plt.xticks(rotation=90)\n",
        "plt.show()"
      ],
      "metadata": {
        "id": "AOoCqZchVJe4"
      },
      "execution_count": null,
      "outputs": []
    },
    {
      "cell_type": "code",
      "source": [
        "plt.plot(x, y, 'ro') # угадайте, что значит ro?\n",
        "plt.xticks(rotation=90)\n",
        "plt.show()"
      ],
      "metadata": {
        "id": "0upPrCTJUfBK"
      },
      "execution_count": null,
      "outputs": []
    },
    {
      "cell_type": "code",
      "source": [
        "plt.plot(x, y, 'g^')\n",
        "plt.xticks(rotation=90)\n",
        "plt.show()"
      ],
      "metadata": {
        "id": "xwPxzLTPVS4V"
      },
      "execution_count": null,
      "outputs": []
    },
    {
      "cell_type": "code",
      "source": [
        "plt.plot(x, y, marker = 's', linestyle = ':', color = 'orange') \n",
        "plt.xticks(rotation=90)\n",
        "plt.show()"
      ],
      "metadata": {
        "id": "TXBqlwR_Vqyi"
      },
      "execution_count": null,
      "outputs": []
    },
    {
      "cell_type": "code",
      "source": [
        "import matplotlib.ticker as ticker\n",
        "\n",
        "fig, ax = plt.subplots()\n",
        "ax.plot([f'{i} янв' for i in range(1, 32)], covid['Москва'][660:691], color = 'r', linewidth = 3)\n",
        "ax.xaxis.set_major_locator(ticker.MultipleLocator(3)) # Код для установки размера тиков (шагов)\n",
        "plt.xticks(rotation=45)\n",
        "plt.show()"
      ],
      "metadata": {
        "id": "Y8x_x70xOdnE"
      },
      "execution_count": null,
      "outputs": []
    },
    {
      "cell_type": "markdown",
      "source": [
        "Вот [здесь](https://matplotlib.org/api/_as_gen/matplotlib.pyplot.plot.html#matplotlib.pyplot.plot) описаны все варианты задания цветов, точек и формы штриха."
      ],
      "metadata": {
        "id": "RNMfL4C2VjI0"
      }
    },
    {
      "cell_type": "markdown",
      "source": [
        "### Размер холста через pyplot\n",
        "\n",
        "можно вызвать метод figure и задать размер через него:"
      ],
      "metadata": {
        "id": "kDeslAVjV4TV"
      }
    },
    {
      "cell_type": "code",
      "source": [
        "plt.figure(figsize=(10, 5)) # указываем размер в дюймах\n",
        "plt.plot(x, y, marker = 's', linestyle = ':', color = 'orange') \n",
        "plt.xticks(rotation=90)\n",
        "#plt.show()\n",
        "plt.savefig('my_covid_plot') # создаст png\n",
        "# https://matplotlib.org/stable/api/_as_gen/matplotlib.pyplot.figure.html"
      ],
      "metadata": {
        "id": "MzATMDvPVmz0"
      },
      "execution_count": null,
      "outputs": []
    },
    {
      "cell_type": "markdown",
      "source": [
        "## Отобразим несколько показателей"
      ],
      "metadata": {
        "id": "ubCN-wDMWbUY"
      }
    },
    {
      "cell_type": "code",
      "source": [
        "x = [f'{i} янв' for i in range(1, 32)]\n",
        "\n",
        "y1 = covid['Москва'][660:691]\n",
        "y2 = covid['Санкт-Петербург'][660:691]\n",
        "y3 = covid['Пермский край'][660:691]\n",
        "\n",
        "plt.figure(figsize=(12,8))\n",
        "plt.plot(x, y1, '.') # Москва\n",
        "plt.plot(x, y2, '^') \n",
        "plt.plot(x, y3, 's') \n",
        "plt.xticks(rotation=90)\n",
        "plt.show()"
      ],
      "metadata": {
        "id": "k3No26lOWFm5"
      },
      "execution_count": null,
      "outputs": []
    },
    {
      "cell_type": "code",
      "source": [
        "# можно использовать короткую запись\n",
        "plt.figure(figsize=(12,8))\n",
        "plt.plot(x, y1, '.', x, y2, '^', x, y3, 's')\n",
        "plt.xticks(rotation=90)\n",
        "plt.show()"
      ],
      "metadata": {
        "id": "JTagjwcbXPS5"
      },
      "execution_count": null,
      "outputs": []
    },
    {
      "cell_type": "code",
      "source": [
        "# можно использовать короткую запись\n",
        "plt.figure(figsize=(12,8))\n",
        "plt.plot(x, y1, '.', x, y2, '^', x, y3, 's')\n",
        "plt.xticks(rotation=90)\n",
        "plt.grid() # задает сетку на графике\n",
        "plt.show()"
      ],
      "metadata": {
        "id": "mDaeMfHyXgd1"
      },
      "execution_count": null,
      "outputs": []
    },
    {
      "cell_type": "markdown",
      "source": [
        "Добавим легенду"
      ],
      "metadata": {
        "id": "rlbIOQaPXzrJ"
      }
    },
    {
      "cell_type": "code",
      "source": [
        "# можно использовать короткую запись\n",
        "plt.figure(figsize=(12,8))\n",
        "plt.plot(x, y1, '.', x, y2, '^', x, y3, 's')\n",
        "plt.xticks(rotation=90)\n",
        "plt.grid()\n",
        "plt.legend(['Москва', 'Санкт-Петербург', 'Пермь']) # но создатели библиотеки рекомендуют другой способ\n",
        "plt.show()\n",
        "\n",
        "# можно почитать здесь https://matplotlib.org/stable/api/_as_gen/matplotlib.pyplot.legend.html#matplotlib.pyplot.legend"
      ],
      "metadata": {
        "id": "0D_LRqfUXwSP"
      },
      "execution_count": null,
      "outputs": []
    },
    {
      "cell_type": "code",
      "source": [
        "plt.figure(figsize=(10,6))\n",
        "plt.plot(x, y1, '.', label='Москва')\n",
        "plt.plot(x, y2, '^', label='Санкт-Петербург') \n",
        "plt.plot(x, y3, 's', label='Пермь') \n",
        "plt.xticks(rotation=90)\n",
        "plt.grid()\n",
        "plt.legend() # legend сама добавит значения из label\n",
        "plt.show()"
      ],
      "metadata": {
        "id": "6b4O7CFAY71_"
      },
      "execution_count": null,
      "outputs": []
    },
    {
      "cell_type": "code",
      "source": [
        "plt.figure(figsize=(10,6))\n",
        "\n",
        "# заголовок и его стили\n",
        "plt.title('Статистика по ковиду для Москвы и Санкт-Петербурга и Перми', fontsize=16, color='green', fontstyle='italic', fontfamily='serif')\n",
        "\n",
        "plt.plot(x, y1, '.', label='Москва')\n",
        "plt.plot(x, y2, '^', label='Санкт-Петербург') \n",
        "plt.plot(x, y3, 's', label='Пермь') \n",
        "\n",
        "# подписи осей\n",
        "plt.xticks(rotation=90, fontsize=16) # вертикально\n",
        "plt.xlabel('Дни', fontsize=16)\n",
        "plt.ylabel('Заражения в день', fontsize=16)\n",
        "\n",
        "plt.legend(fontsize=16)\n",
        "plt.grid()\n",
        "plt.show()"
      ],
      "metadata": {
        "id": "9BGA8eH-ZSK4"
      },
      "execution_count": null,
      "outputs": []
    },
    {
      "cell_type": "markdown",
      "source": [
        "Методы пайплота, которые отвечают за текст на графиках ([см.тут](https://matplotlib.org/stable/api/text_api.html#matplotlib.text.Text))"
      ],
      "metadata": {
        "id": "0csX8zNAaiCG"
      }
    },
    {
      "cell_type": "code",
      "source": [
        "# если вы уже забыли, что у нас в x1, x2, x3 и y\n",
        "x = [f'{i} янв' for i in range(1, 32)]\n",
        "\n",
        "y1 = covid['Москва'][660:691]\n",
        "y2 = covid['Санкт-Петербург'][660:691]\n",
        "y3 = covid['Пермский край'][660:691] "
      ],
      "metadata": {
        "id": "ZNq5Wu4HnglM"
      },
      "execution_count": null,
      "outputs": []
    },
    {
      "cell_type": "code",
      "source": [
        "# построим финальный график, со всеми подписями и шагом для обеих осей\n",
        "\n",
        "import matplotlib.ticker as ticker\n",
        "\n",
        "fig, ax = plt.subplots(figsize=(10,6))\n",
        "plt.title('Статистика по ковиду для Москвы и Санкт-Петербурга и Перми', fontsize=16, color='green', fontstyle='italic', fontfamily='serif')\n",
        "plt.plot(x, y1, '.', x, y2, '^', x, y3, 's')\n",
        "ax.plot([f'{i} янв' for i in range(1, 32)], covid['Москва'][660:691], '.', label='Москва')\n",
        "ax.plot([f'{i} янв' for i in range(1, 32)], covid['Санкт-Петербург'][660:691], '^', label='Санкт-Петербург')\n",
        "ax.plot([f'{i} янв' for i in range(1, 32)], covid['Пермский край'][660:691], 's', label='Пермский край')\n",
        "ax.xaxis.set_major_locator(ticker.MultipleLocator(2)) # шаг на оси x - 2\n",
        "ax.yaxis.set_major_locator(ticker.MultipleLocator(6000)) # шаг на оси x - 6000\n",
        "\n",
        "# подписи осей\n",
        "plt.xticks(rotation=90, fontsize=16) # вертикально\n",
        "plt.yticks(fontsize=16)\n",
        "plt.xlabel('Дни', fontsize=16)\n",
        "plt.ylabel('Заражения в день', fontsize=16)\n",
        "\n",
        "plt.legend(fontsize=16)\n",
        "\n",
        "plt.grid() # задает сетку на графике (сетка привязана к интервалу на осях!)\n",
        "# меняем шаг -> изменится и сетка\n",
        "plt.show()\n",
        "\n",
        "# https://matplotlib.org/stable/api/gridspec_api.html"
      ],
      "metadata": {
        "id": "VMlrBE_GRU8W"
      },
      "execution_count": null,
      "outputs": []
    },
    {
      "cell_type": "markdown",
      "source": [
        "## Другие типы графиков matplotlib"
      ],
      "metadata": {
        "id": "bnuKRZUIgcOY"
      }
    },
    {
      "cell_type": "code",
      "source": [
        "plt.bar(x, y1) # бар-чарт, столбики\n",
        "plt.xticks(rotation=90)\n",
        "plt.show()"
      ],
      "metadata": {
        "id": "b40-V90ngbGI"
      },
      "execution_count": null,
      "outputs": []
    },
    {
      "cell_type": "code",
      "source": [
        "# с текстом тоже может быть интересно!\n",
        "\n",
        "from collections import Counter\n",
        "\n",
        "text = 'системный блок искать смысл как сделать тематический моделирование корпус текст тематический моделирование легкий способ понимать смысловой состав большой коллекция текст который невозможно быстро прочитывать глаз пользоваться инструмент тематический моделирование мочь каждый а научиться можно в тьюториал здесь вы находить пошаговый руководство с решение основной технический трудность как работать тематический моделирование тематический моделирование topic modeling это способ научить машина выделять в текст содержательный тема например проанализировать массив новостной и публицистический текст о протестный митинг машина мочь выделить там тема топик полицейский насилие география москва требование и лозунг и др естественно компьютер не мочь понимать смысл статья напрямую но если быть большой коллекция текст с разный тема то вероятность совместный употребление слово позволять мы выделять отдельный тематический пласт примерно как химик разделять нефть на фракция бензин керосин солярка мазут асфальт'\n",
        "freqs_list = Counter(text.split()).most_common(3) # подсчет частот, встроенный в пайтон\n",
        "print(freqs_list)\n",
        "\n",
        "values = [pair[1] for pair in freqs_list] # создаем список с частотами\n",
        "labels = [pair[0] for pair in freqs_list] # создаем список слов в том же порядке\n",
        "\n",
        "plt.bar(labels, values) # передаем данные в отрисовщик бар-чартов\n",
        "plt.show()"
      ],
      "metadata": {
        "id": "uRuAzgYMAcq1"
      },
      "execution_count": null,
      "outputs": []
    },
    {
      "cell_type": "code",
      "source": [
        "plt.hist(covid['Москва'][660:691]) # гистограмма, ось x\n",
        "plt.show() \n",
        "# y - частоты"
      ],
      "metadata": {
        "id": "IysaHUKGjme0"
      },
      "execution_count": null,
      "outputs": []
    },
    {
      "cell_type": "code",
      "source": [
        "plt.hist(covid['Москва'][660:691], bins=20) # количество столбцов (=диапазонов), можно задать bins = len(y1)\n",
        "plt.show() \n",
        "# y - частоты"
      ],
      "metadata": {
        "id": "DovXQxchhp67"
      },
      "execution_count": null,
      "outputs": []
    },
    {
      "cell_type": "code",
      "source": [
        "# pie - круговая диаграмма, на наших данных - полная ерунда\n",
        "plt.pie(covid['Москва'][660:691], labels=[f'{i} янв' for i in range(1, 32)])\n",
        "plt.show()"
      ],
      "metadata": {
        "id": "y8zNiludg3rC"
      },
      "execution_count": null,
      "outputs": []
    },
    {
      "cell_type": "code",
      "source": [
        "# другой пример\n",
        "plt.pie([0.55, 0.20, 0.15, 0.05, 0.05], labels=['Chrome', 'Safari', 'Firefox', 'Edge', 'Other'])\n",
        "plt.show()"
      ],
      "metadata": {
        "id": "f-zDjF3LhN0o"
      },
      "execution_count": null,
      "outputs": []
    },
    {
      "cell_type": "markdown",
      "source": [
        "Датавиз-сообщества считают, что pie-chart'ы устарели! :)\n",
        "\n",
        "![мем.jpg](https://qph.cf2.quoracdn.net/main-qimg-6ade42a13909e5488b4474dc150c0701-lq)\n",
        "\n",
        "За мем спасибо @Andre_Orlov!\n",
        "\n",
        "Кстати, [веселое обсуждение](https://medium.com/@eolay13/визуализируем-кофе-молоко-и-сахар-68fc7079868c) в тему\n"
      ],
      "metadata": {
        "id": "S5M2KD74AQ_M"
      }
    },
    {
      "cell_type": "markdown",
      "source": [
        "А теперь давайте попробуем рисовать при помощи функции scatter, которая работает несколько медленнее, но обладает большей функциональностью ([см. здесь](https://matplotlib.org/api/_as_gen/matplotlib.pyplot.scatter.html#matplotlib.pyplot.scatter)).\n",
        "\n",
        "Так как scatter по определению - это набор точек, которые не должны соединяться между собой, а просто бросаются на плоскость, то отрисовать линию с его помощью не получится.\n",
        "Также в scatter нельзя передать сразу цвет и вид точки/штриха, поэтому используем параметры color и marker.\n",
        "\n",
        "Параметр alpha можно применять почти везде. Он показывает степень прозрачности графика, легенды (0 = полностью прозрачен; 1 = абсолютно непрозрачен)\n",
        "\n",
        "Помимо этого для каждой из точек можно задавать размер маркера (параметр s, size) и его цвет (параметр c, colour)."
      ],
      "metadata": {
        "id": "Gt-EA77AkpIP"
      }
    },
    {
      "cell_type": "code",
      "source": [
        "x = [f'{i} янв' for i in range(1, 32)]\n",
        "y = covid['Москва'][660:691]\n",
        "\n",
        "c = 'green'\n",
        "\n",
        "s = [i * 0.1 for i in y] # 0.1 - просто чтобы красиво отобразить именно эти данные, у нас достаточно большие числа\n",
        "#s = 100 # размер можно сделать статичным\n",
        "\n",
        "plt.scatter(x, y, c = c, s = s, alpha = 0.3) # попробуйте поменять параметр alpha\n",
        "\n",
        "plt.xticks(rotation=90)\n",
        "plt.show()"
      ],
      "metadata": {
        "id": "6uTAGeGTkwwp"
      },
      "execution_count": null,
      "outputs": []
    },
    {
      "cell_type": "markdown",
      "source": [
        "Цвет графика можно задать при помощи цветовой карты. Для использования стандартных цветовых карт необходимо загрузить их из matplotlib:\n",
        "from matplotlib import cm\n",
        "\n",
        "Ту, что больше нравится, стоит присвоить в параметр cmap \n",
        "\n",
        "А здесь [ссылка с описанием и названиями цветовых карт](https://matplotlib.org/3.1.0/tutorials/colors/colormaps.html)"
      ],
      "metadata": {
        "id": "b3HQ6kLsmUWF"
      }
    },
    {
      "cell_type": "code",
      "source": [
        "from matplotlib import cm\n",
        "\n",
        "x = [f'{i} янв' for i in range(1, 32)]\n",
        "y = covid['Москва'][660:691]\n",
        "\n",
        "c = y # нужен список, чтобы для разных точек сгенерировать разные цвета!\n",
        "s = [i * 0.1 for i in y]\n",
        "\n",
        "plt.scatter(x, y, c = c, s = s, alpha=0.5, cmap=cm.magma)\n",
        "\n",
        "plt.xticks(rotation=90)\n",
        "plt.show()"
      ],
      "metadata": {
        "id": "LFiskDH-myoE"
      },
      "execution_count": null,
      "outputs": []
    },
    {
      "cell_type": "code",
      "source": [
        "# можно также строить облако точек для поиска зависимости между разными показателями\n",
        "plt.scatter(x = covid['Москва'], y = covid['Санкт-Петербург'])\n",
        "plt.show()\n",
        "# для наших данных - не очень интересно, хотя смысл все же есть:\n",
        "# заболеваемость в Москве и Петербурге связаны - общие волны ковида, очевидно, сильно прокатились по крупным городам"
      ],
      "metadata": {
        "id": "nxC-sVQry08e"
      },
      "execution_count": null,
      "outputs": []
    },
    {
      "cell_type": "markdown",
      "source": [
        "## А если наши данные - категориальные?"
      ],
      "metadata": {
        "id": "DyXAKz4Bo8nH"
      }
    },
    {
      "cell_type": "markdown",
      "source": [
        "Иногда мы имеем дело с данными, которые выражены не числами.\n",
        "\n",
        "Предположим, имя и возраст человека:"
      ],
      "metadata": {
        "id": "JJS49RXnpE0y"
      }
    },
    {
      "cell_type": "code",
      "source": [
        "data = {'Paul' : 68, 'Jane' : 25, \"Diana\" : 102} \n",
        "names = list(data.keys())\n",
        "values = list(data.values())\n",
        "\n",
        "fig, axs = plt.subplots(1,3, figsize=(10, 3)) # subplots - позволяет строить несколько графиков рядом, в т.ч. графики разных типов\n",
        "\n",
        "axs[0].plot(names, values, \"b--\")\n",
        "axs[1].scatter(names, values, s = [i * 10 for i in values], alpha=0.5, color = \"green\")\n",
        "axs[2].bar(names, values, color = \"pink\")\n",
        "\n",
        "fig.suptitle('Categorical Plotting')\n",
        "plt.show()"
      ],
      "metadata": {
        "id": "D0hYN1MIpAtH"
      },
      "execution_count": null,
      "outputs": []
    },
    {
      "cell_type": "markdown",
      "source": [
        "См.разные типы графиков [здесь](https://matplotlib.org/stable/plot_types/index.html)\n",
        "\n",
        "Также от моих коллег - подборка разных ресурсов для вдохновения:\n",
        "\n",
        "- https://www.data-to-viz.com/\n",
        "\n",
        "- https://datavizproject.com/\n",
        "\n",
        "- https://datavizcatalogue.com/RU/"
      ],
      "metadata": {
        "id": "fG16UlEZrn3g"
      }
    },
    {
      "cell_type": "markdown",
      "source": [
        "# Seaborn"
      ],
      "metadata": {
        "id": "DZ8R-J0_q_MX"
      }
    },
    {
      "cell_type": "markdown",
      "source": [
        "Простые графики можно строить в matplotlib (а еще он отлично интергрирован с pandas), но работать категориальными данными удобнее в seaborn\n",
        "\n",
        "Seaborn — это более новая надстройка над matplotlib, которая заметно проще и \"сразу делает красиво\". Документация [здесь](https://seaborn.pydata.org)\n"
      ],
      "metadata": {
        "id": "4-7-Crl8rLMF"
      }
    },
    {
      "cell_type": "code",
      "source": [
        "city = covid[['Москва','Санкт-Петербург']] # возьмем все данные по ковиду в М и СПб\n",
        "city"
      ],
      "metadata": {
        "id": "vMg52NOct523",
        "colab": {
          "base_uri": "https://localhost:8080/",
          "height": 423
        },
        "outputId": "123cc84d-4d6a-4460-8f1a-73bdc447c0f8"
      },
      "execution_count": 15,
      "outputs": [
        {
          "output_type": "execute_result",
          "data": {
            "text/plain": [
              "     Москва  Санкт-Петербург\n",
              "0        21                1\n",
              "1         5                3\n",
              "2         9                1\n",
              "3         0                0\n",
              "4        18                3\n",
              "..      ...              ...\n",
              "688   26488            14939\n",
              "689   24030            17833\n",
              "690   23417            15802\n",
              "691   21533            13619\n",
              "692   23784            19234\n",
              "\n",
              "[693 rows x 2 columns]"
            ],
            "text/html": [
              "\n",
              "  <div id=\"df-63c77472-9454-4df1-aa8e-27cff97cc5f4\">\n",
              "    <div class=\"colab-df-container\">\n",
              "      <div>\n",
              "<style scoped>\n",
              "    .dataframe tbody tr th:only-of-type {\n",
              "        vertical-align: middle;\n",
              "    }\n",
              "\n",
              "    .dataframe tbody tr th {\n",
              "        vertical-align: top;\n",
              "    }\n",
              "\n",
              "    .dataframe thead th {\n",
              "        text-align: right;\n",
              "    }\n",
              "</style>\n",
              "<table border=\"1\" class=\"dataframe\">\n",
              "  <thead>\n",
              "    <tr style=\"text-align: right;\">\n",
              "      <th></th>\n",
              "      <th>Москва</th>\n",
              "      <th>Санкт-Петербург</th>\n",
              "    </tr>\n",
              "  </thead>\n",
              "  <tbody>\n",
              "    <tr>\n",
              "      <th>0</th>\n",
              "      <td>21</td>\n",
              "      <td>1</td>\n",
              "    </tr>\n",
              "    <tr>\n",
              "      <th>1</th>\n",
              "      <td>5</td>\n",
              "      <td>3</td>\n",
              "    </tr>\n",
              "    <tr>\n",
              "      <th>2</th>\n",
              "      <td>9</td>\n",
              "      <td>1</td>\n",
              "    </tr>\n",
              "    <tr>\n",
              "      <th>3</th>\n",
              "      <td>0</td>\n",
              "      <td>0</td>\n",
              "    </tr>\n",
              "    <tr>\n",
              "      <th>4</th>\n",
              "      <td>18</td>\n",
              "      <td>3</td>\n",
              "    </tr>\n",
              "    <tr>\n",
              "      <th>...</th>\n",
              "      <td>...</td>\n",
              "      <td>...</td>\n",
              "    </tr>\n",
              "    <tr>\n",
              "      <th>688</th>\n",
              "      <td>26488</td>\n",
              "      <td>14939</td>\n",
              "    </tr>\n",
              "    <tr>\n",
              "      <th>689</th>\n",
              "      <td>24030</td>\n",
              "      <td>17833</td>\n",
              "    </tr>\n",
              "    <tr>\n",
              "      <th>690</th>\n",
              "      <td>23417</td>\n",
              "      <td>15802</td>\n",
              "    </tr>\n",
              "    <tr>\n",
              "      <th>691</th>\n",
              "      <td>21533</td>\n",
              "      <td>13619</td>\n",
              "    </tr>\n",
              "    <tr>\n",
              "      <th>692</th>\n",
              "      <td>23784</td>\n",
              "      <td>19234</td>\n",
              "    </tr>\n",
              "  </tbody>\n",
              "</table>\n",
              "<p>693 rows × 2 columns</p>\n",
              "</div>\n",
              "      <button class=\"colab-df-convert\" onclick=\"convertToInteractive('df-63c77472-9454-4df1-aa8e-27cff97cc5f4')\"\n",
              "              title=\"Convert this dataframe to an interactive table.\"\n",
              "              style=\"display:none;\">\n",
              "        \n",
              "  <svg xmlns=\"http://www.w3.org/2000/svg\" height=\"24px\"viewBox=\"0 0 24 24\"\n",
              "       width=\"24px\">\n",
              "    <path d=\"M0 0h24v24H0V0z\" fill=\"none\"/>\n",
              "    <path d=\"M18.56 5.44l.94 2.06.94-2.06 2.06-.94-2.06-.94-.94-2.06-.94 2.06-2.06.94zm-11 1L8.5 8.5l.94-2.06 2.06-.94-2.06-.94L8.5 2.5l-.94 2.06-2.06.94zm10 10l.94 2.06.94-2.06 2.06-.94-2.06-.94-.94-2.06-.94 2.06-2.06.94z\"/><path d=\"M17.41 7.96l-1.37-1.37c-.4-.4-.92-.59-1.43-.59-.52 0-1.04.2-1.43.59L10.3 9.45l-7.72 7.72c-.78.78-.78 2.05 0 2.83L4 21.41c.39.39.9.59 1.41.59.51 0 1.02-.2 1.41-.59l7.78-7.78 2.81-2.81c.8-.78.8-2.07 0-2.86zM5.41 20L4 18.59l7.72-7.72 1.47 1.35L5.41 20z\"/>\n",
              "  </svg>\n",
              "      </button>\n",
              "      \n",
              "  <style>\n",
              "    .colab-df-container {\n",
              "      display:flex;\n",
              "      flex-wrap:wrap;\n",
              "      gap: 12px;\n",
              "    }\n",
              "\n",
              "    .colab-df-convert {\n",
              "      background-color: #E8F0FE;\n",
              "      border: none;\n",
              "      border-radius: 50%;\n",
              "      cursor: pointer;\n",
              "      display: none;\n",
              "      fill: #1967D2;\n",
              "      height: 32px;\n",
              "      padding: 0 0 0 0;\n",
              "      width: 32px;\n",
              "    }\n",
              "\n",
              "    .colab-df-convert:hover {\n",
              "      background-color: #E2EBFA;\n",
              "      box-shadow: 0px 1px 2px rgba(60, 64, 67, 0.3), 0px 1px 3px 1px rgba(60, 64, 67, 0.15);\n",
              "      fill: #174EA6;\n",
              "    }\n",
              "\n",
              "    [theme=dark] .colab-df-convert {\n",
              "      background-color: #3B4455;\n",
              "      fill: #D2E3FC;\n",
              "    }\n",
              "\n",
              "    [theme=dark] .colab-df-convert:hover {\n",
              "      background-color: #434B5C;\n",
              "      box-shadow: 0px 1px 3px 1px rgba(0, 0, 0, 0.15);\n",
              "      filter: drop-shadow(0px 1px 2px rgba(0, 0, 0, 0.3));\n",
              "      fill: #FFFFFF;\n",
              "    }\n",
              "  </style>\n",
              "\n",
              "      <script>\n",
              "        const buttonEl =\n",
              "          document.querySelector('#df-63c77472-9454-4df1-aa8e-27cff97cc5f4 button.colab-df-convert');\n",
              "        buttonEl.style.display =\n",
              "          google.colab.kernel.accessAllowed ? 'block' : 'none';\n",
              "\n",
              "        async function convertToInteractive(key) {\n",
              "          const element = document.querySelector('#df-63c77472-9454-4df1-aa8e-27cff97cc5f4');\n",
              "          const dataTable =\n",
              "            await google.colab.kernel.invokeFunction('convertToInteractive',\n",
              "                                                     [key], {});\n",
              "          if (!dataTable) return;\n",
              "\n",
              "          const docLinkHtml = 'Like what you see? Visit the ' +\n",
              "            '<a target=\"_blank\" href=https://colab.research.google.com/notebooks/data_table.ipynb>data table notebook</a>'\n",
              "            + ' to learn more about interactive tables.';\n",
              "          element.innerHTML = '';\n",
              "          dataTable['output_type'] = 'display_data';\n",
              "          await google.colab.output.renderOutput(dataTable, element);\n",
              "          const docLink = document.createElement('div');\n",
              "          docLink.innerHTML = docLinkHtml;\n",
              "          element.appendChild(docLink);\n",
              "        }\n",
              "      </script>\n",
              "    </div>\n",
              "  </div>\n",
              "  "
            ]
          },
          "metadata": {},
          "execution_count": 15
        }
      ]
    },
    {
      "cell_type": "code",
      "source": [
        "sns.lineplot(data = city)\n",
        "plt.show()"
      ],
      "metadata": {
        "id": "4ghg6pBftH71"
      },
      "execution_count": null,
      "outputs": []
    },
    {
      "cell_type": "markdown",
      "source": [
        "В seaborn есть несколько датасетов от создателей библиотеки. Можно скачать [отсюда](https://github.com/mwaskom/seaborn-data), если не откроются через load_dataset(), встроенный в библиотеку"
      ],
      "metadata": {
        "id": "mX_h283iv7d0"
      }
    },
    {
      "cell_type": "code",
      "source": [
        "tips = sns.load_dataset(\"tips\")"
      ],
      "metadata": {
        "id": "Mt4Dchlfu64I"
      },
      "execution_count": 18,
      "outputs": []
    },
    {
      "cell_type": "code",
      "source": [
        "tips.head()"
      ],
      "metadata": {
        "id": "BEJz88fowMwQ"
      },
      "execution_count": null,
      "outputs": []
    },
    {
      "cell_type": "markdown",
      "source": [
        "Давайте визуализируем распределения общего счета по дням недели. Для визуализации потребуется метод .catplot() Заголовки соответвующих ячеек присвоим аргументам x и y.\n",
        "\n",
        "Тип отображения (параметр kind)тоже можно менять (попробуйте \"point\", \"bar\", \"strip\", \"swarm\", \"box\", \"violin\" или \"boxen\")"
      ],
      "metadata": {
        "id": "Y2bX3IJTxek1"
      }
    },
    {
      "cell_type": "code",
      "source": [
        "sns.catplot(x = \"day\", y = \"total_bill\", kind= \"strip\", data = tips)\n",
        "plt.show()"
      ],
      "metadata": {
        "id": "eBpGsE0IlzlC"
      },
      "execution_count": null,
      "outputs": []
    },
    {
      "cell_type": "markdown",
      "source": [
        "Можно достаточно легко и быстро отобразить на графике несколько показателей:\n",
        "\n",
        "Ниже - распределение значений итогового счета(ось y) в зависимости от пола (ось x). Дополнительно цветом (параметр hue) можно закодировать еще одно значение с помощью цвета. Например,является ли посетитель курильщиком"
      ],
      "metadata": {
        "id": "O1GUmMbTx0Vn"
      }
    },
    {
      "cell_type": "code",
      "source": [
        "sns.catplot(x = \"sex\", y = \"total_bill\", hue = \"smoker\", kind = \"bar\", data = tips)\n",
        "plt.show()"
      ],
      "metadata": {
        "id": "fLjqdFo9xUXV"
      },
      "execution_count": null,
      "outputs": []
    },
    {
      "cell_type": "code",
      "source": [
        "# так выглядит распределение размера счета и чаевых\n",
        "sns.catplot(x = \"total_bill\", y = \"tip\", kind = \"strip\", data=tips)\n",
        "plt.show()\n",
        "# не самая удачная визуализация, еще и долго строится - есть решение лучше"
      ],
      "metadata": {
        "id": "Cm3zurjxygXw"
      },
      "execution_count": null,
      "outputs": []
    },
    {
      "cell_type": "code",
      "source": [
        "# jointplot - показывает распределение по 2 переменным + в hue можно добавить категориальные данные\n",
        "sns.jointplot(x ='total_bill', y = 'tip', hue = 'sex', data = tips)\n",
        "plt.show()"
      ],
      "metadata": {
        "id": "JrWcG5AV7Jkb"
      },
      "execution_count": null,
      "outputs": []
    },
    {
      "cell_type": "code",
      "source": [
        "# можно строить линейную регрессию (для определения зависимости двух показателей, рассчитывается функция линейной зависимости)\n",
        "sns.lmplot(x ='total_bill', y = 'tip', data = tips)\n",
        "plt.show()"
      ],
      "metadata": {
        "id": "CN9b1PmI7-uy"
      },
      "execution_count": null,
      "outputs": []
    },
    {
      "cell_type": "code",
      "source": [
        "# заодно проверим, меняются ли счет / чаевые в связи со временем посещения - в обед или ужин\n",
        "sns.lmplot(x ='total_bill', y = 'tip', hue = 'time', data = tips)\n",
        "plt.show()"
      ],
      "metadata": {
        "id": "xuUK9Zvr817e"
      },
      "execution_count": null,
      "outputs": []
    },
    {
      "cell_type": "code",
      "source": [
        "sns.pairplot(tips, hue='sex') # график из темы корреляция, но с категориальными данными!\n",
        "plt.show()"
      ],
      "metadata": {
        "id": "_xqrKedf09za"
      },
      "execution_count": null,
      "outputs": []
    },
    {
      "cell_type": "markdown",
      "source": [
        "### Доп. задание:\n",
        "\n",
        "Ниже - загрузка датасета про пингвинов из seaborn (можно найти на гитхабе создателей библиотеки или нашем гитхабе курса)\n",
        "\n",
        "Постройте:\n",
        "- catplot\n",
        "- jointplot\n",
        "- lmplot\n",
        "\n",
        "В качестве категории используйте вид пингвинов или остров"
      ],
      "metadata": {
        "id": "hwEq1qXB6UBb"
      }
    },
    {
      "cell_type": "code",
      "source": [
        "peng_data = sns.load_dataset('penguins')\n",
        "peng_data"
      ],
      "metadata": {
        "id": "WFjamp9b6CKs"
      },
      "execution_count": null,
      "outputs": []
    },
    {
      "cell_type": "code",
      "source": [],
      "metadata": {
        "id": "BlAMN_i323bA"
      },
      "execution_count": null,
      "outputs": []
    },
    {
      "cell_type": "code",
      "source": [],
      "metadata": {
        "id": "Et7VIayy23Sm"
      },
      "execution_count": null,
      "outputs": []
    },
    {
      "cell_type": "code",
      "source": [],
      "metadata": {
        "id": "Kw7Y1izg23MG"
      },
      "execution_count": null,
      "outputs": []
    },
    {
      "cell_type": "markdown",
      "source": [
        "### Дополнительно:\n",
        "\n",
        "Список телеграм-каналов по анализу данных и датавизу, которые читаю я, здесь:\n",
        "\n",
        "https://t.me/chartomojka\n",
        "\n",
        "https://t.me/nastengraph\n",
        "\n",
        "https://t.me/data_publication\n",
        "\n",
        "https://t.me/dashboardets\n",
        "\n",
        "https://t.me/callmedata\n",
        "\n",
        "https://t.me/designing_numbers\n",
        "\n",
        "https://t.me/weekly_charts\n"
      ],
      "metadata": {
        "id": "JdhQ6rxAD8BN"
      }
    }
  ]
}