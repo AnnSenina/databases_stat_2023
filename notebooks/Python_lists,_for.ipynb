{
  "nbformat": 4,
  "nbformat_minor": 0,
  "metadata": {
    "colab": {
      "provenance": [],
      "authorship_tag": "ABX9TyOis8O9/xMNGm8wYn9EW/fX",
      "include_colab_link": true
    },
    "kernelspec": {
      "name": "python3",
      "display_name": "Python 3"
    },
    "language_info": {
      "name": "python"
    }
  },
  "cells": [
    {
      "cell_type": "markdown",
      "metadata": {
        "id": "view-in-github",
        "colab_type": "text"
      },
      "source": [
        "<a href=\"https://colab.research.google.com/github/AnnSenina/databases_stat_2023/blob/main/notebooks/Python_lists%2C_for.ipynb\" target=\"_parent\"><img src=\"https://colab.research.google.com/assets/colab-badge.svg\" alt=\"Open In Colab\"/></a>"
      ]
    },
    {
      "cell_type": "code",
      "source": [
        "books = ['Блок М. Короли-чудотворцы', 'Гинзбург К. Сыр и черви']"
      ],
      "metadata": {
        "id": "wXUbEMRWIMwT"
      },
      "execution_count": null,
      "outputs": []
    },
    {
      "cell_type": "code",
      "source": [
        "print(books + 'Э. Ле Руа Ладюри. Монтайю, окситанская деревня')\n",
        "# попробуйте угадать, что пошло не так?"
      ],
      "metadata": {
        "id": "2Jc6gdqkTrcx"
      },
      "execution_count": null,
      "outputs": []
    },
    {
      "cell_type": "code",
      "source": [
        "# исправим:\n",
        "print(books + ['Э. Ле Руа Ладюри. Монтайю, окситанская деревня', ])"
      ],
      "metadata": {
        "id": "VQMOfY7CUJoT"
      },
      "execution_count": null,
      "outputs": []
    },
    {
      "cell_type": "code",
      "source": [
        "print('abc' * 10)\n",
        "print(books * 2)"
      ],
      "metadata": {
        "id": "ULJL81aIUNxE"
      },
      "execution_count": null,
      "outputs": []
    },
    {
      "cell_type": "markdown",
      "source": [
        "# А теперь разберемся, как работает важнейшее свойство списков?"
      ],
      "metadata": {
        "id": "Nr4b6lqUUYo8"
      }
    },
    {
      "cell_type": "code",
      "source": [
        "books = books * 2\n",
        "print(books) # запустите несколько раз"
      ],
      "metadata": {
        "id": "w5QUeKunUXPm"
      },
      "execution_count": null,
      "outputs": []
    },
    {
      "cell_type": "code",
      "source": [
        "books = books[:2]\n",
        "books"
      ],
      "metadata": {
        "id": "YhLqjUlzMCQ7"
      },
      "execution_count": null,
      "outputs": []
    },
    {
      "cell_type": "code",
      "source": [
        "book = 'Н. Земон-Дэвис. Дамы на обочине'\n",
        "books[1] = book \n",
        "print(books)\n",
        "# запустите, что происходит?"
      ],
      "metadata": {
        "id": "GUPpZ144UjzH"
      },
      "execution_count": null,
      "outputs": []
    },
    {
      "cell_type": "markdown",
      "source": [
        "# Красиво напечатаем списки"
      ],
      "metadata": {
        "id": "JKfjVznJWY_d"
      }
    },
    {
      "cell_type": "code",
      "source": [
        "print(books) # некрасиво! :)"
      ],
      "metadata": {
        "id": "LD-yR44ZWbpu"
      },
      "execution_count": null,
      "outputs": []
    },
    {
      "cell_type": "code",
      "source": [
        "print(*books) # * - оператор распаковки\n",
        "# почему напечаталось через пробел? и в одну строку?\n",
        "# а можно ли напечатать по-другому?"
      ],
      "metadata": {
        "id": "woZYjWxLWgP-"
      },
      "execution_count": null,
      "outputs": []
    },
    {
      "cell_type": "code",
      "source": [
        "help(print)"
      ],
      "metadata": {
        "id": "PHRQUmEANtsZ"
      },
      "execution_count": null,
      "outputs": []
    },
    {
      "cell_type": "code",
      "source": [
        "# попробуйте напечатать все книжки через запятую \\ с новой строки\n",
        "\n"
      ],
      "metadata": {
        "id": "TXiEik0SWwCi"
      },
      "execution_count": null,
      "outputs": []
    },
    {
      "cell_type": "markdown",
      "source": [
        "# Новый и прекрасный цикл for"
      ],
      "metadata": {
        "id": "G6rr0j7hXVE0"
      }
    },
    {
      "cell_type": "code",
      "source": [
        "c = [1, 16541, 35164, 66.44538]\n",
        "print('a' in 'abc')\n",
        "print(5000 in c)"
      ],
      "metadata": {
        "id": "PMJo8AtSP6RG"
      },
      "execution_count": null,
      "outputs": []
    },
    {
      "cell_type": "code",
      "source": [
        "c = [1, 16541, 35164, 66.44538]\n",
        "for i in c: # i - каждый элемент в списке с по порядку\n",
        "  print(i)\n",
        "# что такое i?\n",
        "# почему i не вызывает ошибку NameError"
      ],
      "metadata": {
        "id": "Vy0tUEJcXZOV"
      },
      "execution_count": null,
      "outputs": []
    },
    {
      "cell_type": "code",
      "source": [
        "for i in c:\n",
        "  print(100000000 + i)"
      ],
      "metadata": {
        "id": "vHt95gtIXoim"
      },
      "execution_count": null,
      "outputs": []
    },
    {
      "cell_type": "markdown",
      "source": [
        "У каждого списка есть индексы - можно заставить пайтон напечатать все индексы списка:"
      ],
      "metadata": {
        "id": "ksFQa1mGXzuL"
      }
    },
    {
      "cell_type": "code",
      "source": [
        "for i in range(len(c)): # range - генерирует последовательность чисел\n",
        "  # len - считатет длину\n",
        "  print(i)"
      ],
      "metadata": {
        "id": "kXeRx5zUXv2w"
      },
      "execution_count": null,
      "outputs": []
    },
    {
      "cell_type": "code",
      "source": [
        "# объединим\n",
        "for i in range(len(c)): # i = 0, 1, 2, 3\n",
        "  print(c[i], 'печатаем элемент')\n",
        "  print(i, 'печатаем его индекс')"
      ],
      "metadata": {
        "id": "mMWgMWRqX-lA"
      },
      "execution_count": null,
      "outputs": []
    },
    {
      "cell_type": "code",
      "source": [
        "# а зачем перебирать поэлементно?\n",
        "# две типичные ситуации:\n",
        "\n",
        "# 1. давайте заменим все вещественные числа - целыми\n",
        "\n",
        "# пытаетмся:\n",
        "for i in c:\n",
        "  if type(i) == float:\n",
        "    i = round(i) # round - коварное округление, но поговорим о нем в другой раз"
      ],
      "metadata": {
        "id": "YZBD8QaXYMzW"
      },
      "execution_count": null,
      "outputs": []
    },
    {
      "cell_type": "code",
      "source": [
        "print(c)\n",
        "# замены не произошло, почему?"
      ],
      "metadata": {
        "id": "sLjdSwHCY5TE"
      },
      "execution_count": null,
      "outputs": []
    },
    {
      "cell_type": "code",
      "source": [
        "# сравните:\n",
        "for i in range(len(c)):\n",
        "  if type(c[i]) == float:\n",
        "    c[i] = round(c[i])\n",
        "print(c)"
      ],
      "metadata": {
        "id": "pcleqfSOY-1X"
      },
      "execution_count": null,
      "outputs": []
    },
    {
      "cell_type": "code",
      "source": [
        "# 2 типичная ситуация: несколько списков одинаковой длины\n",
        "ann = ['HSE', 'lecturer', 'python']\n",
        "iliana = ['HSE', 'lecturer', 'project']\n",
        "daniil = ['Perm State University', 'lecturer', 'informatics']\n",
        "# а как напечатать университет / вуз / дисциплину из всех трех списков?\n",
        "for i in range(len(iliana)): # i = 0, 1, 2\n",
        "  print(ann[i], iliana[i], daniil[i], sep=', ')"
      ],
      "metadata": {
        "id": "ZWqa9moMZW7O"
      },
      "execution_count": null,
      "outputs": []
    },
    {
      "cell_type": "code",
      "source": [
        "names = ['ann', 'iliana']\n",
        "marks = [7, 8]\n",
        "for i in range(len(marks)):\n",
        "  print('Студент', names[i], 'получил оценку:', marks[i])"
      ],
      "metadata": {
        "id": "kDSJPZ3VTpBZ"
      },
      "execution_count": null,
      "outputs": []
    },
    {
      "cell_type": "markdown",
      "source": [
        "### range(от, до, шаг)"
      ],
      "metadata": {
        "id": "euBMQ9LFbUhL"
      }
    },
    {
      "cell_type": "code",
      "source": [
        "# а range откуда пришел? он не страшный :)\n",
        "print(*range(10)) # от 0 по умолчанию до 9\n",
        "\n",
        "print(*range(1, 10)) # указать: от 1 до 9\n",
        "\n",
        "d = list(range(10, 50)) # от 10 до 49 и преврати в список\n",
        "print(d)\n",
        "# генерирует числовые последовательности\n",
        "\n",
        "print(list(range(0, 100, 5)), sep=', ') # от 0 до 99 с шагом в 5\n",
        "# даже умеет делать это с шагом, как в индексации строк и списков"
      ],
      "metadata": {
        "id": "jKpnMjy-axxv"
      },
      "execution_count": null,
      "outputs": []
    },
    {
      "cell_type": "markdown",
      "source": [
        "# Множество данных\n",
        "\n",
        "Контейнеры олично подходят для хранения не единичной переменной, а их большого количества\n",
        "\n",
        "Со списков и начинается настоящая работа с данными"
      ],
      "metadata": {
        "id": "d7X_5jt1U3F3"
      }
    },
    {
      "cell_type": "code",
      "source": [
        "survey = [\n",
        "    ['Анна', 27, 'НИУ ВШЭ', 4.97], \n",
        "    ['Илиана', 27, 'НИУ ВШЭ', 5.0]\n",
        "    ]"
      ],
      "metadata": {
        "id": "BjDucQFPVdEd"
      },
      "execution_count": null,
      "outputs": []
    },
    {
      "cell_type": "code",
      "source": [
        "# списки - хорошо структурируемые данные\n",
        "import pandas as pd\n",
        "data = pd.DataFrame(survey, columns=['name', 'age', 'uni', 'gpa'])\n",
        "data"
      ],
      "metadata": {
        "id": "5u215iXFVt-r"
      },
      "execution_count": null,
      "outputs": []
    },
    {
      "cell_type": "markdown",
      "source": [
        "# Пробуем решить задачу\n",
        "\n"
      ],
      "metadata": {
        "id": "f3aWR9KqbdCh"
      }
    },
    {
      "cell_type": "markdown",
      "source": [
        "###Задача 1\n",
        "\n",
        "Вы организуете конферецию, и вас попросили напечатать таблички для ключевых спикеров.\n",
        "\n",
        "Список с их именами у вас есть.\n",
        "\n",
        "Напечатайте их в формате: имя из списка, проф."
      ],
      "metadata": {
        "id": "7fuzuyHbdKUN"
      }
    },
    {
      "cell_type": "code",
      "source": [
        "# Корниенко С.И., проф.\n",
        "names = ['Корниенко С.И.', 'Гагарина Д.А.', 'Глушков А.В']\n",
        "\n",
        "\n",
        "  # ваш код"
      ],
      "metadata": {
        "id": "IFwhZ_VfdJvL"
      },
      "execution_count": null,
      "outputs": []
    },
    {
      "cell_type": "markdown",
      "source": [
        "### Задача 2\n",
        "Ваш коллега передает вам нескольких клиентов. Узнайте, сколько их будет, а затем добавляйте их имена в список names, пока коллега назвает их вслух!)"
      ],
      "metadata": {
        "id": "vdpL-KVCeuXa"
      }
    },
    {
      "cell_type": "code",
      "source": [
        "names = []\n",
        "num = int(input())\n",
        "for i in range(num):\n",
        "  # ваш код\n",
        "\n",
        "  "
      ],
      "metadata": {
        "id": "ovNs4b3Fetk9"
      },
      "execution_count": null,
      "outputs": []
    }
  ]
}