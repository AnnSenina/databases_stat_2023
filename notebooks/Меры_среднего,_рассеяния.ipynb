{
  "nbformat": 4,
  "nbformat_minor": 0,
  "metadata": {
    "colab": {
      "provenance": [],
      "authorship_tag": "ABX9TyMgAUVMWPuAG2Ey5+5tgbnE",
      "include_colab_link": true
    },
    "kernelspec": {
      "name": "python3",
      "display_name": "Python 3"
    },
    "language_info": {
      "name": "python"
    }
  },
  "cells": [
    {
      "cell_type": "markdown",
      "metadata": {
        "id": "view-in-github",
        "colab_type": "text"
      },
      "source": [
        "<a href=\"https://colab.research.google.com/github/AnnSenina/databases_stat_2023/blob/main/notebooks/%D0%9C%D0%B5%D1%80%D1%8B_%D1%81%D1%80%D0%B5%D0%B4%D0%BD%D0%B5%D0%B3%D0%BE%2C_%D1%80%D0%B0%D1%81%D1%81%D0%B5%D1%8F%D0%BD%D0%B8%D1%8F.ipynb\" target=\"_parent\"><img src=\"https://colab.research.google.com/assets/colab-badge.svg\" alt=\"Open In Colab\"/></a>"
      ]
    },
    {
      "cell_type": "markdown",
      "source": [
        "# Открываем данные"
      ],
      "metadata": {
        "id": "PTvnxq-ico5v"
      }
    },
    {
      "cell_type": "code",
      "source": [
        "import pandas as pd\n",
        "import numpy as np\n",
        "import matplotlib.pyplot as plt"
      ],
      "metadata": {
        "id": "t0UH2ht-ckiK"
      },
      "execution_count": null,
      "outputs": []
    },
    {
      "cell_type": "markdown",
      "source": [
        "### Меры среднего"
      ],
      "metadata": {
        "id": "DVfZrirScv0o"
      }
    },
    {
      "cell_type": "code",
      "execution_count": null,
      "metadata": {
        "id": "W74SpjZqy9TI"
      },
      "outputs": [],
      "source": [
        "df = pd.read_csv('https://raw.githubusercontent.com/AnnSenina/databases_stat_2023/main/BikeDataVar.csv')\n",
        "df.head()\n",
        "df.describe()"
      ]
    },
    {
      "cell_type": "code",
      "source": [
        "df['Humidity'].mean()"
      ],
      "metadata": {
        "id": "PftKNAMMSvTb"
      },
      "execution_count": null,
      "outputs": []
    },
    {
      "cell_type": "code",
      "source": [
        "df['Humidity'].median()"
      ],
      "metadata": {
        "id": "Udo9cQOaS58r"
      },
      "execution_count": null,
      "outputs": []
    },
    {
      "cell_type": "code",
      "source": [
        "df['Humidity'].mode()"
      ],
      "metadata": {
        "id": "C3lN1_XgTERL"
      },
      "execution_count": null,
      "outputs": []
    },
    {
      "cell_type": "code",
      "source": [
        "df['Humidity'].hist(bins=100);\n",
        "# смотрим, похоже ли отдаленно на распределение Гаусса (нормальное распределение)?"
      ],
      "metadata": {
        "id": "0o709ZB0TrbD"
      },
      "execution_count": null,
      "outputs": []
    },
    {
      "cell_type": "code",
      "source": [
        "df['Temperature Category'].mode()\n",
        "# мода считается и для категориальных переменных"
      ],
      "metadata": {
        "id": "PzB8l1AbV5PB"
      },
      "execution_count": null,
      "outputs": []
    },
    {
      "cell_type": "markdown",
      "source": [
        "### работаем с группировками"
      ],
      "metadata": {
        "id": "_cyxtagpdJdX"
      }
    },
    {
      "cell_type": "code",
      "source": [
        "df.groupby('Hour')['Rental Count'].mean() # велисипеды в каждый час"
      ],
      "metadata": {
        "id": "gX6IXLulT_L5"
      },
      "execution_count": null,
      "outputs": []
    },
    {
      "cell_type": "code",
      "source": [
        "df.groupby('Hour')['Rental Count'].mean().plot(kind='bar');"
      ],
      "metadata": {
        "id": "5uD2_CwHUnbr"
      },
      "execution_count": null,
      "outputs": []
    },
    {
      "cell_type": "code",
      "source": [
        "df.groupby('Temperature Category')['Temperature'].mean()"
      ],
      "metadata": {
        "id": "taHfR84IWZ4M"
      },
      "execution_count": null,
      "outputs": []
    },
    {
      "cell_type": "code",
      "source": [
        "df.groupby('Temperature Category')['Temperature'].median()"
      ],
      "metadata": {
        "id": "YRK5AUApWnz9"
      },
      "execution_count": null,
      "outputs": []
    },
    {
      "cell_type": "markdown",
      "source": [
        "### сложности с модой...\n",
        "\n",
        "Для сгруппированных данных нельзя напрямую посчитать моду\n",
        "\n",
        "Но! Есть специальный метод .agg в pandas (агрегирование данных), который позволяет посчитать все, что угодно :)\n",
        "\n",
        "Документация [здесь](https://pandas.pydata.org/docs/reference/api/pandas.DataFrame.agg.html)\n",
        "\n",
        "А вот здесь есть еще одна [тетрадка с примерами](https://dfedorov.spb.ru/pandas/%D0%9E%D0%B1%D1%8A%D1%8F%D1%81%D0%BD%D0%B5%D0%BD%D0%B8%D0%B5%20%D1%84%D1%83%D0%BD%D0%BA%D1%86%D0%B8%D0%B9%20Grouper%20%D0%B8%20Agg%20%D0%B2%20Pandas.html) "
      ],
      "metadata": {
        "id": "4eZOkI9fdO3c"
      }
    },
    {
      "cell_type": "code",
      "source": [
        "df.groupby('Temperature Category')['Temperature'].agg(pd.Series.mode)"
      ],
      "metadata": {
        "id": "nWVpdnoDWuAB"
      },
      "execution_count": null,
      "outputs": []
    },
    {
      "cell_type": "code",
      "source": [
        "df.groupby('Seasons')['Temperature Category'].agg(pd.Series.mode)\n",
        "# даже моду к категориальным данным, сгруппированным по другой категориальной переменной :)"
      ],
      "metadata": {
        "id": "adQOq0knXYLW"
      },
      "execution_count": null,
      "outputs": []
    },
    {
      "cell_type": "markdown",
      "source": [
        "# Меры рассеяния (вариативности)"
      ],
      "metadata": {
        "id": "HcigNY_8YTQ6"
      }
    },
    {
      "cell_type": "code",
      "source": [
        "df.describe()"
      ],
      "metadata": {
        "id": "NqH9nzynYd0W"
      },
      "execution_count": null,
      "outputs": []
    },
    {
      "cell_type": "code",
      "source": [
        "df['Humidity'].var() # для выборки\n",
        "# отличия: значения для выборки будут несколько выше, чем для ГС\n",
        "# это сделано искусствено, т.к. более типичные значения распределены близко к среднему, их много -> они чаще попадают в выборку\n",
        "# считается, что любая выборка будет несколько недооценивать разнообразие данных\n",
        "# хитрые математики придумали выход (делят не на объем выборки n, а на n - 1) -> искусственно повышают разнообразие (рассеяние, вариативность) выборки"
      ],
      "metadata": {
        "id": "Sba6A2hQYkYv"
      },
      "execution_count": null,
      "outputs": []
    },
    {
      "cell_type": "code",
      "source": [
        "df['Humidity'].var(ddof=0) # для ГС"
      ],
      "metadata": {
        "id": "gBwOKNeiYvxe"
      },
      "execution_count": null,
      "outputs": []
    },
    {
      "cell_type": "code",
      "source": [
        "df['Humidity'].std() # для выборки"
      ],
      "metadata": {
        "id": "r5Q7A33VZDTO"
      },
      "execution_count": null,
      "outputs": []
    },
    {
      "cell_type": "code",
      "source": [
        "df['Humidity'].std(ddof=0) # для ГС"
      ],
      "metadata": {
        "id": "WzuK7O7WZJkh"
      },
      "execution_count": null,
      "outputs": []
    },
    {
      "cell_type": "code",
      "source": [
        "c_var = df['Humidity'].std(ddof=0) / df['Humidity'].mean() * 100\n",
        "# c_var\n",
        "print(c_var. '%')\n",
        "# переходная совокупность (коэффициент вариации - формулка из презентации), значение в процентах"
      ],
      "metadata": {
        "id": "68Lp7PlTZZ2-"
      },
      "execution_count": null,
      "outputs": []
    },
    {
      "cell_type": "code",
      "source": [
        "df['Humidity'].max() - df['Humidity'].min() # размах"
      ],
      "metadata": {
        "id": "kO0N_eoabao9"
      },
      "execution_count": null,
      "outputs": []
    },
    {
      "cell_type": "code",
      "source": [
        "df.describe()['Humidity']['75%'] - df.describe()['Humidity']['25%'] # межвартильное расстояние"
      ],
      "metadata": {
        "id": "VUdNFS6pZ-Xg"
      },
      "execution_count": null,
      "outputs": []
    },
    {
      "cell_type": "code",
      "source": [
        "df.describe()['Humidity']['25%'] # так ищем квартили (25%, 50%, 75%)"
      ],
      "metadata": {
        "id": "Sr-Kkg2_awUg"
      },
      "execution_count": null,
      "outputs": []
    },
    {
      "cell_type": "code",
      "source": [
        "np.quantile(df['Humidity'], 0.25) # 25, 50, 75"
      ],
      "metadata": {
        "id": "iH6NhyAfayNF"
      },
      "execution_count": null,
      "outputs": []
    },
    {
      "cell_type": "code",
      "source": [
        "np.percentile(df['Humidity'], 90) # любой процентиль (1 квартиль = 25% процентиль)"
      ],
      "metadata": {
        "id": "WShveQ3nacCq"
      },
      "execution_count": null,
      "outputs": []
    },
    {
      "cell_type": "markdown",
      "source": [
        "### квартили мы видим на ящиках с усами\n",
        "\n",
        "Нижний \"ус\" до начала ящика - первые 25% значений совокупности (= 1 квартиль), четверть самых маленьких значений в выборке (или ГС)\n",
        "\n",
        "Ящик - половина всех значений, распределенные близко к медиане (2 и 3 квартили = от 25% до 75% процентиля)\n",
        "\n",
        "Верзний \"ус\" - с 75% процентиля и выше (= 4 квартиль), четветь самых больших значений в выборке (или ГС)\n",
        "\n",
        "Вне \"усов\" расположены выбросы"
      ],
      "metadata": {
        "id": "2jjpGt9XgA2-"
      }
    },
    {
      "cell_type": "markdown",
      "source": [
        "# Основные короткие формулки\n",
        "\n",
        "mean()\n",
        "\n",
        "median()\n",
        "\n",
        "mode()\n",
        "\n",
        "std()\n",
        "\n",
        "var()\n",
        "\n",
        "np.percentile\n",
        "\n",
        "np.quantile"
      ],
      "metadata": {
        "id": "IgGQFbGKb8ZW"
      }
    },
    {
      "cell_type": "markdown",
      "source": [
        "# Выбросы"
      ],
      "metadata": {
        "id": "Dn7v2QnCqk8i"
      }
    },
    {
      "cell_type": "code",
      "source": [
        "df.describe()['Humidity']['25%'] # так ищем квартили (25%, 50%, 75%)"
      ],
      "metadata": {
        "id": "ocm4NG87qkZq"
      },
      "execution_count": null,
      "outputs": []
    },
    {
      "cell_type": "code",
      "source": [
        "df.describe()['Humidity']['75%'] # так ищем квартили (25%, 50%, 75%)"
      ],
      "metadata": {
        "id": "9cJ1cyIbq4Nv"
      },
      "execution_count": null,
      "outputs": []
    },
    {
      "cell_type": "code",
      "source": [
        "d = df.describe()['Humidity']['75%'] - df.describe()['Humidity']['25%']\n",
        "d"
      ],
      "metadata": {
        "id": "vjIFoDGrq6Qt"
      },
      "execution_count": null,
      "outputs": []
    },
    {
      "cell_type": "code",
      "source": [
        "# выбросы справа\n",
        "r = df.describe()['Humidity']['75%'] + 1.5 * d\n",
        "# все значения больше r (122) являются выбросами\n",
        "r"
      ],
      "metadata": {
        "id": "56aL9Q7Aq-u8"
      },
      "execution_count": null,
      "outputs": []
    },
    {
      "cell_type": "code",
      "source": [
        "len(df[df['Humidity'] > 122]) # выбросов справа нет"
      ],
      "metadata": {
        "id": "FCniPYTbreBz"
      },
      "execution_count": null,
      "outputs": []
    },
    {
      "cell_type": "code",
      "source": [
        "# выбросы слева\n",
        "l = df.describe()['Humidity']['25%'] - 1.5 * d\n",
        "# все значения меньше l являются выбросами\n",
        "l"
      ],
      "metadata": {
        "id": "0R0jh9mWrylt"
      },
      "execution_count": null,
      "outputs": []
    },
    {
      "cell_type": "code",
      "source": [
        "print(df['Humidity'].max())\n",
        "print(df['Humidity'].min())"
      ],
      "metadata": {
        "id": "ac5m8VKIr7wu"
      },
      "execution_count": null,
      "outputs": []
    },
    {
      "cell_type": "code",
      "source": [
        "df['Humidity'].hist(bins=100);"
      ],
      "metadata": {
        "id": "C9asOp5n5QfS"
      },
      "execution_count": null,
      "outputs": []
    },
    {
      "cell_type": "code",
      "source": [
        "plt.boxplot(df['Humidity']);"
      ],
      "metadata": {
        "id": "ZNt1wmYcsDbZ"
      },
      "execution_count": null,
      "outputs": []
    },
    {
      "cell_type": "code",
      "source": [
        "d = df.describe()['Rental Count']['75%'] - df.describe()['Rental Count']['25%']\n",
        "\n",
        "print(df.describe()['Rental Count']['75%'] + 1.5 * d)\n",
        "print(df.describe()['Rental Count']['25%'] - 1.5 * d)\n",
        "\n",
        "print(len(df[df['Rental Count'] > df.describe()['Rental Count']['75%'] + 1.5 * d]), 'выбросов справа')\n",
        "print(len(df[df['Rental Count'] < df.describe()['Rental Count']['25%'] - 1.5 * d]), 'выбросов слева')"
      ],
      "metadata": {
        "id": "ah3ai4RGs1MC"
      },
      "execution_count": null,
      "outputs": []
    },
    {
      "cell_type": "code",
      "source": [
        "df['Rental Count'].hist(bins=50)"
      ],
      "metadata": {
        "id": "D9J48hE_vA69"
      },
      "execution_count": null,
      "outputs": []
    },
    {
      "cell_type": "code",
      "source": [
        "plt.boxplot(df['Rental Count']);"
      ],
      "metadata": {
        "id": "Xq597AhxtYb1"
      },
      "execution_count": null,
      "outputs": []
    }
  ]
}